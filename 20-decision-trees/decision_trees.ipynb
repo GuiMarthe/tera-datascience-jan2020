{
 "cells": [
  {
   "cell_type": "markdown",
   "metadata": {
    "slideshow": {
     "slide_type": "slide"
    }
   },
   "source": [
    "# Árvores de Decisão\n",
    "\n",
    "<center>\n",
    "<br>\n",
    "<img src=\"https://annalyzin.files.wordpress.com/2016/07/decision-tree-tutorial-animated3.gif\"></center>"
   ]
  },
  {
   "cell_type": "markdown",
   "metadata": {
    "slideshow": {
     "slide_type": "slide"
    }
   },
   "source": [
    "# Expectativas\n",
    "\n",
    "<center>\n",
    "    <br>\n",
    "<img src=\"https://gifimage.net/wp-content/uploads/2018/06/thinking-gif-tumblr-13.gif\" alt=\"drawing\" width=\"700px\"></center>"
   ]
  },
  {
   "cell_type": "markdown",
   "metadata": {
    "slideshow": {
     "slide_type": "slide"
    }
   },
   "source": [
    "# Cartinhas de espécies de animais :)\n",
    "\n",
    "Vamos construir uma sequência de perguntas para classificar as espécies de animais apresentadas no baralho!\n",
    "\n",
    "<table>\n",
    "    <tr>\n",
    "        <td><img src=\"./images/cards1.jpg\" alt=\"drawing\" width=\"500px\"></td>\n",
    "        <td><img src=\"./images/cards_classes1.png\" alt=\"drawing\" width=\"155px\"></td>\n",
    "        <td><img src=\"./images/cards_classes2.png\" alt=\"drawing\" width=\"155px\"></td>\n",
    "    </tr>\n",
    "</table>\n",
    "\n",
    "Exemplos de perguntas (respostas *sim/não*):\n",
    "\n",
    "- *Tem coluna vertebral?*\n",
    "- *Vive na floresta tropical?*\n",
    "- *Tem pelo?*"
   ]
  },
  {
   "cell_type": "markdown",
   "metadata": {
    "slideshow": {
     "slide_type": "slide"
    }
   },
   "source": [
    "## Árvores de Decisão dos animais do baralho\n",
    "\n",
    "A **árvore de decisão** que criamos é um conjunto de perguntas que nos permitem separar os animais de acordo com as características selecionadas. As perguntas são feitas partindo do topo da árvore e seguindo para as folhas.\n",
    "\n",
    "<img src=\"./images/tree_classification_example.jpg\" alt=\"dieta\" width=\"500px\">"
   ]
  },
  {
   "cell_type": "markdown",
   "metadata": {
    "slideshow": {
     "slide_type": "slide"
    }
   },
   "source": [
    "# Classificação x Regressão Linear\n",
    "\n",
    "<table>\n",
    "    <tr>\n",
    "        <td> <img src=\"https://static.javatpoint.com/tutorial/machine-learning/images/regression-vs-classification-in-machine-learning.png\" width=\"500px\">  </td>\n",
    "            <td> <img src=\"https://miro.medium.com/max/775/1*Qn4eJPhkvrEQ62CtmydLZw.png\" width=\"400px\"> </td>\n",
    "     </tr>\n",
    " </table>\n",
    "\n",
    "## Exemplos??\n",
    "\n",
    "<img src=\"https://media.tenor.com/images/9fcba2eb63dff1cd97d8c7fc6fe56d48/tenor.gif\" alt=\"dieta\" width=\"500px\">"
   ]
  },
  {
   "cell_type": "markdown",
   "metadata": {
    "slideshow": {
     "slide_type": "slide"
    }
   },
   "source": [
    "# Como funciona a árvore de decisão para problemas de regressão?\n",
    "\n",
    "Exemplo com o dataset de Boston para precificação de imóveis:\n",
    "\n",
    "<img src=\"./images/boston-tree.svg\" alt=\"dieta\" width=\"700px\">"
   ]
  },
  {
   "cell_type": "markdown",
   "metadata": {
    "slideshow": {
     "slide_type": "slide"
    }
   },
   "source": [
    "# Árvores de Decisão - definição\n",
    "\n",
    "Árvores de decisão são ***modelos estatísticos*** que permitem ***aprender*** uma sequência de ***regras estruturadas*** em forma de árvore. O objetivo é aumentar a ***separação entre as instâncias*** de diferentes classes.\n",
    "\n",
    "## Conceitos importantes nesse contexto\n",
    "\n",
    "- Nós finais da árvore (folhas)\n",
    "\n",
    "- Nós com instâncias de uma única classe (Nós puros)\n",
    "\n",
    "- Atributos **numéricos** e **categóricos** (peso, altura, número de pata, etc)"
   ]
  },
  {
   "cell_type": "markdown",
   "metadata": {
    "slideshow": {
     "slide_type": "slide"
    }
   },
   "source": [
    "# Como avaliar quão boa é uma árvore de decisão?\n",
    "\n",
    "## Entropia: métrica da impureza/desordem\n",
    "\n",
    "<img src=\"./images/entropy.jpg\" alt=\"dieta\" width=\"600px\">\n",
    "\n",
    "<img src=\"./images/entropia.png\" alt=\"dieta\" width=\"400px\">"
   ]
  },
  {
   "cell_type": "markdown",
   "metadata": {
    "slideshow": {
     "slide_type": "slide"
    }
   },
   "source": [
    "# Na prática - Dataset Iris\n",
    "\n",
    "Esse dataset contém medidas da largura e comprimento da pétula e da sépala de 150 amostras de flores, assim como a espécie de cada uma (*versicolor*, *setosa*, *virginica*).\n",
    "\n",
    "Ref: https://scikit-learn.org/stable/auto_examples/datasets/plot_iris_dataset.html\n",
    "\n",
    "<img src=\"./images/iris_dataset.jpg\" alt=\"dieta\" width=\"600px\">"
   ]
  },
  {
   "cell_type": "code",
   "execution_count": 1,
   "metadata": {
    "ExecuteTime": {
     "end_time": "2020-03-01T03:33:55.954690Z",
     "start_time": "2020-03-01T03:33:54.018952Z"
    },
    "slideshow": {
     "slide_type": "slide"
    }
   },
   "outputs": [],
   "source": [
    "import pandas as pd\n",
    "from sklearn import datasets\n",
    "from sklearn import tree\n",
    "\n",
    "# Carregando os dados\n",
    "iris = datasets.load_iris()\n",
    "\n",
    "x = pd.DataFrame(iris.data, columns=iris.feature_names)\n",
    "y = pd.Series(iris.target)"
   ]
  },
  {
   "cell_type": "code",
   "execution_count": 2,
   "metadata": {
    "ExecuteTime": {
     "end_time": "2020-03-01T03:33:55.990289Z",
     "start_time": "2020-03-01T03:33:55.957162Z"
    },
    "slideshow": {
     "slide_type": "slide"
    }
   },
   "outputs": [],
   "source": [
    "from sklearn.model_selection import train_test_split\n",
    "\n",
    "xtrain, xtest, ytrain, ytest = train_test_split(x, y, test_size=20, random_state=1)"
   ]
  },
  {
   "cell_type": "code",
   "execution_count": 3,
   "metadata": {
    "ExecuteTime": {
     "end_time": "2020-03-01T03:33:56.732895Z",
     "start_time": "2020-03-01T03:33:56.716190Z"
    },
    "slideshow": {
     "slide_type": "slide"
    }
   },
   "outputs": [],
   "source": [
    "from sklearn.tree import DecisionTreeClassifier\n",
    "\n",
    "dt = DecisionTreeClassifier(criterion='entropy', random_state=1)\n",
    "dt.fit(xtrain, ytrain)\n",
    "\n",
    "ypred = dt.predict(xtest)"
   ]
  },
  {
   "cell_type": "code",
   "execution_count": 4,
   "metadata": {
    "ExecuteTime": {
     "end_time": "2020-03-01T03:33:57.682700Z",
     "start_time": "2020-03-01T03:33:57.660297Z"
    },
    "slideshow": {
     "slide_type": "slide"
    }
   },
   "outputs": [
    {
     "data": {
      "text/plain": [
       "1.0"
      ]
     },
     "execution_count": 4,
     "metadata": {},
     "output_type": "execute_result"
    }
   ],
   "source": [
    "def accuracy(yt, yp):\n",
    "    return (yp==yt).mean()\n",
    "\n",
    "accuracy(ytest, ypred)"
   ]
  },
  {
   "cell_type": "code",
   "execution_count": 5,
   "metadata": {
    "ExecuteTime": {
     "end_time": "2020-03-01T03:33:59.319709Z",
     "start_time": "2020-03-01T03:33:58.543331Z"
    },
    "slideshow": {
     "slide_type": "slide"
    }
   },
   "outputs": [
    {
     "data": {
      "image/svg+xml": [
       "<?xml version=\"1.0\" encoding=\"UTF-8\" standalone=\"no\"?>\n",
       "<!DOCTYPE svg PUBLIC \"-//W3C//DTD SVG 1.1//EN\"\n",
       " \"http://www.w3.org/Graphics/SVG/1.1/DTD/svg11.dtd\">\n",
       "<!-- Generated by graphviz version 2.40.1 (20161225.0304)\n",
       " -->\n",
       "<!-- Title: Tree Pages: 1 -->\n",
       "<svg width=\"888pt\" height=\"671pt\"\n",
       " viewBox=\"0.00 0.00 888.00 671.00\" xmlns=\"http://www.w3.org/2000/svg\" xmlns:xlink=\"http://www.w3.org/1999/xlink\">\n",
       "<g id=\"graph0\" class=\"graph\" transform=\"scale(1 1) rotate(0) translate(4 667)\">\n",
       "<title>Tree</title>\n",
       "<polygon fill=\"#ffffff\" stroke=\"transparent\" points=\"-4,4 -4,-667 884,-667 884,4 -4,4\"/>\n",
       "<!-- 0 -->\n",
       "<g id=\"node1\" class=\"node\">\n",
       "<title>0</title>\n",
       "<path fill=\"#8139e5\" fill-opacity=\"0.047059\" stroke=\"#000000\" d=\"M526,-663C526,-663 400,-663 400,-663 394,-663 388,-657 388,-651 388,-651 388,-592 388,-592 388,-586 394,-580 400,-580 400,-580 526,-580 526,-580 532,-580 538,-586 538,-592 538,-592 538,-651 538,-651 538,-657 532,-663 526,-663\"/>\n",
       "<text text-anchor=\"start\" x=\"396\" y=\"-647.8\" font-family=\"Helvetica,sans-Serif\" font-size=\"14.00\" fill=\"#000000\">petal width (cm) ≤ 0.8</text>\n",
       "<text text-anchor=\"start\" x=\"414\" y=\"-632.8\" font-family=\"Helvetica,sans-Serif\" font-size=\"14.00\" fill=\"#000000\">entropy = 1.584</text>\n",
       "<text text-anchor=\"start\" x=\"417\" y=\"-617.8\" font-family=\"Helvetica,sans-Serif\" font-size=\"14.00\" fill=\"#000000\">samples = 130</text>\n",
       "<text text-anchor=\"start\" x=\"403\" y=\"-602.8\" font-family=\"Helvetica,sans-Serif\" font-size=\"14.00\" fill=\"#000000\">value = [42, 42, 46]</text>\n",
       "<text text-anchor=\"start\" x=\"413\" y=\"-587.8\" font-family=\"Helvetica,sans-Serif\" font-size=\"14.00\" fill=\"#000000\">class = virginica</text>\n",
       "</g>\n",
       "<!-- 1 -->\n",
       "<g id=\"node2\" class=\"node\">\n",
       "<title>1</title>\n",
       "<path fill=\"#e58139\" stroke=\"#000000\" d=\"M433,-536.5C433,-536.5 337,-536.5 337,-536.5 331,-536.5 325,-530.5 325,-524.5 325,-524.5 325,-480.5 325,-480.5 325,-474.5 331,-468.5 337,-468.5 337,-468.5 433,-468.5 433,-468.5 439,-468.5 445,-474.5 445,-480.5 445,-480.5 445,-524.5 445,-524.5 445,-530.5 439,-536.5 433,-536.5\"/>\n",
       "<text text-anchor=\"start\" x=\"343.5\" y=\"-521.3\" font-family=\"Helvetica,sans-Serif\" font-size=\"14.00\" fill=\"#000000\">entropy = 0.0</text>\n",
       "<text text-anchor=\"start\" x=\"343\" y=\"-506.3\" font-family=\"Helvetica,sans-Serif\" font-size=\"14.00\" fill=\"#000000\">samples = 42</text>\n",
       "<text text-anchor=\"start\" x=\"333\" y=\"-491.3\" font-family=\"Helvetica,sans-Serif\" font-size=\"14.00\" fill=\"#000000\">value = [42, 0, 0]</text>\n",
       "<text text-anchor=\"start\" x=\"340\" y=\"-476.3\" font-family=\"Helvetica,sans-Serif\" font-size=\"14.00\" fill=\"#000000\">class = setosa</text>\n",
       "</g>\n",
       "<!-- 0&#45;&gt;1 -->\n",
       "<g id=\"edge1\" class=\"edge\">\n",
       "<title>0&#45;&gt;1</title>\n",
       "<path fill=\"none\" stroke=\"#000000\" d=\"M435.7194,-579.8796C428.3677,-568.6636 420.4036,-556.5131 413.0126,-545.2372\"/>\n",
       "<polygon fill=\"#000000\" stroke=\"#000000\" points=\"415.9014,-543.2598 407.4921,-536.8149 410.0469,-547.0972 415.9014,-543.2598\"/>\n",
       "<text text-anchor=\"middle\" x=\"402.3982\" y=\"-557.5905\" font-family=\"Helvetica,sans-Serif\" font-size=\"14.00\" fill=\"#000000\">True</text>\n",
       "</g>\n",
       "<!-- 2 -->\n",
       "<g id=\"node3\" class=\"node\">\n",
       "<title>2</title>\n",
       "<path fill=\"#8139e5\" fill-opacity=\"0.086275\" stroke=\"#000000\" d=\"M609,-544C609,-544 475,-544 475,-544 469,-544 463,-538 463,-532 463,-532 463,-473 463,-473 463,-467 469,-461 475,-461 475,-461 609,-461 609,-461 615,-461 621,-467 621,-473 621,-473 621,-532 621,-532 621,-538 615,-544 609,-544\"/>\n",
       "<text text-anchor=\"start\" x=\"471\" y=\"-528.8\" font-family=\"Helvetica,sans-Serif\" font-size=\"14.00\" fill=\"#000000\">petal width (cm) ≤ 1.75</text>\n",
       "<text text-anchor=\"start\" x=\"493\" y=\"-513.8\" font-family=\"Helvetica,sans-Serif\" font-size=\"14.00\" fill=\"#000000\">entropy = 0.999</text>\n",
       "<text text-anchor=\"start\" x=\"500\" y=\"-498.8\" font-family=\"Helvetica,sans-Serif\" font-size=\"14.00\" fill=\"#000000\">samples = 88</text>\n",
       "<text text-anchor=\"start\" x=\"486\" y=\"-483.8\" font-family=\"Helvetica,sans-Serif\" font-size=\"14.00\" fill=\"#000000\">value = [0, 42, 46]</text>\n",
       "<text text-anchor=\"start\" x=\"492\" y=\"-468.8\" font-family=\"Helvetica,sans-Serif\" font-size=\"14.00\" fill=\"#000000\">class = virginica</text>\n",
       "</g>\n",
       "<!-- 0&#45;&gt;2 -->\n",
       "<g id=\"edge2\" class=\"edge\">\n",
       "<title>0&#45;&gt;2</title>\n",
       "<path fill=\"none\" stroke=\"#000000\" d=\"M490.6304,-579.8796C496.43,-571.1434 502.6059,-561.8404 508.5908,-552.8253\"/>\n",
       "<polygon fill=\"#000000\" stroke=\"#000000\" points=\"511.6368,-554.5652 514.2517,-544.2981 505.8049,-550.6935 511.6368,-554.5652\"/>\n",
       "<text text-anchor=\"middle\" x=\"519.2022\" y=\"-565.103\" font-family=\"Helvetica,sans-Serif\" font-size=\"14.00\" fill=\"#000000\">False</text>\n",
       "</g>\n",
       "<!-- 3 -->\n",
       "<g id=\"node4\" class=\"node\">\n",
       "<title>3</title>\n",
       "<path fill=\"#39e581\" fill-opacity=\"0.878431\" stroke=\"#000000\" d=\"M495.5,-425C495.5,-425 356.5,-425 356.5,-425 350.5,-425 344.5,-419 344.5,-413 344.5,-413 344.5,-354 344.5,-354 344.5,-348 350.5,-342 356.5,-342 356.5,-342 495.5,-342 495.5,-342 501.5,-342 507.5,-348 507.5,-354 507.5,-354 507.5,-413 507.5,-413 507.5,-419 501.5,-425 495.5,-425\"/>\n",
       "<text text-anchor=\"start\" x=\"352.5\" y=\"-409.8\" font-family=\"Helvetica,sans-Serif\" font-size=\"14.00\" fill=\"#000000\">petal length (cm) ≤ 4.95</text>\n",
       "<text text-anchor=\"start\" x=\"377\" y=\"-394.8\" font-family=\"Helvetica,sans-Serif\" font-size=\"14.00\" fill=\"#000000\">entropy = 0.496</text>\n",
       "<text text-anchor=\"start\" x=\"384\" y=\"-379.8\" font-family=\"Helvetica,sans-Serif\" font-size=\"14.00\" fill=\"#000000\">samples = 46</text>\n",
       "<text text-anchor=\"start\" x=\"374\" y=\"-364.8\" font-family=\"Helvetica,sans-Serif\" font-size=\"14.00\" fill=\"#000000\">value = [0, 41, 5]</text>\n",
       "<text text-anchor=\"start\" x=\"372\" y=\"-349.8\" font-family=\"Helvetica,sans-Serif\" font-size=\"14.00\" fill=\"#000000\">class = versicolor</text>\n",
       "</g>\n",
       "<!-- 2&#45;&gt;3 -->\n",
       "<g id=\"edge3\" class=\"edge\">\n",
       "<title>2&#45;&gt;3</title>\n",
       "<path fill=\"none\" stroke=\"#000000\" d=\"M501.4288,-460.8796C492.5618,-451.7832 483.0956,-442.0722 473.9709,-432.7116\"/>\n",
       "<polygon fill=\"#000000\" stroke=\"#000000\" points=\"476.2309,-430.0158 466.7443,-425.2981 471.2183,-434.9019 476.2309,-430.0158\"/>\n",
       "</g>\n",
       "<!-- 12 -->\n",
       "<g id=\"node13\" class=\"node\">\n",
       "<title>12</title>\n",
       "<path fill=\"#8139e5\" fill-opacity=\"0.976471\" stroke=\"#000000\" d=\"M727.5,-425C727.5,-425 588.5,-425 588.5,-425 582.5,-425 576.5,-419 576.5,-413 576.5,-413 576.5,-354 576.5,-354 576.5,-348 582.5,-342 588.5,-342 588.5,-342 727.5,-342 727.5,-342 733.5,-342 739.5,-348 739.5,-354 739.5,-354 739.5,-413 739.5,-413 739.5,-419 733.5,-425 727.5,-425\"/>\n",
       "<text text-anchor=\"start\" x=\"584.5\" y=\"-409.8\" font-family=\"Helvetica,sans-Serif\" font-size=\"14.00\" fill=\"#000000\">petal length (cm) ≤ 4.85</text>\n",
       "<text text-anchor=\"start\" x=\"609\" y=\"-394.8\" font-family=\"Helvetica,sans-Serif\" font-size=\"14.00\" fill=\"#000000\">entropy = 0.162</text>\n",
       "<text text-anchor=\"start\" x=\"616\" y=\"-379.8\" font-family=\"Helvetica,sans-Serif\" font-size=\"14.00\" fill=\"#000000\">samples = 42</text>\n",
       "<text text-anchor=\"start\" x=\"606\" y=\"-364.8\" font-family=\"Helvetica,sans-Serif\" font-size=\"14.00\" fill=\"#000000\">value = [0, 1, 41]</text>\n",
       "<text text-anchor=\"start\" x=\"608\" y=\"-349.8\" font-family=\"Helvetica,sans-Serif\" font-size=\"14.00\" fill=\"#000000\">class = virginica</text>\n",
       "</g>\n",
       "<!-- 2&#45;&gt;12 -->\n",
       "<g id=\"edge12\" class=\"edge\">\n",
       "<title>2&#45;&gt;12</title>\n",
       "<path fill=\"none\" stroke=\"#000000\" d=\"M582.5712,-460.8796C591.4382,-451.7832 600.9044,-442.0722 610.0291,-432.7116\"/>\n",
       "<polygon fill=\"#000000\" stroke=\"#000000\" points=\"612.7817,-434.9019 617.2557,-425.2981 607.7691,-430.0158 612.7817,-434.9019\"/>\n",
       "</g>\n",
       "<!-- 4 -->\n",
       "<g id=\"node5\" class=\"node\">\n",
       "<title>4</title>\n",
       "<path fill=\"#39e581\" fill-opacity=\"0.972549\" stroke=\"#000000\" d=\"M267,-306C267,-306 133,-306 133,-306 127,-306 121,-300 121,-294 121,-294 121,-235 121,-235 121,-229 127,-223 133,-223 133,-223 267,-223 267,-223 273,-223 279,-229 279,-235 279,-235 279,-294 279,-294 279,-300 273,-306 267,-306\"/>\n",
       "<text text-anchor=\"start\" x=\"129\" y=\"-290.8\" font-family=\"Helvetica,sans-Serif\" font-size=\"14.00\" fill=\"#000000\">petal width (cm) ≤ 1.65</text>\n",
       "<text text-anchor=\"start\" x=\"151\" y=\"-275.8\" font-family=\"Helvetica,sans-Serif\" font-size=\"14.00\" fill=\"#000000\">entropy = 0.169</text>\n",
       "<text text-anchor=\"start\" x=\"158\" y=\"-260.8\" font-family=\"Helvetica,sans-Serif\" font-size=\"14.00\" fill=\"#000000\">samples = 40</text>\n",
       "<text text-anchor=\"start\" x=\"148\" y=\"-245.8\" font-family=\"Helvetica,sans-Serif\" font-size=\"14.00\" fill=\"#000000\">value = [0, 39, 1]</text>\n",
       "<text text-anchor=\"start\" x=\"146\" y=\"-230.8\" font-family=\"Helvetica,sans-Serif\" font-size=\"14.00\" fill=\"#000000\">class = versicolor</text>\n",
       "</g>\n",
       "<!-- 3&#45;&gt;4 -->\n",
       "<g id=\"edge4\" class=\"edge\">\n",
       "<title>3&#45;&gt;4</title>\n",
       "<path fill=\"none\" stroke=\"#000000\" d=\"M346.9562,-341.8796C327.8599,-331.8244 307.3373,-321.0183 287.8638,-310.7645\"/>\n",
       "<polygon fill=\"#000000\" stroke=\"#000000\" points=\"289.4782,-307.6591 278.9992,-306.0969 286.2169,-313.853 289.4782,-307.6591\"/>\n",
       "</g>\n",
       "<!-- 7 -->\n",
       "<g id=\"node8\" class=\"node\">\n",
       "<title>7</title>\n",
       "<path fill=\"#8139e5\" fill-opacity=\"0.498039\" stroke=\"#000000\" d=\"M493,-306C493,-306 359,-306 359,-306 353,-306 347,-300 347,-294 347,-294 347,-235 347,-235 347,-229 353,-223 359,-223 359,-223 493,-223 493,-223 499,-223 505,-229 505,-235 505,-235 505,-294 505,-294 505,-300 499,-306 493,-306\"/>\n",
       "<text text-anchor=\"start\" x=\"355\" y=\"-290.8\" font-family=\"Helvetica,sans-Serif\" font-size=\"14.00\" fill=\"#000000\">petal width (cm) ≤ 1.55</text>\n",
       "<text text-anchor=\"start\" x=\"377\" y=\"-275.8\" font-family=\"Helvetica,sans-Serif\" font-size=\"14.00\" fill=\"#000000\">entropy = 0.918</text>\n",
       "<text text-anchor=\"start\" x=\"388\" y=\"-260.8\" font-family=\"Helvetica,sans-Serif\" font-size=\"14.00\" fill=\"#000000\">samples = 6</text>\n",
       "<text text-anchor=\"start\" x=\"377.5\" y=\"-245.8\" font-family=\"Helvetica,sans-Serif\" font-size=\"14.00\" fill=\"#000000\">value = [0, 2, 4]</text>\n",
       "<text text-anchor=\"start\" x=\"376\" y=\"-230.8\" font-family=\"Helvetica,sans-Serif\" font-size=\"14.00\" fill=\"#000000\">class = virginica</text>\n",
       "</g>\n",
       "<!-- 3&#45;&gt;7 -->\n",
       "<g id=\"edge7\" class=\"edge\">\n",
       "<title>3&#45;&gt;7</title>\n",
       "<path fill=\"none\" stroke=\"#000000\" d=\"M426,-341.8796C426,-333.6838 426,-324.9891 426,-316.5013\"/>\n",
       "<polygon fill=\"#000000\" stroke=\"#000000\" points=\"429.5001,-316.298 426,-306.2981 422.5001,-316.2981 429.5001,-316.298\"/>\n",
       "</g>\n",
       "<!-- 5 -->\n",
       "<g id=\"node6\" class=\"node\">\n",
       "<title>5</title>\n",
       "<path fill=\"#39e581\" stroke=\"#000000\" d=\"M112,-179.5C112,-179.5 12,-179.5 12,-179.5 6,-179.5 0,-173.5 0,-167.5 0,-167.5 0,-123.5 0,-123.5 0,-117.5 6,-111.5 12,-111.5 12,-111.5 112,-111.5 112,-111.5 118,-111.5 124,-117.5 124,-123.5 124,-123.5 124,-167.5 124,-167.5 124,-173.5 118,-179.5 112,-179.5\"/>\n",
       "<text text-anchor=\"start\" x=\"20.5\" y=\"-164.3\" font-family=\"Helvetica,sans-Serif\" font-size=\"14.00\" fill=\"#000000\">entropy = 0.0</text>\n",
       "<text text-anchor=\"start\" x=\"20\" y=\"-149.3\" font-family=\"Helvetica,sans-Serif\" font-size=\"14.00\" fill=\"#000000\">samples = 39</text>\n",
       "<text text-anchor=\"start\" x=\"10\" y=\"-134.3\" font-family=\"Helvetica,sans-Serif\" font-size=\"14.00\" fill=\"#000000\">value = [0, 39, 0]</text>\n",
       "<text text-anchor=\"start\" x=\"8\" y=\"-119.3\" font-family=\"Helvetica,sans-Serif\" font-size=\"14.00\" fill=\"#000000\">class = versicolor</text>\n",
       "</g>\n",
       "<!-- 4&#45;&gt;5 -->\n",
       "<g id=\"edge5\" class=\"edge\">\n",
       "<title>4&#45;&gt;5</title>\n",
       "<path fill=\"none\" stroke=\"#000000\" d=\"M151.7343,-222.8796C138.0899,-211.1138 123.2531,-198.3197 109.6454,-186.5855\"/>\n",
       "<polygon fill=\"#000000\" stroke=\"#000000\" points=\"111.6527,-183.6948 101.7938,-179.8149 107.0813,-188.9961 111.6527,-183.6948\"/>\n",
       "</g>\n",
       "<!-- 6 -->\n",
       "<g id=\"node7\" class=\"node\">\n",
       "<title>6</title>\n",
       "<path fill=\"#8139e5\" stroke=\"#000000\" d=\"M246,-179.5C246,-179.5 154,-179.5 154,-179.5 148,-179.5 142,-173.5 142,-167.5 142,-167.5 142,-123.5 142,-123.5 142,-117.5 148,-111.5 154,-111.5 154,-111.5 246,-111.5 246,-111.5 252,-111.5 258,-117.5 258,-123.5 258,-123.5 258,-167.5 258,-167.5 258,-173.5 252,-179.5 246,-179.5\"/>\n",
       "<text text-anchor=\"start\" x=\"158.5\" y=\"-164.3\" font-family=\"Helvetica,sans-Serif\" font-size=\"14.00\" fill=\"#000000\">entropy = 0.0</text>\n",
       "<text text-anchor=\"start\" x=\"162\" y=\"-149.3\" font-family=\"Helvetica,sans-Serif\" font-size=\"14.00\" fill=\"#000000\">samples = 1</text>\n",
       "<text text-anchor=\"start\" x=\"151.5\" y=\"-134.3\" font-family=\"Helvetica,sans-Serif\" font-size=\"14.00\" fill=\"#000000\">value = [0, 0, 1]</text>\n",
       "<text text-anchor=\"start\" x=\"150\" y=\"-119.3\" font-family=\"Helvetica,sans-Serif\" font-size=\"14.00\" fill=\"#000000\">class = virginica</text>\n",
       "</g>\n",
       "<!-- 4&#45;&gt;6 -->\n",
       "<g id=\"edge6\" class=\"edge\">\n",
       "<title>4&#45;&gt;6</title>\n",
       "<path fill=\"none\" stroke=\"#000000\" d=\"M200,-222.8796C200,-212.2134 200,-200.7021 200,-189.9015\"/>\n",
       "<polygon fill=\"#000000\" stroke=\"#000000\" points=\"203.5001,-189.8149 200,-179.8149 196.5001,-189.815 203.5001,-189.8149\"/>\n",
       "</g>\n",
       "<!-- 8 -->\n",
       "<g id=\"node9\" class=\"node\">\n",
       "<title>8</title>\n",
       "<path fill=\"#8139e5\" stroke=\"#000000\" d=\"M380,-179.5C380,-179.5 288,-179.5 288,-179.5 282,-179.5 276,-173.5 276,-167.5 276,-167.5 276,-123.5 276,-123.5 276,-117.5 282,-111.5 288,-111.5 288,-111.5 380,-111.5 380,-111.5 386,-111.5 392,-117.5 392,-123.5 392,-123.5 392,-167.5 392,-167.5 392,-173.5 386,-179.5 380,-179.5\"/>\n",
       "<text text-anchor=\"start\" x=\"292.5\" y=\"-164.3\" font-family=\"Helvetica,sans-Serif\" font-size=\"14.00\" fill=\"#000000\">entropy = 0.0</text>\n",
       "<text text-anchor=\"start\" x=\"296\" y=\"-149.3\" font-family=\"Helvetica,sans-Serif\" font-size=\"14.00\" fill=\"#000000\">samples = 3</text>\n",
       "<text text-anchor=\"start\" x=\"285.5\" y=\"-134.3\" font-family=\"Helvetica,sans-Serif\" font-size=\"14.00\" fill=\"#000000\">value = [0, 0, 3]</text>\n",
       "<text text-anchor=\"start\" x=\"284\" y=\"-119.3\" font-family=\"Helvetica,sans-Serif\" font-size=\"14.00\" fill=\"#000000\">class = virginica</text>\n",
       "</g>\n",
       "<!-- 7&#45;&gt;8 -->\n",
       "<g id=\"edge8\" class=\"edge\">\n",
       "<title>7&#45;&gt;8</title>\n",
       "<path fill=\"none\" stroke=\"#000000\" d=\"M393.8229,-222.8796C385.0667,-211.5536 375.5738,-199.2748 366.7844,-187.9058\"/>\n",
       "<polygon fill=\"#000000\" stroke=\"#000000\" points=\"369.4146,-185.5856 360.5292,-179.8149 363.8766,-189.8671 369.4146,-185.5856\"/>\n",
       "</g>\n",
       "<!-- 9 -->\n",
       "<g id=\"node10\" class=\"node\">\n",
       "<title>9</title>\n",
       "<path fill=\"#39e581\" fill-opacity=\"0.498039\" stroke=\"#000000\" d=\"M565.5,-187C565.5,-187 422.5,-187 422.5,-187 416.5,-187 410.5,-181 410.5,-175 410.5,-175 410.5,-116 410.5,-116 410.5,-110 416.5,-104 422.5,-104 422.5,-104 565.5,-104 565.5,-104 571.5,-104 577.5,-110 577.5,-116 577.5,-116 577.5,-175 577.5,-175 577.5,-181 571.5,-187 565.5,-187\"/>\n",
       "<text text-anchor=\"start\" x=\"418.5\" y=\"-171.8\" font-family=\"Helvetica,sans-Serif\" font-size=\"14.00\" fill=\"#000000\">sepal length (cm) ≤ 6.95</text>\n",
       "<text text-anchor=\"start\" x=\"445\" y=\"-156.8\" font-family=\"Helvetica,sans-Serif\" font-size=\"14.00\" fill=\"#000000\">entropy = 0.918</text>\n",
       "<text text-anchor=\"start\" x=\"456\" y=\"-141.8\" font-family=\"Helvetica,sans-Serif\" font-size=\"14.00\" fill=\"#000000\">samples = 3</text>\n",
       "<text text-anchor=\"start\" x=\"445.5\" y=\"-126.8\" font-family=\"Helvetica,sans-Serif\" font-size=\"14.00\" fill=\"#000000\">value = [0, 2, 1]</text>\n",
       "<text text-anchor=\"start\" x=\"440\" y=\"-111.8\" font-family=\"Helvetica,sans-Serif\" font-size=\"14.00\" fill=\"#000000\">class = versicolor</text>\n",
       "</g>\n",
       "<!-- 7&#45;&gt;9 -->\n",
       "<g id=\"edge9\" class=\"edge\">\n",
       "<title>7&#45;&gt;9</title>\n",
       "<path fill=\"none\" stroke=\"#000000\" d=\"M449.7831,-222.8796C454.7237,-214.2335 459.9816,-205.0322 465.0833,-196.1042\"/>\n",
       "<polygon fill=\"#000000\" stroke=\"#000000\" points=\"468.1928,-197.717 470.1154,-187.2981 462.1151,-194.244 468.1928,-197.717\"/>\n",
       "</g>\n",
       "<!-- 10 -->\n",
       "<g id=\"node11\" class=\"node\">\n",
       "<title>10</title>\n",
       "<path fill=\"#39e581\" stroke=\"#000000\" d=\"M475,-68C475,-68 375,-68 375,-68 369,-68 363,-62 363,-56 363,-56 363,-12 363,-12 363,-6 369,0 375,0 375,0 475,0 475,0 481,0 487,-6 487,-12 487,-12 487,-56 487,-56 487,-62 481,-68 475,-68\"/>\n",
       "<text text-anchor=\"start\" x=\"383.5\" y=\"-52.8\" font-family=\"Helvetica,sans-Serif\" font-size=\"14.00\" fill=\"#000000\">entropy = 0.0</text>\n",
       "<text text-anchor=\"start\" x=\"387\" y=\"-37.8\" font-family=\"Helvetica,sans-Serif\" font-size=\"14.00\" fill=\"#000000\">samples = 2</text>\n",
       "<text text-anchor=\"start\" x=\"376.5\" y=\"-22.8\" font-family=\"Helvetica,sans-Serif\" font-size=\"14.00\" fill=\"#000000\">value = [0, 2, 0]</text>\n",
       "<text text-anchor=\"start\" x=\"371\" y=\"-7.8\" font-family=\"Helvetica,sans-Serif\" font-size=\"14.00\" fill=\"#000000\">class = versicolor</text>\n",
       "</g>\n",
       "<!-- 9&#45;&gt;10 -->\n",
       "<g id=\"edge10\" class=\"edge\">\n",
       "<title>9&#45;&gt;10</title>\n",
       "<path fill=\"none\" stroke=\"#000000\" d=\"M468.3069,-103.9815C462.8469,-95.1585 457.0716,-85.8258 451.5793,-76.9506\"/>\n",
       "<polygon fill=\"#000000\" stroke=\"#000000\" points=\"454.442,-74.9254 446.2035,-68.2637 448.4896,-78.609 454.442,-74.9254\"/>\n",
       "</g>\n",
       "<!-- 11 -->\n",
       "<g id=\"node12\" class=\"node\">\n",
       "<title>11</title>\n",
       "<path fill=\"#8139e5\" stroke=\"#000000\" d=\"M609,-68C609,-68 517,-68 517,-68 511,-68 505,-62 505,-56 505,-56 505,-12 505,-12 505,-6 511,0 517,0 517,0 609,0 609,0 615,0 621,-6 621,-12 621,-12 621,-56 621,-56 621,-62 615,-68 609,-68\"/>\n",
       "<text text-anchor=\"start\" x=\"521.5\" y=\"-52.8\" font-family=\"Helvetica,sans-Serif\" font-size=\"14.00\" fill=\"#000000\">entropy = 0.0</text>\n",
       "<text text-anchor=\"start\" x=\"525\" y=\"-37.8\" font-family=\"Helvetica,sans-Serif\" font-size=\"14.00\" fill=\"#000000\">samples = 1</text>\n",
       "<text text-anchor=\"start\" x=\"514.5\" y=\"-22.8\" font-family=\"Helvetica,sans-Serif\" font-size=\"14.00\" fill=\"#000000\">value = [0, 0, 1]</text>\n",
       "<text text-anchor=\"start\" x=\"513\" y=\"-7.8\" font-family=\"Helvetica,sans-Serif\" font-size=\"14.00\" fill=\"#000000\">class = virginica</text>\n",
       "</g>\n",
       "<!-- 9&#45;&gt;11 -->\n",
       "<g id=\"edge11\" class=\"edge\">\n",
       "<title>9&#45;&gt;11</title>\n",
       "<path fill=\"none\" stroke=\"#000000\" d=\"M519.6931,-103.9815C525.1531,-95.1585 530.9284,-85.8258 536.4207,-76.9506\"/>\n",
       "<polygon fill=\"#000000\" stroke=\"#000000\" points=\"539.5104,-78.609 541.7965,-68.2637 533.558,-74.9254 539.5104,-78.609\"/>\n",
       "</g>\n",
       "<!-- 13 -->\n",
       "<g id=\"node14\" class=\"node\">\n",
       "<title>13</title>\n",
       "<path fill=\"#8139e5\" fill-opacity=\"0.498039\" stroke=\"#000000\" d=\"M729.5,-306C729.5,-306 586.5,-306 586.5,-306 580.5,-306 574.5,-300 574.5,-294 574.5,-294 574.5,-235 574.5,-235 574.5,-229 580.5,-223 586.5,-223 586.5,-223 729.5,-223 729.5,-223 735.5,-223 741.5,-229 741.5,-235 741.5,-235 741.5,-294 741.5,-294 741.5,-300 735.5,-306 729.5,-306\"/>\n",
       "<text text-anchor=\"start\" x=\"582.5\" y=\"-290.8\" font-family=\"Helvetica,sans-Serif\" font-size=\"14.00\" fill=\"#000000\">sepal length (cm) ≤ 5.95</text>\n",
       "<text text-anchor=\"start\" x=\"609\" y=\"-275.8\" font-family=\"Helvetica,sans-Serif\" font-size=\"14.00\" fill=\"#000000\">entropy = 0.918</text>\n",
       "<text text-anchor=\"start\" x=\"620\" y=\"-260.8\" font-family=\"Helvetica,sans-Serif\" font-size=\"14.00\" fill=\"#000000\">samples = 3</text>\n",
       "<text text-anchor=\"start\" x=\"609.5\" y=\"-245.8\" font-family=\"Helvetica,sans-Serif\" font-size=\"14.00\" fill=\"#000000\">value = [0, 1, 2]</text>\n",
       "<text text-anchor=\"start\" x=\"608\" y=\"-230.8\" font-family=\"Helvetica,sans-Serif\" font-size=\"14.00\" fill=\"#000000\">class = virginica</text>\n",
       "</g>\n",
       "<!-- 12&#45;&gt;13 -->\n",
       "<g id=\"edge13\" class=\"edge\">\n",
       "<title>12&#45;&gt;13</title>\n",
       "<path fill=\"none\" stroke=\"#000000\" d=\"M658,-341.8796C658,-333.6838 658,-324.9891 658,-316.5013\"/>\n",
       "<polygon fill=\"#000000\" stroke=\"#000000\" points=\"661.5001,-316.298 658,-306.2981 654.5001,-316.2981 661.5001,-316.298\"/>\n",
       "</g>\n",
       "<!-- 16 -->\n",
       "<g id=\"node17\" class=\"node\">\n",
       "<title>16</title>\n",
       "<path fill=\"#8139e5\" stroke=\"#000000\" d=\"M868,-298.5C868,-298.5 772,-298.5 772,-298.5 766,-298.5 760,-292.5 760,-286.5 760,-286.5 760,-242.5 760,-242.5 760,-236.5 766,-230.5 772,-230.5 772,-230.5 868,-230.5 868,-230.5 874,-230.5 880,-236.5 880,-242.5 880,-242.5 880,-286.5 880,-286.5 880,-292.5 874,-298.5 868,-298.5\"/>\n",
       "<text text-anchor=\"start\" x=\"778.5\" y=\"-283.3\" font-family=\"Helvetica,sans-Serif\" font-size=\"14.00\" fill=\"#000000\">entropy = 0.0</text>\n",
       "<text text-anchor=\"start\" x=\"778\" y=\"-268.3\" font-family=\"Helvetica,sans-Serif\" font-size=\"14.00\" fill=\"#000000\">samples = 39</text>\n",
       "<text text-anchor=\"start\" x=\"768\" y=\"-253.3\" font-family=\"Helvetica,sans-Serif\" font-size=\"14.00\" fill=\"#000000\">value = [0, 0, 39]</text>\n",
       "<text text-anchor=\"start\" x=\"770\" y=\"-238.3\" font-family=\"Helvetica,sans-Serif\" font-size=\"14.00\" fill=\"#000000\">class = virginica</text>\n",
       "</g>\n",
       "<!-- 12&#45;&gt;16 -->\n",
       "<g id=\"edge16\" class=\"edge\">\n",
       "<title>12&#45;&gt;16</title>\n",
       "<path fill=\"none\" stroke=\"#000000\" d=\"M714.6597,-341.8796C731.0541,-329.8368 748.9151,-316.7167 765.1942,-304.7586\"/>\n",
       "<polygon fill=\"#000000\" stroke=\"#000000\" points=\"767.5595,-307.3639 773.5468,-298.623 763.4154,-301.7224 767.5595,-307.3639\"/>\n",
       "</g>\n",
       "<!-- 14 -->\n",
       "<g id=\"node15\" class=\"node\">\n",
       "<title>14</title>\n",
       "<path fill=\"#39e581\" stroke=\"#000000\" d=\"M708,-179.5C708,-179.5 608,-179.5 608,-179.5 602,-179.5 596,-173.5 596,-167.5 596,-167.5 596,-123.5 596,-123.5 596,-117.5 602,-111.5 608,-111.5 608,-111.5 708,-111.5 708,-111.5 714,-111.5 720,-117.5 720,-123.5 720,-123.5 720,-167.5 720,-167.5 720,-173.5 714,-179.5 708,-179.5\"/>\n",
       "<text text-anchor=\"start\" x=\"616.5\" y=\"-164.3\" font-family=\"Helvetica,sans-Serif\" font-size=\"14.00\" fill=\"#000000\">entropy = 0.0</text>\n",
       "<text text-anchor=\"start\" x=\"620\" y=\"-149.3\" font-family=\"Helvetica,sans-Serif\" font-size=\"14.00\" fill=\"#000000\">samples = 1</text>\n",
       "<text text-anchor=\"start\" x=\"609.5\" y=\"-134.3\" font-family=\"Helvetica,sans-Serif\" font-size=\"14.00\" fill=\"#000000\">value = [0, 1, 0]</text>\n",
       "<text text-anchor=\"start\" x=\"604\" y=\"-119.3\" font-family=\"Helvetica,sans-Serif\" font-size=\"14.00\" fill=\"#000000\">class = versicolor</text>\n",
       "</g>\n",
       "<!-- 13&#45;&gt;14 -->\n",
       "<g id=\"edge14\" class=\"edge\">\n",
       "<title>13&#45;&gt;14</title>\n",
       "<path fill=\"none\" stroke=\"#000000\" d=\"M658,-222.8796C658,-212.2134 658,-200.7021 658,-189.9015\"/>\n",
       "<polygon fill=\"#000000\" stroke=\"#000000\" points=\"661.5001,-189.8149 658,-179.8149 654.5001,-189.815 661.5001,-189.8149\"/>\n",
       "</g>\n",
       "<!-- 15 -->\n",
       "<g id=\"node16\" class=\"node\">\n",
       "<title>15</title>\n",
       "<path fill=\"#8139e5\" stroke=\"#000000\" d=\"M842,-179.5C842,-179.5 750,-179.5 750,-179.5 744,-179.5 738,-173.5 738,-167.5 738,-167.5 738,-123.5 738,-123.5 738,-117.5 744,-111.5 750,-111.5 750,-111.5 842,-111.5 842,-111.5 848,-111.5 854,-117.5 854,-123.5 854,-123.5 854,-167.5 854,-167.5 854,-173.5 848,-179.5 842,-179.5\"/>\n",
       "<text text-anchor=\"start\" x=\"754.5\" y=\"-164.3\" font-family=\"Helvetica,sans-Serif\" font-size=\"14.00\" fill=\"#000000\">entropy = 0.0</text>\n",
       "<text text-anchor=\"start\" x=\"758\" y=\"-149.3\" font-family=\"Helvetica,sans-Serif\" font-size=\"14.00\" fill=\"#000000\">samples = 2</text>\n",
       "<text text-anchor=\"start\" x=\"747.5\" y=\"-134.3\" font-family=\"Helvetica,sans-Serif\" font-size=\"14.00\" fill=\"#000000\">value = [0, 0, 2]</text>\n",
       "<text text-anchor=\"start\" x=\"746\" y=\"-119.3\" font-family=\"Helvetica,sans-Serif\" font-size=\"14.00\" fill=\"#000000\">class = virginica</text>\n",
       "</g>\n",
       "<!-- 13&#45;&gt;15 -->\n",
       "<g id=\"edge15\" class=\"edge\">\n",
       "<title>13&#45;&gt;15</title>\n",
       "<path fill=\"none\" stroke=\"#000000\" d=\"M706.2657,-222.8796C719.9101,-211.1138 734.7469,-198.3197 748.3546,-186.5855\"/>\n",
       "<polygon fill=\"#000000\" stroke=\"#000000\" points=\"750.9187,-188.9961 756.2062,-179.8149 746.3473,-183.6948 750.9187,-188.9961\"/>\n",
       "</g>\n",
       "</g>\n",
       "</svg>\n"
      ],
      "text/plain": [
       "<graphviz.files.Source at 0x1a1f445550>"
      ]
     },
     "execution_count": 5,
     "metadata": {},
     "output_type": "execute_result"
    }
   ],
   "source": [
    "from sklearn.tree import  export_graphviz\n",
    "import graphviz\n",
    "\n",
    "dot_data = tree.export_graphviz(dt, out_file=None, \n",
    "                     feature_names=iris.feature_names,  \n",
    "                     class_names=iris.target_names,  \n",
    "                     filled=True, rounded=True,  \n",
    "                     special_characters=True)  \n",
    "graph = graphviz.Source(dot_data)  \n",
    "graph "
   ]
  },
  {
   "cell_type": "markdown",
   "metadata": {
    "slideshow": {
     "slide_type": "slide"
    }
   },
   "source": [
    "# Exercício - voltando ao reino animal...\n",
    "\n",
    "<img src=\"https://1.bp.blogspot.com/-V3Om1kYYrJo/V3riwTihwlI/AAAAAAAABeg/PMaVc_76HaAS0lk4LVrF4FD9bZziIpWdQCLcB/s1600/Animais.png\" align=\"left\" width=\"620px\">\n",
    "\n",
    "<br><br><br><br><br><br><br><br><br><br><br><br><br><br><br>\n",
    "\n",
    "Vamos construir uma árvore de decisão para classificar um número bem maior de animais. [20 min] \n",
    "\n",
    "* Conjunto de dados fornecido em *data/class.csv* e *data/zoo.csv*\n",
    "* Pacote *sklearn* - Consultem a documentação [aqui](https://scikit-learn.org/stable/modules/generated/sklearn.tree.DecisionTreeClassifier.html).\n",
    "\n",
    "*Objetivos:*\n",
    "\n",
    "- Recuperar a lista das características dos animais\n",
    "- Gerar um gráfico com a frequência nas quais as classes são encontradas (\"Class_Type\")\n",
    "- Separar um conjunto de treino e teste\n",
    "- Gerar a árvore "
   ]
  },
  {
   "cell_type": "markdown",
   "metadata": {
    "slideshow": {
     "slide_type": "slide"
    }
   },
   "source": [
    "# Overfitting vs Underfitting\n",
    "\n",
    " O que é?\n",
    " \n",
    " .\n",
    " \n",
    " .\n",
    " \n",
    " .\n",
    " \n",
    " .\n",
    " \n",
    " .\n",
    " \n",
    " .\n",
    " \n",
    " .\n",
    " \n",
    " .\n",
    " \n",
    " .\n",
    " \n",
    " .\n",
    " \n",
    " .\n",
    " \n",
    " .\n",
    " \n",
    " .\n",
    " \n",
    "\n",
    "<img src=\"./images/overfitting.png\" alt=\"dieta\" width=\"600px\">"
   ]
  },
  {
   "cell_type": "markdown",
   "metadata": {
    "slideshow": {
     "slide_type": "slide"
    }
   },
   "source": [
    "# Exercício\n",
    "\n",
    "Vamos treinar vários modelos variando o parâmetro *max_depth* entre 0 e 5.\n",
    "\n",
    "*Objetivos:*\n",
    "- Treine os modelos variando max_depth entre [0,5]\n",
    "- Faça o plot da árvore treinada para cada um destes parâmetros\n",
    "- Qual o efeito deste parâmetro na árvorte treinada?\n",
    "- Qual o efeito na acurácia?\n",
    "\n",
    "\n",
    "#### *Tempo: 15 min*"
   ]
  },
  {
   "cell_type": "markdown",
   "metadata": {
    "slideshow": {
     "slide_type": "slide"
    }
   },
   "source": [
    "# Dúvidas?"
   ]
  }
 ],
 "metadata": {
  "celltoolbar": "Slideshow",
  "kernelspec": {
   "display_name": "Python 3",
   "language": "python",
   "name": "python3"
  },
  "language_info": {
   "codemirror_mode": {
    "name": "ipython",
    "version": 3
   },
   "file_extension": ".py",
   "mimetype": "text/x-python",
   "name": "python",
   "nbconvert_exporter": "python",
   "pygments_lexer": "ipython3",
   "version": "3.7.1"
  },
  "toc": {
   "base_numbering": 1,
   "nav_menu": {},
   "number_sections": true,
   "sideBar": true,
   "skip_h1_title": false,
   "title_cell": "Table of Contents",
   "title_sidebar": "Contents",
   "toc_cell": false,
   "toc_position": {
    "height": "calc(100% - 180px)",
    "left": "10px",
    "top": "150px",
    "width": "256px"
   },
   "toc_section_display": true,
   "toc_window_display": true
  }
 },
 "nbformat": 4,
 "nbformat_minor": 2
}
