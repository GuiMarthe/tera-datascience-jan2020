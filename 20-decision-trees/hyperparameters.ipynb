{
 "cells": [
  {
   "cell_type": "markdown",
   "metadata": {},
   "source": [
    "# Hiperparâmetros\n",
    "\n",
    "<img src=\"./images/hyperparameters.png\" alt=\"dieta\" width=\"600px\">"
   ]
  },
  {
   "cell_type": "markdown",
   "metadata": {},
   "source": [
    "## GridSearchCV\n",
    "\n",
    "Use o GridSearchCV (documentação [aqui](https://scikit-learn.org/0.16/modules/generated/sklearn.grid_search.GridSearchCV.html)) para encontrar os melhores parâmetros para classificação de animais.\n",
    "\n",
    "*Objetivos:*\n",
    "- Utilizar o GridSearchCV para encontrar os melhores parâmetros para o modelo de árvore de decisão para classificação dos animais\n",
    "- Quais os modelhores resultados?\n",
    "- Plote a árvore com os melhores resultados\n",
    "- Compare este resultado com os do exercício anterior"
   ]
  },
  {
   "cell_type": "code",
   "execution_count": null,
   "metadata": {},
   "outputs": [],
   "source": [
    "from sklearn.model_selection import GridSearchCV\n",
    "from sklearn.tree import DecisionTreeClassifier\n",
    "from sklearn.model_selection import train_test_split\n",
    "\n",
    "# Inputs\n",
    "feature_names = ['hair','feathers','eggs','milk','airborne','aquatic','predator','toothed',\n",
    "                 'backbone','breathes','venomous','fins','legs','tail','domestic']\n",
    "X = df[feature_names]\n",
    "# Class\n",
    "y = df['class_type']\n",
    "\n",
    "# Divide os dados em treino e teste\n",
    "X_train, X_test, y_train, y_test = train_test_split(X, y, train_size=.8, test_size=.2, random_state=42)\n",
    "\n",
    "# Treina o modelo\n",
    "clf = DecisionTreeClassifier(criterion='entropy', random_state=42)\n",
    "\n",
    "# Cria o GridSearchCV\n",
    "parameters = {'max_depth':[2, 3, 4, 5, 6], 'min_samples_leaf':[2, 3, 4]}\n",
    "clfGS = GridSearchCV(clf, parameters)\n",
    "\n",
    "clfGS.fit(X_train, y_train)\n",
    "\n",
    "print('Accuracy of classifier on test set: {:.2f}'.format(clfGS.score(X_test, y_test)))\n",
    "clfGS.best_params_"
   ]
  }
 ],
 "metadata": {
  "kernelspec": {
   "display_name": "Python 3",
   "language": "python",
   "name": "python3"
  },
  "language_info": {
   "codemirror_mode": {
    "name": "ipython",
    "version": 3
   },
   "file_extension": ".py",
   "mimetype": "text/x-python",
   "name": "python",
   "nbconvert_exporter": "python",
   "pygments_lexer": "ipython3",
   "version": "3.7.1"
  },
  "toc": {
   "base_numbering": 1,
   "nav_menu": {},
   "number_sections": true,
   "sideBar": true,
   "skip_h1_title": false,
   "title_cell": "Table of Contents",
   "title_sidebar": "Contents",
   "toc_cell": false,
   "toc_position": {},
   "toc_section_display": true,
   "toc_window_display": true
  }
 },
 "nbformat": 4,
 "nbformat_minor": 2
}
