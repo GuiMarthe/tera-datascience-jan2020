{
 "cells": [
  {
   "cell_type": "markdown",
   "metadata": {
    "slideshow": {
     "slide_type": "slide"
    }
   },
   "source": [
    "# Interagindo com dados no mundo real"
   ]
  },
  {
   "cell_type": "markdown",
   "metadata": {
    "slideshow": {
     "slide_type": "subslide"
    }
   },
   "source": [
    "## Formatos e disponibilidade "
   ]
  },
  {
   "cell_type": "markdown",
   "metadata": {
    "slideshow": {
     "slide_type": "fragment"
    }
   },
   "source": [
    "- formatos comuns\n",
    "  - json\n",
    "  - tabulares (csv, tsv)\n",
    "\n",
    "- formatos mais antigos\n",
    "  - xml\n",
    "  - xls/xlsx\n",
    "  - txt"
   ]
  },
  {
   "cell_type": "markdown",
   "metadata": {
    "slideshow": {
     "slide_type": "subslide"
    }
   },
   "source": [
    "- formatos modernos (binários)\n",
    "  - proto buffers \n",
    "  - parquet\n",
    "  - avro \n",
    "  - arrow\n",
    "  - hdf4 e hdf5\n",
    "  - feather (R + python)"
   ]
  },
  {
   "cell_type": "markdown",
   "metadata": {
    "slideshow": {
     "slide_type": "fragment"
    }
   },
   "source": [
    "- formatos exotéricos \n",
    "   - pdf\n",
    "   - html (web scrapping)\n",
    "   - imagens (ocr)\n",
    "   - pickle (python)"
   ]
  },
  {
   "cell_type": "markdown",
   "metadata": {
    "slideshow": {
     "slide_type": "slide"
    }
   },
   "source": [
    "## Disponibilidade a acesso"
   ]
  },
  {
   "cell_type": "markdown",
   "metadata": {
    "slideshow": {
     "slide_type": "subslide"
    }
   },
   "source": [
    "A disponibilidade de dados pode se dar de diversas maneiras. \n",
    "\n",
    "- bancos de dados (SQL e NoSQL)\n",
    "- serviços de web (ou algo que coloquialmente é chamado de API)\n",
    "   - FTP\n",
    "   - HTTP\n",
    "   - Outros (Aws Atena, Spark, Google BigQuery, hdfs)"
   ]
  },
  {
   "cell_type": "markdown",
   "metadata": {
    "slideshow": {
     "slide_type": "slide"
    }
   },
   "source": [
    "## O que pretendo familiarizar com vocês hoje\n"
   ]
  },
  {
   "cell_type": "markdown",
   "metadata": {
    "slideshow": {
     "slide_type": "subslide"
    }
   },
   "source": [
    "Tenho 2 objetivos!"
   ]
  },
  {
   "cell_type": "markdown",
   "metadata": {
    "slideshow": {
     "slide_type": "subslide"
    }
   },
   "source": [
    "1. um pouco sobre como APIs na web funcionam\n",
    "   - o que é HTTP\n",
    "   - com se acessa esse tipo de dado e quais são as biliotecas usuais\n",
    "   - caminhos para estudos mais avançados\n",
    "\n",
    "\n",
    "2. um pouco sobre banco de dados\n",
    "   - bancos relacionais\n",
    "   - um pouco sobre não-relacionais (NoSQL)\n",
    "   - O SQL, a _lingua franca_ dos dados\n",
    "   - criando, inserindo e extraindo dados\n",
    "   - performando análises em SQL"
   ]
  }
 ],
 "metadata": {
  "celltoolbar": "Slideshow",
  "kernelspec": {
   "display_name": "Python 3",
   "language": "python",
   "name": "python3"
  },
  "language_info": {
   "codemirror_mode": {
    "name": "ipython",
    "version": 3
   },
   "file_extension": ".py",
   "mimetype": "text/x-python",
   "name": "python",
   "nbconvert_exporter": "python",
   "pygments_lexer": "ipython3",
   "version": "3.7.4"
  }
 },
 "nbformat": 4,
 "nbformat_minor": 4
}
