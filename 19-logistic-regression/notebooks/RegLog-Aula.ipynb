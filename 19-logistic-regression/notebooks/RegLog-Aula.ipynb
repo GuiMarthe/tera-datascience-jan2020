{
 "cells": [
  {
   "cell_type": "markdown",
   "metadata": {},
   "source": [
    "# Algoritmos de Classificação: Regressão Logística"
   ]
  },
  {
   "cell_type": "markdown",
   "metadata": {},
   "source": [
    "![image.png](https://somostera.com/_nuxt/img/7eecdb7.svg)"
   ]
  },
  {
   "cell_type": "markdown",
   "metadata": {},
   "source": [
    "## Warm Up\n",
    "\n",
    "![image.png](https://media.giphy.com/media/l0Ex47BWhZ7bsaKcg/giphy.gif)"
   ]
  },
  {
   "cell_type": "markdown",
   "metadata": {},
   "source": [
    "## Expectativas!\n",
    "\n",
    "O que vocês esperam da aula de hoje?\n",
    "\n",
    "![image.png](https://img.buzzfeed.com/buzzfeed-static/static/enhanced/web04/2012/2/14/17/enhanced-buzz-8358-1329258536-95.jpg?downsize=800:*&output-format=auto&output-quality=auto)"
   ]
  },
  {
   "cell_type": "markdown",
   "metadata": {},
   "source": [
    "## Objetivo\n",
    "> Avaliar se existem fatores que influenciam na promoção dos funcionários\n",
    "\n",
    "### Contexto\n",
    "> O RH da empresa está se tornando mais seletivo ao contratar novos funcionários. Dessa forma, ele quer entender o perfil de promoção dos funcionários para que no processo de seleção algum desses fatores sejam considerados. Além disso, um modelo de predição poderia ajudar na definição do budget de promoção. Você faz parte da área de **Data Science** dessa empresa, e precisa encontrar alguns insights que subsidiem o RH."
   ]
  },
  {
   "cell_type": "markdown",
   "metadata": {},
   "source": [
    "## Conclusão\n",
    "> TBD\n",
    "\n",
    "### Updated at\n",
    "> 30/Jan/2020 by Tera-DSC Team\n",
    "\n",
    "### Dataset\n",
    "> Dados históricos dos funcionários da empresa.\n",
    "\n",
    "### Warning\n",
    "> Dados sensíveis."
   ]
  },
  {
   "cell_type": "markdown",
   "metadata": {},
   "source": [
    "# **Regressão** ???"
   ]
  },
  {
   "cell_type": "markdown",
   "metadata": {},
   "source": [
    "![image.png](https://media.giphy.com/media/NsuQixwGTHy8M/giphy.gif)"
   ]
  },
  {
   "cell_type": "code",
   "execution_count": null,
   "metadata": {},
   "outputs": [],
   "source": [
    "\"\"\"\n",
    "\n",
    "\n",
    "\n",
    "\n",
    "\n",
    "\n",
    "\n",
    "\n",
    "\n",
    "\n",
    "\n",
    "\n",
    "\"\"\""
   ]
  },
  {
   "cell_type": "markdown",
   "metadata": {},
   "source": [
    "> O modelo de regressão logística é semelhante ao modelo de regressão linear. No entanto, no modelo logístico a variável resposta $ Y_i $ é binária. Uma variável binária assume dois valores, como por exemplo, $ Y_i=0 $ e $ Y_i=1, $ denominados \"fracasso\" e \"sucesso\", respectivamente. Neste caso, \"sucesso\" é o evento de interesse."
   ]
  },
  {
   "cell_type": "markdown",
   "metadata": {},
   "source": [
    "## Diferença entre Distribuição Linear e Logística\n",
    "![image.png](https://estatsite.files.wordpress.com/2018/08/linear_vs_logistic_regression.jpg)"
   ]
  },
  {
   "cell_type": "code",
   "execution_count": 1,
   "metadata": {},
   "outputs": [],
   "source": [
    "#-- importando as libs\n",
    "import pandas as pd\n",
    "import numpy as np\n",
    "import seaborn as sns\n",
    "import matplotlib.pyplot as plt\n",
    "import joblib\n",
    "\n",
    "from statsmodels.stats.outliers_influence import variance_inflation_factor\n",
    "from imblearn.over_sampling import SMOTE\n",
    "from sklearn.model_selection import train_test_split\n",
    "from sklearn.linear_model import LogisticRegression, LogisticRegressionCV\n",
    "from sklearn.preprocessing import StandardScaler\n",
    "from sklearn.feature_selection import RFECV\n",
    "from sklearn.metrics import (accuracy_score, confusion_matrix, classification_report,\n",
    "                             roc_auc_score, log_loss, plot_confusion_matrix, roc_curve, auc, plot_roc_curve)\n",
    "\n",
    "plt.rcParams[\"figure.figsize\"] = (22,15)"
   ]
  },
  {
   "cell_type": "code",
   "execution_count": 2,
   "metadata": {},
   "outputs": [],
   "source": [
    "#-- setando parâmetros de font\n",
    "sns.set_context(\"notebook\", font_scale=1.5)"
   ]
  },
  {
   "cell_type": "code",
   "execution_count": 3,
   "metadata": {},
   "outputs": [
    {
     "data": {
      "text/html": [
       "<div>\n",
       "<style scoped>\n",
       "    .dataframe tbody tr th:only-of-type {\n",
       "        vertical-align: middle;\n",
       "    }\n",
       "\n",
       "    .dataframe tbody tr th {\n",
       "        vertical-align: top;\n",
       "    }\n",
       "\n",
       "    .dataframe thead th {\n",
       "        text-align: right;\n",
       "    }\n",
       "</style>\n",
       "<table border=\"1\" class=\"dataframe\">\n",
       "  <thead>\n",
       "    <tr style=\"text-align: right;\">\n",
       "      <th></th>\n",
       "      <th>0</th>\n",
       "      <th>1</th>\n",
       "      <th>2</th>\n",
       "      <th>3</th>\n",
       "      <th>4</th>\n",
       "    </tr>\n",
       "  </thead>\n",
       "  <tbody>\n",
       "    <tr>\n",
       "      <th>ADP</th>\n",
       "      <td>1</td>\n",
       "      <td>5</td>\n",
       "      <td>10</td>\n",
       "      <td>14</td>\n",
       "      <td>19</td>\n",
       "    </tr>\n",
       "    <tr>\n",
       "      <th>Admissão</th>\n",
       "      <td>2001-10-01 00:00:00</td>\n",
       "      <td>2001-10-01 00:00:00</td>\n",
       "      <td>2001-10-01 00:00:00</td>\n",
       "      <td>2001-10-01 00:00:00</td>\n",
       "      <td>2001-10-01 00:00:00</td>\n",
       "    </tr>\n",
       "    <tr>\n",
       "      <th>Desligamento</th>\n",
       "      <td></td>\n",
       "      <td>2012-12-03 00:00:00</td>\n",
       "      <td></td>\n",
       "      <td>2011-05-31 00:00:00</td>\n",
       "      <td>2010-09-01 00:00:00</td>\n",
       "    </tr>\n",
       "    <tr>\n",
       "      <th>Desligado?</th>\n",
       "      <td>N</td>\n",
       "      <td>Y</td>\n",
       "      <td>N</td>\n",
       "      <td>Y</td>\n",
       "      <td>Y</td>\n",
       "    </tr>\n",
       "    <tr>\n",
       "      <th>Iniciativa Desligamento</th>\n",
       "      <td>NaN</td>\n",
       "      <td>Funcionário</td>\n",
       "      <td>NaN</td>\n",
       "      <td>Funcionário</td>\n",
       "      <td>Empregador</td>\n",
       "    </tr>\n",
       "    <tr>\n",
       "      <th>...</th>\n",
       "      <td>...</td>\n",
       "      <td>...</td>\n",
       "      <td>...</td>\n",
       "      <td>...</td>\n",
       "      <td>...</td>\n",
       "    </tr>\n",
       "    <tr>\n",
       "      <th>PROMOÇÃO 2014</th>\n",
       "      <td>NaN</td>\n",
       "      <td>NaN</td>\n",
       "      <td>NaN</td>\n",
       "      <td>NaN</td>\n",
       "      <td>NaN</td>\n",
       "    </tr>\n",
       "    <tr>\n",
       "      <th>PROMOÇÃO 2015</th>\n",
       "      <td>NaN</td>\n",
       "      <td>NaN</td>\n",
       "      <td>NaN</td>\n",
       "      <td>NaN</td>\n",
       "      <td>NaN</td>\n",
       "    </tr>\n",
       "    <tr>\n",
       "      <th>PROMOÇÃO 2016</th>\n",
       "      <td>NaN</td>\n",
       "      <td>NaN</td>\n",
       "      <td>NaN</td>\n",
       "      <td>NaN</td>\n",
       "      <td>NaN</td>\n",
       "    </tr>\n",
       "    <tr>\n",
       "      <th>PROMOÇÃO 2017</th>\n",
       "      <td>NaN</td>\n",
       "      <td>NaN</td>\n",
       "      <td>NaN</td>\n",
       "      <td>NaN</td>\n",
       "      <td>NaN</td>\n",
       "    </tr>\n",
       "    <tr>\n",
       "      <th>PROMOVIDO</th>\n",
       "      <td>0</td>\n",
       "      <td>0</td>\n",
       "      <td>0</td>\n",
       "      <td>0</td>\n",
       "      <td>0</td>\n",
       "    </tr>\n",
       "  </tbody>\n",
       "</table>\n",
       "<p>63 rows × 5 columns</p>\n",
       "</div>"
      ],
      "text/plain": [
       "                                           0                    1  \\\n",
       "ADP                                        1                    5   \n",
       "Admissão                 2001-10-01 00:00:00  2001-10-01 00:00:00   \n",
       "Desligamento                                  2012-12-03 00:00:00   \n",
       "Desligado?                                 N                    Y   \n",
       "Iniciativa Desligamento                  NaN          Funcionário   \n",
       "...                                      ...                  ...   \n",
       "PROMOÇÃO 2014                            NaN                  NaN   \n",
       "PROMOÇÃO 2015                            NaN                  NaN   \n",
       "PROMOÇÃO 2016                            NaN                  NaN   \n",
       "PROMOÇÃO 2017                            NaN                  NaN   \n",
       "PROMOVIDO                                  0                    0   \n",
       "\n",
       "                                           2                    3  \\\n",
       "ADP                                       10                   14   \n",
       "Admissão                 2001-10-01 00:00:00  2001-10-01 00:00:00   \n",
       "Desligamento                                  2011-05-31 00:00:00   \n",
       "Desligado?                                 N                    Y   \n",
       "Iniciativa Desligamento                  NaN          Funcionário   \n",
       "...                                      ...                  ...   \n",
       "PROMOÇÃO 2014                            NaN                  NaN   \n",
       "PROMOÇÃO 2015                            NaN                  NaN   \n",
       "PROMOÇÃO 2016                            NaN                  NaN   \n",
       "PROMOÇÃO 2017                            NaN                  NaN   \n",
       "PROMOVIDO                                  0                    0   \n",
       "\n",
       "                                           4  \n",
       "ADP                                       19  \n",
       "Admissão                 2001-10-01 00:00:00  \n",
       "Desligamento             2010-09-01 00:00:00  \n",
       "Desligado?                                 Y  \n",
       "Iniciativa Desligamento          Empregador   \n",
       "...                                      ...  \n",
       "PROMOÇÃO 2014                            NaN  \n",
       "PROMOÇÃO 2015                            NaN  \n",
       "PROMOÇÃO 2016                            NaN  \n",
       "PROMOÇÃO 2017                            NaN  \n",
       "PROMOVIDO                                  0  \n",
       "\n",
       "[63 rows x 5 columns]"
      ]
     },
     "execution_count": 3,
     "metadata": {},
     "output_type": "execute_result"
    }
   ],
   "source": [
    "#-- carregando o dataset\n",
    "df = pd.read_excel('../data/Base Analytics.xlsx', sheet_name='Censo sem Estagiário')\n",
    "df.head().T"
   ]
  },
  {
   "cell_type": "markdown",
   "metadata": {},
   "source": [
    "## Exploratory Data Analysis (EDA)"
   ]
  },
  {
   "cell_type": "code",
   "execution_count": 4,
   "metadata": {},
   "outputs": [
    {
     "data": {
      "text/plain": [
       "(597, 63)"
      ]
     },
     "execution_count": 4,
     "metadata": {},
     "output_type": "execute_result"
    }
   ],
   "source": [
    "#-- apresentando as dimensões do dataset\n",
    "df.shape"
   ]
  },
  {
   "cell_type": "code",
   "execution_count": 5,
   "metadata": {},
   "outputs": [
    {
     "data": {
      "text/plain": [
       "ADP                                 int64\n",
       "Admissão                   datetime64[ns]\n",
       "Desligamento                       object\n",
       "Desligado?                         object\n",
       "Iniciativa Desligamento            object\n",
       "                                ...      \n",
       "PROMOÇÃO 2014                      object\n",
       "PROMOÇÃO 2015                      object\n",
       "PROMOÇÃO 2016                      object\n",
       "PROMOÇÃO 2017                      object\n",
       "PROMOVIDO                           int64\n",
       "Length: 63, dtype: object"
      ]
     },
     "execution_count": 5,
     "metadata": {},
     "output_type": "execute_result"
    }
   ],
   "source": [
    "#-- printando o tipo das variáveis\n",
    "df.dtypes"
   ]
  },
  {
   "cell_type": "code",
   "execution_count": 6,
   "metadata": {},
   "outputs": [
    {
     "name": "stdout",
     "output_type": "stream",
     "text": [
      "<class 'pandas.core.frame.DataFrame'>\n",
      "RangeIndex: 597 entries, 0 to 596\n",
      "Data columns (total 63 columns):\n",
      " #   Column                     Non-Null Count  Dtype         \n",
      "---  ------                     --------------  -----         \n",
      " 0   ADP                        597 non-null    int64         \n",
      " 1   Admissão                   597 non-null    datetime64[ns]\n",
      " 2   Desligamento               597 non-null    object        \n",
      " 3   Desligado?                 597 non-null    object        \n",
      " 4   Iniciativa Desligamento    253 non-null    object        \n",
      " 5   Tempo de Casa              597 non-null    float64       \n",
      " 6   Cod.Cargo                  597 non-null    int64         \n",
      " 7   Cargo                      597 non-null    object        \n",
      " 8   Cod.Cargo Admissão         597 non-null    int64         \n",
      " 9   Cargo Admissão             597 non-null    object        \n",
      " 10  CC                         597 non-null    int64         \n",
      " 11  Area                       597 non-null    object        \n",
      " 12  Diretoria                  597 non-null    object        \n",
      " 13  Estado Civil               596 non-null    object        \n",
      " 14  Educação                   596 non-null    object        \n",
      " 15  Idade Atual/ Desligamento  597 non-null    float64       \n",
      " 16  Idade na Admissão          597 non-null    float64       \n",
      " 17  Sexo                       597 non-null    object        \n",
      " 18  Banda                      597 non-null    int64         \n",
      " 19  Nivel                      597 non-null    object        \n",
      " 20  Hora Extra 2016            258 non-null    float64       \n",
      " 21  Hora Negativa 2016         257 non-null    float64       \n",
      " 22  Ad. Noturno 2016           257 non-null    float64       \n",
      " 23  Absenteísmo 2016           371 non-null    float64       \n",
      " 24  Hora Extra 2017            249 non-null    float64       \n",
      " 25  Hora Negativa 2017         249 non-null    float64       \n",
      " 26  Ad. Noturno 2017           249 non-null    float64       \n",
      " 27  Absenteísmo 2017           368 non-null    float64       \n",
      " 28  2012/13 Rating             134 non-null    object        \n",
      " 29  2012/13 Goal Achievement   0 non-null      float64       \n",
      " 30  2013/14 Rating             155 non-null    object        \n",
      " 31  2013/14 Goal Achievement   155 non-null    float64       \n",
      " 32  2014/15 Rating             211 non-null    object        \n",
      " 33  2014/15 Goal Achievement   175 non-null    float64       \n",
      " 34  2015/16 Rating             314 non-null    object        \n",
      " 35  2015/16 Goal Achievement   314 non-null    float64       \n",
      " 36  2016/17 Rating             334 non-null    object        \n",
      " 37  2016/17 Goal Achievement   334 non-null    float64       \n",
      " 38  AUMENTO 2012               8 non-null      object        \n",
      " 39  AUMENTO 2013               21 non-null     object        \n",
      " 40  AUMENTO 2014               8 non-null      object        \n",
      " 41  AUMENTO 2015               35 non-null     object        \n",
      " 42  AUMENTO 2016               33 non-null     object        \n",
      " 43  AUMENTO 2017               24 non-null     object        \n",
      " 44  DISSIDIO 2012              127 non-null    object        \n",
      " 45  DISSIDIO 2013              167 non-null    object        \n",
      " 46  DISSIDIO 2014              190 non-null    object        \n",
      " 47  DISSIDIO 2015              294 non-null    object        \n",
      " 48  DISSIDIO 2016              339 non-null    object        \n",
      " 49  DISSIDIO 2017              1 non-null      object        \n",
      " 50  MERITO 2012                41 non-null     object        \n",
      " 51  MERITO 2013                65 non-null     object        \n",
      " 52  MERITO 2014                85 non-null     object        \n",
      " 53  MERITO 2015                119 non-null    object        \n",
      " 54  MERITO 2016                97 non-null     object        \n",
      " 55  MERITO 2017                122 non-null    object        \n",
      " 56  PROMOÇÃO 2012              16 non-null     object        \n",
      " 57  PROMOÇÃO 2013              12 non-null     object        \n",
      " 58  PROMOÇÃO 2014              15 non-null     object        \n",
      " 59  PROMOÇÃO 2015              26 non-null     object        \n",
      " 60  PROMOÇÃO 2016              25 non-null     object        \n",
      " 61  PROMOÇÃO 2017              42 non-null     object        \n",
      " 62  PROMOVIDO                  597 non-null    int64         \n",
      "dtypes: datetime64[ns](1), float64(16), int64(6), object(40)\n",
      "memory usage: 294.0+ KB\n"
     ]
    }
   ],
   "source": [
    "#-- printando os nomes das colunas\n",
    "df.info()"
   ]
  },
  {
   "cell_type": "code",
   "execution_count": 7,
   "metadata": {},
   "outputs": [
    {
     "data": {
      "text/html": [
       "<div>\n",
       "<style scoped>\n",
       "    .dataframe tbody tr th:only-of-type {\n",
       "        vertical-align: middle;\n",
       "    }\n",
       "\n",
       "    .dataframe tbody tr th {\n",
       "        vertical-align: top;\n",
       "    }\n",
       "\n",
       "    .dataframe thead th {\n",
       "        text-align: right;\n",
       "    }\n",
       "</style>\n",
       "<table border=\"1\" class=\"dataframe\">\n",
       "  <thead>\n",
       "    <tr style=\"text-align: right;\">\n",
       "      <th></th>\n",
       "      <th>null_amount</th>\n",
       "      <th>null_ratio</th>\n",
       "    </tr>\n",
       "  </thead>\n",
       "  <tbody>\n",
       "    <tr>\n",
       "      <th>2012/13 Goal Achievement</th>\n",
       "      <td>597.0</td>\n",
       "      <td>1.000000</td>\n",
       "    </tr>\n",
       "    <tr>\n",
       "      <th>DISSIDIO 2017</th>\n",
       "      <td>596.0</td>\n",
       "      <td>0.998325</td>\n",
       "    </tr>\n",
       "    <tr>\n",
       "      <th>AUMENTO 2014</th>\n",
       "      <td>589.0</td>\n",
       "      <td>0.986600</td>\n",
       "    </tr>\n",
       "    <tr>\n",
       "      <th>AUMENTO 2012</th>\n",
       "      <td>589.0</td>\n",
       "      <td>0.986600</td>\n",
       "    </tr>\n",
       "    <tr>\n",
       "      <th>PROMOÇÃO 2013</th>\n",
       "      <td>585.0</td>\n",
       "      <td>0.979899</td>\n",
       "    </tr>\n",
       "    <tr>\n",
       "      <th>...</th>\n",
       "      <td>...</td>\n",
       "      <td>...</td>\n",
       "    </tr>\n",
       "    <tr>\n",
       "      <th>Idade na Admissão</th>\n",
       "      <td>0.0</td>\n",
       "      <td>0.000000</td>\n",
       "    </tr>\n",
       "    <tr>\n",
       "      <th>Sexo</th>\n",
       "      <td>0.0</td>\n",
       "      <td>0.000000</td>\n",
       "    </tr>\n",
       "    <tr>\n",
       "      <th>Banda</th>\n",
       "      <td>0.0</td>\n",
       "      <td>0.000000</td>\n",
       "    </tr>\n",
       "    <tr>\n",
       "      <th>Nivel</th>\n",
       "      <td>0.0</td>\n",
       "      <td>0.000000</td>\n",
       "    </tr>\n",
       "    <tr>\n",
       "      <th>ADP</th>\n",
       "      <td>0.0</td>\n",
       "      <td>0.000000</td>\n",
       "    </tr>\n",
       "  </tbody>\n",
       "</table>\n",
       "<p>63 rows × 2 columns</p>\n",
       "</div>"
      ],
      "text/plain": [
       "                          null_amount  null_ratio\n",
       "2012/13 Goal Achievement        597.0    1.000000\n",
       "DISSIDIO 2017                   596.0    0.998325\n",
       "AUMENTO 2014                    589.0    0.986600\n",
       "AUMENTO 2012                    589.0    0.986600\n",
       "PROMOÇÃO 2013                   585.0    0.979899\n",
       "...                               ...         ...\n",
       "Idade na Admissão                 0.0    0.000000\n",
       "Sexo                              0.0    0.000000\n",
       "Banda                             0.0    0.000000\n",
       "Nivel                             0.0    0.000000\n",
       "ADP                               0.0    0.000000\n",
       "\n",
       "[63 rows x 2 columns]"
      ]
     },
     "execution_count": 7,
     "metadata": {},
     "output_type": "execute_result"
    }
   ],
   "source": [
    "#-- pritnando a quantidade de missing values\n",
    "null_count = df.isnull().sum().sort_values(ascending=False)\n",
    "null_percentage = null_count / len(df)\n",
    "pd.DataFrame(data=[null_count, null_percentage],\n",
    "             index=['null_amount', 'null_ratio']).T"
   ]
  },
  {
   "cell_type": "code",
   "execution_count": 8,
   "metadata": {},
   "outputs": [
    {
     "data": {
      "text/html": [
       "<div>\n",
       "<style scoped>\n",
       "    .dataframe tbody tr th:only-of-type {\n",
       "        vertical-align: middle;\n",
       "    }\n",
       "\n",
       "    .dataframe tbody tr th {\n",
       "        vertical-align: top;\n",
       "    }\n",
       "\n",
       "    .dataframe thead th {\n",
       "        text-align: right;\n",
       "    }\n",
       "</style>\n",
       "<table border=\"1\" class=\"dataframe\">\n",
       "  <thead>\n",
       "    <tr style=\"text-align: right;\">\n",
       "      <th></th>\n",
       "      <th>ADP</th>\n",
       "      <th>Tempo de Casa</th>\n",
       "      <th>Cod.Cargo</th>\n",
       "      <th>Cod.Cargo Admissão</th>\n",
       "      <th>CC</th>\n",
       "      <th>Idade Atual/ Desligamento</th>\n",
       "      <th>Idade na Admissão</th>\n",
       "      <th>Banda</th>\n",
       "      <th>Hora Extra 2016</th>\n",
       "      <th>Hora Negativa 2016</th>\n",
       "      <th>...</th>\n",
       "      <th>Hora Extra 2017</th>\n",
       "      <th>Hora Negativa 2017</th>\n",
       "      <th>Ad. Noturno 2017</th>\n",
       "      <th>Absenteísmo 2017</th>\n",
       "      <th>2012/13 Goal Achievement</th>\n",
       "      <th>2013/14 Goal Achievement</th>\n",
       "      <th>2014/15 Goal Achievement</th>\n",
       "      <th>2015/16 Goal Achievement</th>\n",
       "      <th>2016/17 Goal Achievement</th>\n",
       "      <th>PROMOVIDO</th>\n",
       "    </tr>\n",
       "  </thead>\n",
       "  <tbody>\n",
       "    <tr>\n",
       "      <th>count</th>\n",
       "      <td>597.000000</td>\n",
       "      <td>597.000000</td>\n",
       "      <td>597.000000</td>\n",
       "      <td>597.000000</td>\n",
       "      <td>597.000000</td>\n",
       "      <td>597.000000</td>\n",
       "      <td>597.000000</td>\n",
       "      <td>597.000000</td>\n",
       "      <td>258.000000</td>\n",
       "      <td>257.000000</td>\n",
       "      <td>...</td>\n",
       "      <td>249.000000</td>\n",
       "      <td>249.000000</td>\n",
       "      <td>249.000000</td>\n",
       "      <td>368.000000</td>\n",
       "      <td>0.0</td>\n",
       "      <td>155.000000</td>\n",
       "      <td>175.000000</td>\n",
       "      <td>314.000000</td>\n",
       "      <td>334.000000</td>\n",
       "      <td>597.000000</td>\n",
       "    </tr>\n",
       "    <tr>\n",
       "      <th>mean</th>\n",
       "      <td>396.296482</td>\n",
       "      <td>4.114050</td>\n",
       "      <td>812.654941</td>\n",
       "      <td>785.649916</td>\n",
       "      <td>1116.221106</td>\n",
       "      <td>35.558257</td>\n",
       "      <td>32.534416</td>\n",
       "      <td>333.584590</td>\n",
       "      <td>65.308810</td>\n",
       "      <td>4.339209</td>\n",
       "      <td>...</td>\n",
       "      <td>39.885797</td>\n",
       "      <td>3.264123</td>\n",
       "      <td>1.963722</td>\n",
       "      <td>0.078804</td>\n",
       "      <td>NaN</td>\n",
       "      <td>91.037419</td>\n",
       "      <td>107.680571</td>\n",
       "      <td>103.543312</td>\n",
       "      <td>104.483533</td>\n",
       "      <td>0.194305</td>\n",
       "    </tr>\n",
       "    <tr>\n",
       "      <th>std</th>\n",
       "      <td>402.304237</td>\n",
       "      <td>3.030217</td>\n",
       "      <td>130.416582</td>\n",
       "      <td>120.734357</td>\n",
       "      <td>174.526891</td>\n",
       "      <td>8.626609</td>\n",
       "      <td>8.335124</td>\n",
       "      <td>179.129743</td>\n",
       "      <td>74.081053</td>\n",
       "      <td>10.836156</td>\n",
       "      <td>...</td>\n",
       "      <td>48.930661</td>\n",
       "      <td>12.315578</td>\n",
       "      <td>6.167210</td>\n",
       "      <td>0.523858</td>\n",
       "      <td>NaN</td>\n",
       "      <td>12.872765</td>\n",
       "      <td>9.856783</td>\n",
       "      <td>8.611132</td>\n",
       "      <td>7.530985</td>\n",
       "      <td>0.395996</td>\n",
       "    </tr>\n",
       "    <tr>\n",
       "      <th>min</th>\n",
       "      <td>1.000000</td>\n",
       "      <td>0.024658</td>\n",
       "      <td>520.000000</td>\n",
       "      <td>520.000000</td>\n",
       "      <td>8.000000</td>\n",
       "      <td>19.000000</td>\n",
       "      <td>18.734247</td>\n",
       "      <td>100.000000</td>\n",
       "      <td>0.000000</td>\n",
       "      <td>0.000000</td>\n",
       "      <td>...</td>\n",
       "      <td>0.000000</td>\n",
       "      <td>0.000000</td>\n",
       "      <td>0.000000</td>\n",
       "      <td>0.000000</td>\n",
       "      <td>NaN</td>\n",
       "      <td>0.000000</td>\n",
       "      <td>80.000000</td>\n",
       "      <td>77.100000</td>\n",
       "      <td>75.600000</td>\n",
       "      <td>0.000000</td>\n",
       "    </tr>\n",
       "    <tr>\n",
       "      <th>25%</th>\n",
       "      <td>179.000000</td>\n",
       "      <td>1.821918</td>\n",
       "      <td>704.000000</td>\n",
       "      <td>685.000000</td>\n",
       "      <td>1014.000000</td>\n",
       "      <td>29.000000</td>\n",
       "      <td>26.312329</td>\n",
       "      <td>200.000000</td>\n",
       "      <td>12.979167</td>\n",
       "      <td>0.000000</td>\n",
       "      <td>...</td>\n",
       "      <td>5.133333</td>\n",
       "      <td>0.000000</td>\n",
       "      <td>0.000000</td>\n",
       "      <td>0.000000</td>\n",
       "      <td>NaN</td>\n",
       "      <td>89.550000</td>\n",
       "      <td>100.000000</td>\n",
       "      <td>100.000000</td>\n",
       "      <td>100.925000</td>\n",
       "      <td>0.000000</td>\n",
       "    </tr>\n",
       "    <tr>\n",
       "      <th>50%</th>\n",
       "      <td>328.000000</td>\n",
       "      <td>3.575342</td>\n",
       "      <td>811.000000</td>\n",
       "      <td>785.000000</td>\n",
       "      <td>1100.000000</td>\n",
       "      <td>34.000000</td>\n",
       "      <td>30.660274</td>\n",
       "      <td>300.000000</td>\n",
       "      <td>43.683333</td>\n",
       "      <td>0.000000</td>\n",
       "      <td>...</td>\n",
       "      <td>21.450000</td>\n",
       "      <td>0.000000</td>\n",
       "      <td>0.000000</td>\n",
       "      <td>0.000000</td>\n",
       "      <td>NaN</td>\n",
       "      <td>94.000000</td>\n",
       "      <td>105.000000</td>\n",
       "      <td>103.800000</td>\n",
       "      <td>104.000000</td>\n",
       "      <td>0.000000</td>\n",
       "    </tr>\n",
       "    <tr>\n",
       "      <th>75%</th>\n",
       "      <td>477.000000</td>\n",
       "      <td>5.479452</td>\n",
       "      <td>903.000000</td>\n",
       "      <td>864.000000</td>\n",
       "      <td>1250.000000</td>\n",
       "      <td>41.153425</td>\n",
       "      <td>37.726027</td>\n",
       "      <td>500.000000</td>\n",
       "      <td>90.362500</td>\n",
       "      <td>3.300000</td>\n",
       "      <td>...</td>\n",
       "      <td>61.083333</td>\n",
       "      <td>1.516667</td>\n",
       "      <td>0.533333</td>\n",
       "      <td>0.000000</td>\n",
       "      <td>NaN</td>\n",
       "      <td>97.000000</td>\n",
       "      <td>115.000000</td>\n",
       "      <td>108.000000</td>\n",
       "      <td>107.300000</td>\n",
       "      <td>0.000000</td>\n",
       "    </tr>\n",
       "    <tr>\n",
       "      <th>max</th>\n",
       "      <td>2066.000000</td>\n",
       "      <td>17.260274</td>\n",
       "      <td>1084.000000</td>\n",
       "      <td>1084.000000</td>\n",
       "      <td>2090.000000</td>\n",
       "      <td>66.000000</td>\n",
       "      <td>63.438356</td>\n",
       "      <td>850.000000</td>\n",
       "      <td>527.233333</td>\n",
       "      <td>97.066667</td>\n",
       "      <td>...</td>\n",
       "      <td>287.150000</td>\n",
       "      <td>160.800000</td>\n",
       "      <td>43.450000</td>\n",
       "      <td>7.000000</td>\n",
       "      <td>NaN</td>\n",
       "      <td>100.000000</td>\n",
       "      <td>135.900000</td>\n",
       "      <td>134.600000</td>\n",
       "      <td>135.000000</td>\n",
       "      <td>1.000000</td>\n",
       "    </tr>\n",
       "  </tbody>\n",
       "</table>\n",
       "<p>8 rows × 22 columns</p>\n",
       "</div>"
      ],
      "text/plain": [
       "               ADP  Tempo de Casa    Cod.Cargo  Cod.Cargo Admissão  \\\n",
       "count   597.000000     597.000000   597.000000          597.000000   \n",
       "mean    396.296482       4.114050   812.654941          785.649916   \n",
       "std     402.304237       3.030217   130.416582          120.734357   \n",
       "min       1.000000       0.024658   520.000000          520.000000   \n",
       "25%     179.000000       1.821918   704.000000          685.000000   \n",
       "50%     328.000000       3.575342   811.000000          785.000000   \n",
       "75%     477.000000       5.479452   903.000000          864.000000   \n",
       "max    2066.000000      17.260274  1084.000000         1084.000000   \n",
       "\n",
       "                CC  Idade Atual/ Desligamento  Idade na Admissão       Banda  \\\n",
       "count   597.000000                 597.000000         597.000000  597.000000   \n",
       "mean   1116.221106                  35.558257          32.534416  333.584590   \n",
       "std     174.526891                   8.626609           8.335124  179.129743   \n",
       "min       8.000000                  19.000000          18.734247  100.000000   \n",
       "25%    1014.000000                  29.000000          26.312329  200.000000   \n",
       "50%    1100.000000                  34.000000          30.660274  300.000000   \n",
       "75%    1250.000000                  41.153425          37.726027  500.000000   \n",
       "max    2090.000000                  66.000000          63.438356  850.000000   \n",
       "\n",
       "       Hora Extra 2016  Hora Negativa 2016  ...  Hora Extra 2017  \\\n",
       "count       258.000000          257.000000  ...       249.000000   \n",
       "mean         65.308810            4.339209  ...        39.885797   \n",
       "std          74.081053           10.836156  ...        48.930661   \n",
       "min           0.000000            0.000000  ...         0.000000   \n",
       "25%          12.979167            0.000000  ...         5.133333   \n",
       "50%          43.683333            0.000000  ...        21.450000   \n",
       "75%          90.362500            3.300000  ...        61.083333   \n",
       "max         527.233333           97.066667  ...       287.150000   \n",
       "\n",
       "       Hora Negativa 2017  Ad. Noturno 2017  Absenteísmo 2017  \\\n",
       "count          249.000000        249.000000        368.000000   \n",
       "mean             3.264123          1.963722          0.078804   \n",
       "std             12.315578          6.167210          0.523858   \n",
       "min              0.000000          0.000000          0.000000   \n",
       "25%              0.000000          0.000000          0.000000   \n",
       "50%              0.000000          0.000000          0.000000   \n",
       "75%              1.516667          0.533333          0.000000   \n",
       "max            160.800000         43.450000          7.000000   \n",
       "\n",
       "       2012/13 Goal Achievement  2013/14 Goal Achievement  \\\n",
       "count                       0.0                155.000000   \n",
       "mean                        NaN                 91.037419   \n",
       "std                         NaN                 12.872765   \n",
       "min                         NaN                  0.000000   \n",
       "25%                         NaN                 89.550000   \n",
       "50%                         NaN                 94.000000   \n",
       "75%                         NaN                 97.000000   \n",
       "max                         NaN                100.000000   \n",
       "\n",
       "       2014/15 Goal Achievement  2015/16 Goal Achievement  \\\n",
       "count                175.000000                314.000000   \n",
       "mean                 107.680571                103.543312   \n",
       "std                    9.856783                  8.611132   \n",
       "min                   80.000000                 77.100000   \n",
       "25%                  100.000000                100.000000   \n",
       "50%                  105.000000                103.800000   \n",
       "75%                  115.000000                108.000000   \n",
       "max                  135.900000                134.600000   \n",
       "\n",
       "       2016/17 Goal Achievement   PROMOVIDO  \n",
       "count                334.000000  597.000000  \n",
       "mean                 104.483533    0.194305  \n",
       "std                    7.530985    0.395996  \n",
       "min                   75.600000    0.000000  \n",
       "25%                  100.925000    0.000000  \n",
       "50%                  104.000000    0.000000  \n",
       "75%                  107.300000    0.000000  \n",
       "max                  135.000000    1.000000  \n",
       "\n",
       "[8 rows x 22 columns]"
      ]
     },
     "execution_count": 8,
     "metadata": {},
     "output_type": "execute_result"
    }
   ],
   "source": [
    "#-- printando algumas métricas dos dados numéricos do dataset\n",
    "df.describe()"
   ]
  },
  {
   "cell_type": "markdown",
   "metadata": {},
   "source": [
    "## Será que eu posso utilizar todo o Dataset?"
   ]
  },
  {
   "cell_type": "code",
   "execution_count": null,
   "metadata": {},
   "outputs": [],
   "source": [
    "\"\"\"\n",
    "\n",
    "\n",
    "\n",
    "\n",
    "\n",
    "\n",
    "\n",
    "\n",
    "\n",
    "\n",
    "\n",
    "\n",
    "\n",
    "\n",
    "\"\"\""
   ]
  },
  {
   "cell_type": "code",
   "execution_count": 9,
   "metadata": {},
   "outputs": [
    {
     "data": {
      "text/plain": [
       "Timestamp('2001-06-18 00:00:00')"
      ]
     },
     "execution_count": 9,
     "metadata": {},
     "output_type": "execute_result"
    }
   ],
   "source": [
    "#-- retornando menor data de admissão\n",
    "min(df['Admissão'])"
   ]
  },
  {
   "cell_type": "code",
   "execution_count": 10,
   "metadata": {},
   "outputs": [],
   "source": [
    "#-- filtrando pela data de admissão\n",
    "df_ano = df[df['Admissão'] >= '2011-01-01']"
   ]
  },
  {
   "cell_type": "code",
   "execution_count": 11,
   "metadata": {},
   "outputs": [
    {
     "data": {
      "text/plain": [
       "(439, 63)"
      ]
     },
     "execution_count": 11,
     "metadata": {},
     "output_type": "execute_result"
    }
   ],
   "source": [
    "#-- retornando o tamanho do dataset\n",
    "df_ano.shape"
   ]
  },
  {
   "cell_type": "code",
   "execution_count": 12,
   "metadata": {},
   "outputs": [
    {
     "data": {
      "text/html": [
       "<div>\n",
       "<style scoped>\n",
       "    .dataframe tbody tr th:only-of-type {\n",
       "        vertical-align: middle;\n",
       "    }\n",
       "\n",
       "    .dataframe tbody tr th {\n",
       "        vertical-align: top;\n",
       "    }\n",
       "\n",
       "    .dataframe thead th {\n",
       "        text-align: right;\n",
       "    }\n",
       "</style>\n",
       "<table border=\"1\" class=\"dataframe\">\n",
       "  <thead>\n",
       "    <tr style=\"text-align: right;\">\n",
       "      <th></th>\n",
       "      <th>null_amount</th>\n",
       "      <th>null_ratio</th>\n",
       "    </tr>\n",
       "  </thead>\n",
       "  <tbody>\n",
       "    <tr>\n",
       "      <th>2012/13 Goal Achievement</th>\n",
       "      <td>439.0</td>\n",
       "      <td>1.000000</td>\n",
       "    </tr>\n",
       "    <tr>\n",
       "      <th>DISSIDIO 2017</th>\n",
       "      <td>438.0</td>\n",
       "      <td>0.997722</td>\n",
       "    </tr>\n",
       "    <tr>\n",
       "      <th>PROMOÇÃO 2012</th>\n",
       "      <td>435.0</td>\n",
       "      <td>0.990888</td>\n",
       "    </tr>\n",
       "    <tr>\n",
       "      <th>PROMOÇÃO 2013</th>\n",
       "      <td>434.0</td>\n",
       "      <td>0.988610</td>\n",
       "    </tr>\n",
       "    <tr>\n",
       "      <th>AUMENTO 2012</th>\n",
       "      <td>432.0</td>\n",
       "      <td>0.984055</td>\n",
       "    </tr>\n",
       "    <tr>\n",
       "      <th>...</th>\n",
       "      <td>...</td>\n",
       "      <td>...</td>\n",
       "    </tr>\n",
       "    <tr>\n",
       "      <th>Idade na Admissão</th>\n",
       "      <td>0.0</td>\n",
       "      <td>0.000000</td>\n",
       "    </tr>\n",
       "    <tr>\n",
       "      <th>Sexo</th>\n",
       "      <td>0.0</td>\n",
       "      <td>0.000000</td>\n",
       "    </tr>\n",
       "    <tr>\n",
       "      <th>Banda</th>\n",
       "      <td>0.0</td>\n",
       "      <td>0.000000</td>\n",
       "    </tr>\n",
       "    <tr>\n",
       "      <th>Nivel</th>\n",
       "      <td>0.0</td>\n",
       "      <td>0.000000</td>\n",
       "    </tr>\n",
       "    <tr>\n",
       "      <th>ADP</th>\n",
       "      <td>0.0</td>\n",
       "      <td>0.000000</td>\n",
       "    </tr>\n",
       "  </tbody>\n",
       "</table>\n",
       "<p>63 rows × 2 columns</p>\n",
       "</div>"
      ],
      "text/plain": [
       "                          null_amount  null_ratio\n",
       "2012/13 Goal Achievement        439.0    1.000000\n",
       "DISSIDIO 2017                   438.0    0.997722\n",
       "PROMOÇÃO 2012                   435.0    0.990888\n",
       "PROMOÇÃO 2013                   434.0    0.988610\n",
       "AUMENTO 2012                    432.0    0.984055\n",
       "...                               ...         ...\n",
       "Idade na Admissão                 0.0    0.000000\n",
       "Sexo                              0.0    0.000000\n",
       "Banda                             0.0    0.000000\n",
       "Nivel                             0.0    0.000000\n",
       "ADP                               0.0    0.000000\n",
       "\n",
       "[63 rows x 2 columns]"
      ]
     },
     "execution_count": 12,
     "metadata": {},
     "output_type": "execute_result"
    }
   ],
   "source": [
    "#-- verificando os missing values do dataset\n",
    "null_count = df_ano.isnull().sum().sort_values(ascending=False)\n",
    "null_percentage = null_count / len(df_ano)\n",
    "pd.DataFrame(data=[null_count, null_percentage],\n",
    "             index=['null_amount', 'null_ratio']).T"
   ]
  },
  {
   "cell_type": "markdown",
   "metadata": {},
   "source": [
    "### Distribuição das Idades"
   ]
  },
  {
   "cell_type": "code",
   "execution_count": 13,
   "metadata": {},
   "outputs": [
    {
     "data": {
      "image/png": "[encoded data removed]",
      "text/plain": [
       "<Figure size 1584x1080 with 1 Axes>"
      ]
     },
     "metadata": {
      "needs_background": "light"
     },
     "output_type": "display_data"
    }
   ],
   "source": [
    "#-- pritando um histograma da idade de admissão dos funcionários\n",
    "_ = sns.distplot(df_ano['Idade na Admissão'])"
   ]
  },
  {
   "cell_type": "markdown",
   "metadata": {},
   "source": [
    "### Hora Extra"
   ]
  },
  {
   "cell_type": "code",
   "execution_count": 14,
   "metadata": {},
   "outputs": [
    {
     "data": {
      "image/png": "[encoded data removed]",
      "text/plain": [
       "<Figure size 1584x1080 with 1 Axes>"
      ]
     },
     "metadata": {
      "needs_background": "light"
     },
     "output_type": "display_data"
    }
   ],
   "source": [
    "#-- plotando o gráfico das horas extras\n",
    "_ = sns.distplot(df_ano['Hora Extra 2016'])"
   ]
  },
  {
   "cell_type": "code",
   "execution_count": 15,
   "metadata": {},
   "outputs": [
    {
     "data": {
      "text/plain": [
       "201"
      ]
     },
     "execution_count": 15,
     "metadata": {},
     "output_type": "execute_result"
    }
   ],
   "source": [
    "df_ano['Hora Extra 2016'].isnull().sum()"
   ]
  },
  {
   "cell_type": "code",
   "execution_count": 16,
   "metadata": {},
   "outputs": [
    {
     "name": "stderr",
     "output_type": "stream",
     "text": [
      "C:\\ProgramData\\Anaconda3\\lib\\site-packages\\pandas\\core\\generic.py:6245: SettingWithCopyWarning: \n",
      "A value is trying to be set on a copy of a slice from a DataFrame\n",
      "\n",
      "See the caveats in the documentation: https://pandas.pydata.org/pandas-docs/stable/user_guide/indexing.html#returning-a-view-versus-a-copy\n",
      "  self._update_inplace(new_data)\n"
     ]
    }
   ],
   "source": [
    "#-- preenchendo os missing values com flags\n",
    "df_ano['Hora Extra 2016'].fillna(-100, inplace = True)"
   ]
  },
  {
   "cell_type": "code",
   "execution_count": 17,
   "metadata": {},
   "outputs": [
    {
     "data": {
      "image/png": "[encoded data removed]",
      "text/plain": [
       "<Figure size 1584x1080 with 1 Axes>"
      ]
     },
     "metadata": {
      "needs_background": "light"
     },
     "output_type": "display_data"
    }
   ],
   "source": [
    "#-- plotando o hostograma das horas extras\n",
    "_ = sns.distplot(df_ano['Hora Extra 2016'])"
   ]
  },
  {
   "cell_type": "markdown",
   "metadata": {},
   "source": [
    "### Qual a idade de desligamento?"
   ]
  },
  {
   "cell_type": "code",
   "execution_count": 18,
   "metadata": {},
   "outputs": [
    {
     "data": {
      "image/png": "[encoded data removed]",
      "text/plain": [
       "<Figure size 1584x1080 with 1 Axes>"
      ]
     },
     "metadata": {
      "needs_background": "light"
     },
     "output_type": "display_data"
    }
   ],
   "source": [
    "#-- plotando o histograma da idade de desligamento\n",
    "_ = sns.distplot(df_ano['Idade Atual/ Desligamento'])"
   ]
  },
  {
   "cell_type": "markdown",
   "metadata": {},
   "source": [
    "### Qual outros gráficos vocês fariam?"
   ]
  },
  {
   "cell_type": "code",
   "execution_count": 19,
   "metadata": {},
   "outputs": [
    {
     "data": {
      "image/png": "[encoded data removed]",
      "text/plain": [
       "<Figure size 1584x1080 with 1 Axes>"
      ]
     },
     "metadata": {
      "needs_background": "light"
     },
     "output_type": "display_data"
    }
   ],
   "source": [
    "_ = sns.distplot(df_ano['Tempo de Casa'])"
   ]
  },
  {
   "cell_type": "code",
   "execution_count": null,
   "metadata": {},
   "outputs": [],
   "source": []
  },
  {
   "cell_type": "code",
   "execution_count": null,
   "metadata": {},
   "outputs": [],
   "source": []
  },
  {
   "cell_type": "code",
   "execution_count": null,
   "metadata": {},
   "outputs": [],
   "source": []
  },
  {
   "cell_type": "code",
   "execution_count": null,
   "metadata": {},
   "outputs": [],
   "source": []
  },
  {
   "cell_type": "code",
   "execution_count": null,
   "metadata": {},
   "outputs": [],
   "source": []
  },
  {
   "cell_type": "code",
   "execution_count": null,
   "metadata": {},
   "outputs": [],
   "source": []
  },
  {
   "cell_type": "code",
   "execution_count": null,
   "metadata": {},
   "outputs": [],
   "source": []
  },
  {
   "cell_type": "code",
   "execution_count": null,
   "metadata": {},
   "outputs": [],
   "source": []
  },
  {
   "cell_type": "code",
   "execution_count": 20,
   "metadata": {},
   "outputs": [
    {
     "data": {
      "image/png": "[encoded data removed]",
      "text/plain": [
       "<Figure size 1584x1080 with 1 Axes>"
      ]
     },
     "metadata": {
      "needs_background": "light"
     },
     "output_type": "display_data"
    }
   ],
   "source": [
    "#-- plotando boxplot da promoção pelo tempo de casa\n",
    "_ = sns.boxplot(x=df_ano['PROMOVIDO'], y=df_ano['Tempo de Casa'])"
   ]
  },
  {
   "cell_type": "markdown",
   "metadata": {},
   "source": [
    "## Preparando os dados"
   ]
  },
  {
   "cell_type": "code",
   "execution_count": 21,
   "metadata": {},
   "outputs": [],
   "source": [
    "#-- separando a variável do dataset de análise\n",
    "X = df_ano.drop(columns=['PROMOVIDO'])\n",
    "y = df_ano['PROMOVIDO']"
   ]
  },
  {
   "cell_type": "code",
   "execution_count": 22,
   "metadata": {},
   "outputs": [],
   "source": [
    "#-- separando os dados para treino e teste\n",
    "X_train, X_test, y_train, y_test = train_test_split(X, y, test_size=0.3, \n",
    "                                                    random_state=0)"
   ]
  },
  {
   "cell_type": "markdown",
   "metadata": {},
   "source": [
    "## Aplicando a Regressão Logística"
   ]
  },
  {
   "cell_type": "code",
   "execution_count": 23,
   "metadata": {},
   "outputs": [],
   "source": [
    "#-- guardando o algoritmo de regressão logística\n",
    "logreg = LogisticRegression()"
   ]
  },
  {
   "cell_type": "code",
   "execution_count": 24,
   "metadata": {},
   "outputs": [
    {
     "ename": "TypeError",
     "evalue": "invalid type promotion",
     "output_type": "error",
     "traceback": [
      "\u001b[1;31m---------------------------------------------------------------------------\u001b[0m",
      "\u001b[1;31mTypeError\u001b[0m                                 Traceback (most recent call last)",
      "\u001b[1;32m<ipython-input-24-1463fa7e2a1e>\u001b[0m in \u001b[0;36m<module>\u001b[1;34m\u001b[0m\n\u001b[0;32m      1\u001b[0m \u001b[1;31m#-- aplicando o algoritmo\u001b[0m\u001b[1;33m\u001b[0m\u001b[1;33m\u001b[0m\u001b[1;33m\u001b[0m\u001b[0m\n\u001b[1;32m----> 2\u001b[1;33m \u001b[0mlogreg\u001b[0m\u001b[1;33m.\u001b[0m\u001b[0mfit\u001b[0m\u001b[1;33m(\u001b[0m\u001b[0mX_train\u001b[0m\u001b[1;33m,\u001b[0m \u001b[0my_train\u001b[0m\u001b[1;33m)\u001b[0m\u001b[1;33m\u001b[0m\u001b[1;33m\u001b[0m\u001b[0m\n\u001b[0m\u001b[0;32m      3\u001b[0m \u001b[1;33m\u001b[0m\u001b[0m\n\u001b[0;32m      4\u001b[0m \u001b[1;31m#-- predizendo as respostas\u001b[0m\u001b[1;33m\u001b[0m\u001b[1;33m\u001b[0m\u001b[1;33m\u001b[0m\u001b[0m\n\u001b[0;32m      5\u001b[0m \u001b[0my_pred\u001b[0m \u001b[1;33m=\u001b[0m \u001b[0mlogreg\u001b[0m\u001b[1;33m.\u001b[0m\u001b[0mpredict\u001b[0m\u001b[1;33m(\u001b[0m\u001b[0mX_test\u001b[0m\u001b[1;33m)\u001b[0m\u001b[1;33m\u001b[0m\u001b[1;33m\u001b[0m\u001b[0m\n",
      "\u001b[1;32mC:\\ProgramData\\Anaconda3\\lib\\site-packages\\sklearn\\linear_model\\_logistic.py\u001b[0m in \u001b[0;36mfit\u001b[1;34m(self, X, y, sample_weight)\u001b[0m\n\u001b[0;32m   1525\u001b[0m \u001b[1;33m\u001b[0m\u001b[0m\n\u001b[0;32m   1526\u001b[0m         X, y = check_X_y(X, y, accept_sparse='csr', dtype=_dtype, order=\"C\",\n\u001b[1;32m-> 1527\u001b[1;33m                          accept_large_sparse=solver != 'liblinear')\n\u001b[0m\u001b[0;32m   1528\u001b[0m         \u001b[0mcheck_classification_targets\u001b[0m\u001b[1;33m(\u001b[0m\u001b[0my\u001b[0m\u001b[1;33m)\u001b[0m\u001b[1;33m\u001b[0m\u001b[1;33m\u001b[0m\u001b[0m\n\u001b[0;32m   1529\u001b[0m         \u001b[0mself\u001b[0m\u001b[1;33m.\u001b[0m\u001b[0mclasses_\u001b[0m \u001b[1;33m=\u001b[0m \u001b[0mnp\u001b[0m\u001b[1;33m.\u001b[0m\u001b[0munique\u001b[0m\u001b[1;33m(\u001b[0m\u001b[0my\u001b[0m\u001b[1;33m)\u001b[0m\u001b[1;33m\u001b[0m\u001b[1;33m\u001b[0m\u001b[0m\n",
      "\u001b[1;32mC:\\ProgramData\\Anaconda3\\lib\\site-packages\\sklearn\\utils\\validation.py\u001b[0m in \u001b[0;36mcheck_X_y\u001b[1;34m(X, y, accept_sparse, accept_large_sparse, dtype, order, copy, force_all_finite, ensure_2d, allow_nd, multi_output, ensure_min_samples, ensure_min_features, y_numeric, warn_on_dtype, estimator)\u001b[0m\n\u001b[0;32m    753\u001b[0m                     \u001b[0mensure_min_features\u001b[0m\u001b[1;33m=\u001b[0m\u001b[0mensure_min_features\u001b[0m\u001b[1;33m,\u001b[0m\u001b[1;33m\u001b[0m\u001b[1;33m\u001b[0m\u001b[0m\n\u001b[0;32m    754\u001b[0m                     \u001b[0mwarn_on_dtype\u001b[0m\u001b[1;33m=\u001b[0m\u001b[0mwarn_on_dtype\u001b[0m\u001b[1;33m,\u001b[0m\u001b[1;33m\u001b[0m\u001b[1;33m\u001b[0m\u001b[0m\n\u001b[1;32m--> 755\u001b[1;33m                     estimator=estimator)\n\u001b[0m\u001b[0;32m    756\u001b[0m     \u001b[1;32mif\u001b[0m \u001b[0mmulti_output\u001b[0m\u001b[1;33m:\u001b[0m\u001b[1;33m\u001b[0m\u001b[1;33m\u001b[0m\u001b[0m\n\u001b[0;32m    757\u001b[0m         y = check_array(y, 'csr', force_all_finite=True, ensure_2d=False,\n",
      "\u001b[1;32mC:\\ProgramData\\Anaconda3\\lib\\site-packages\\sklearn\\utils\\validation.py\u001b[0m in \u001b[0;36mcheck_array\u001b[1;34m(array, accept_sparse, accept_large_sparse, dtype, order, copy, force_all_finite, ensure_2d, allow_nd, ensure_min_samples, ensure_min_features, warn_on_dtype, estimator)\u001b[0m\n\u001b[0;32m    473\u001b[0m \u001b[1;33m\u001b[0m\u001b[0m\n\u001b[0;32m    474\u001b[0m         \u001b[1;32mif\u001b[0m \u001b[0mall\u001b[0m\u001b[1;33m(\u001b[0m\u001b[0misinstance\u001b[0m\u001b[1;33m(\u001b[0m\u001b[0mdtype\u001b[0m\u001b[1;33m,\u001b[0m \u001b[0mnp\u001b[0m\u001b[1;33m.\u001b[0m\u001b[0mdtype\u001b[0m\u001b[1;33m)\u001b[0m \u001b[1;32mfor\u001b[0m \u001b[0mdtype\u001b[0m \u001b[1;32min\u001b[0m \u001b[0mdtypes_orig\u001b[0m\u001b[1;33m)\u001b[0m\u001b[1;33m:\u001b[0m\u001b[1;33m\u001b[0m\u001b[1;33m\u001b[0m\u001b[0m\n\u001b[1;32m--> 475\u001b[1;33m             \u001b[0mdtype_orig\u001b[0m \u001b[1;33m=\u001b[0m \u001b[0mnp\u001b[0m\u001b[1;33m.\u001b[0m\u001b[0mresult_type\u001b[0m\u001b[1;33m(\u001b[0m\u001b[1;33m*\u001b[0m\u001b[0mdtypes_orig\u001b[0m\u001b[1;33m)\u001b[0m\u001b[1;33m\u001b[0m\u001b[1;33m\u001b[0m\u001b[0m\n\u001b[0m\u001b[0;32m    476\u001b[0m \u001b[1;33m\u001b[0m\u001b[0m\n\u001b[0;32m    477\u001b[0m     \u001b[1;32mif\u001b[0m \u001b[0mdtype_numeric\u001b[0m\u001b[1;33m:\u001b[0m\u001b[1;33m\u001b[0m\u001b[1;33m\u001b[0m\u001b[0m\n",
      "\u001b[1;32m<__array_function__ internals>\u001b[0m in \u001b[0;36mresult_type\u001b[1;34m(*args, **kwargs)\u001b[0m\n",
      "\u001b[1;31mTypeError\u001b[0m: invalid type promotion"
     ]
    }
   ],
   "source": [
    "#-- aplicando o algoritmo \n",
    "logreg.fit(X_train, y_train)\n",
    "\n",
    "#-- predizendo as respostas\n",
    "y_pred = logreg.predict(X_test)"
   ]
  },
  {
   "cell_type": "code",
   "execution_count": null,
   "metadata": {},
   "outputs": [],
   "source": []
  },
  {
   "cell_type": "code",
   "execution_count": null,
   "metadata": {},
   "outputs": [],
   "source": []
  },
  {
   "cell_type": "code",
   "execution_count": null,
   "metadata": {},
   "outputs": [],
   "source": []
  },
  {
   "cell_type": "code",
   "execution_count": 25,
   "metadata": {},
   "outputs": [
    {
     "data": {
      "text/html": [
       "<div>\n",
       "<style scoped>\n",
       "    .dataframe tbody tr th:only-of-type {\n",
       "        vertical-align: middle;\n",
       "    }\n",
       "\n",
       "    .dataframe tbody tr th {\n",
       "        vertical-align: top;\n",
       "    }\n",
       "\n",
       "    .dataframe thead th {\n",
       "        text-align: right;\n",
       "    }\n",
       "</style>\n",
       "<table border=\"1\" class=\"dataframe\">\n",
       "  <thead>\n",
       "    <tr style=\"text-align: right;\">\n",
       "      <th></th>\n",
       "      <th>123</th>\n",
       "      <th>124</th>\n",
       "      <th>125</th>\n",
       "      <th>126</th>\n",
       "      <th>127</th>\n",
       "      <th>128</th>\n",
       "      <th>129</th>\n",
       "      <th>130</th>\n",
       "      <th>131</th>\n",
       "      <th>132</th>\n",
       "      <th>...</th>\n",
       "      <th>558</th>\n",
       "      <th>559</th>\n",
       "      <th>560</th>\n",
       "      <th>561</th>\n",
       "      <th>562</th>\n",
       "      <th>563</th>\n",
       "      <th>564</th>\n",
       "      <th>565</th>\n",
       "      <th>566</th>\n",
       "      <th>567</th>\n",
       "    </tr>\n",
       "  </thead>\n",
       "  <tbody>\n",
       "    <tr>\n",
       "      <th>ADP</th>\n",
       "      <td>153.000000</td>\n",
       "      <td>154.000000</td>\n",
       "      <td>155.000000</td>\n",
       "      <td>156.000000</td>\n",
       "      <td>157.000000</td>\n",
       "      <td>158.000000</td>\n",
       "      <td>159.000000</td>\n",
       "      <td>160.000000</td>\n",
       "      <td>161.000000</td>\n",
       "      <td>162.000000</td>\n",
       "      <td>...</td>\n",
       "      <td>588.000000</td>\n",
       "      <td>589.000000</td>\n",
       "      <td>590.000000</td>\n",
       "      <td>591.000000</td>\n",
       "      <td>592.000000</td>\n",
       "      <td>593.000000</td>\n",
       "      <td>594.000000</td>\n",
       "      <td>595.000000</td>\n",
       "      <td>596.000000</td>\n",
       "      <td>597.000000</td>\n",
       "    </tr>\n",
       "    <tr>\n",
       "      <th>Tempo de Casa</th>\n",
       "      <td>7.997260</td>\n",
       "      <td>7.756164</td>\n",
       "      <td>6.175342</td>\n",
       "      <td>0.452055</td>\n",
       "      <td>7.671233</td>\n",
       "      <td>7.665753</td>\n",
       "      <td>7.665753</td>\n",
       "      <td>1.649315</td>\n",
       "      <td>7.589041</td>\n",
       "      <td>0.243836</td>\n",
       "      <td>...</td>\n",
       "      <td>1.649315</td>\n",
       "      <td>1.619178</td>\n",
       "      <td>1.619178</td>\n",
       "      <td>1.619178</td>\n",
       "      <td>1.610959</td>\n",
       "      <td>1.572603</td>\n",
       "      <td>1.553425</td>\n",
       "      <td>1.534247</td>\n",
       "      <td>1.416438</td>\n",
       "      <td>1.416438</td>\n",
       "    </tr>\n",
       "    <tr>\n",
       "      <th>Cod.Cargo</th>\n",
       "      <td>955.000000</td>\n",
       "      <td>825.000000</td>\n",
       "      <td>681.000000</td>\n",
       "      <td>791.000000</td>\n",
       "      <td>773.000000</td>\n",
       "      <td>742.000000</td>\n",
       "      <td>641.000000</td>\n",
       "      <td>641.000000</td>\n",
       "      <td>851.000000</td>\n",
       "      <td>792.000000</td>\n",
       "      <td>...</td>\n",
       "      <td>1073.000000</td>\n",
       "      <td>1081.000000</td>\n",
       "      <td>650.000000</td>\n",
       "      <td>834.000000</td>\n",
       "      <td>1082.000000</td>\n",
       "      <td>1037.000000</td>\n",
       "      <td>949.000000</td>\n",
       "      <td>1083.000000</td>\n",
       "      <td>1076.000000</td>\n",
       "      <td>1084.000000</td>\n",
       "    </tr>\n",
       "    <tr>\n",
       "      <th>Cod.Cargo Admissão</th>\n",
       "      <td>743.000000</td>\n",
       "      <td>783.000000</td>\n",
       "      <td>681.000000</td>\n",
       "      <td>791.000000</td>\n",
       "      <td>773.000000</td>\n",
       "      <td>742.000000</td>\n",
       "      <td>641.000000</td>\n",
       "      <td>641.000000</td>\n",
       "      <td>641.000000</td>\n",
       "      <td>792.000000</td>\n",
       "      <td>...</td>\n",
       "      <td>1073.000000</td>\n",
       "      <td>1081.000000</td>\n",
       "      <td>650.000000</td>\n",
       "      <td>834.000000</td>\n",
       "      <td>1082.000000</td>\n",
       "      <td>1037.000000</td>\n",
       "      <td>949.000000</td>\n",
       "      <td>1083.000000</td>\n",
       "      <td>1076.000000</td>\n",
       "      <td>1084.000000</td>\n",
       "    </tr>\n",
       "    <tr>\n",
       "      <th>CC</th>\n",
       "      <td>1100.000000</td>\n",
       "      <td>1016.000000</td>\n",
       "      <td>1120.000000</td>\n",
       "      <td>1100.000000</td>\n",
       "      <td>1040.000000</td>\n",
       "      <td>1300.000000</td>\n",
       "      <td>1270.000000</td>\n",
       "      <td>1250.000000</td>\n",
       "      <td>1290.000000</td>\n",
       "      <td>1010.000000</td>\n",
       "      <td>...</td>\n",
       "      <td>1120.000000</td>\n",
       "      <td>1250.000000</td>\n",
       "      <td>1030.000000</td>\n",
       "      <td>1032.000000</td>\n",
       "      <td>1120.000000</td>\n",
       "      <td>1100.000000</td>\n",
       "      <td>1010.000000</td>\n",
       "      <td>1030.000000</td>\n",
       "      <td>1003.000000</td>\n",
       "      <td>1100.000000</td>\n",
       "    </tr>\n",
       "    <tr>\n",
       "      <th>Idade Atual/ Desligamento</th>\n",
       "      <td>30.000000</td>\n",
       "      <td>38.000000</td>\n",
       "      <td>47.901370</td>\n",
       "      <td>31.402740</td>\n",
       "      <td>48.000000</td>\n",
       "      <td>42.000000</td>\n",
       "      <td>40.000000</td>\n",
       "      <td>55.947945</td>\n",
       "      <td>46.000000</td>\n",
       "      <td>23.504110</td>\n",
       "      <td>...</td>\n",
       "      <td>38.000000</td>\n",
       "      <td>56.000000</td>\n",
       "      <td>19.000000</td>\n",
       "      <td>21.000000</td>\n",
       "      <td>33.000000</td>\n",
       "      <td>51.000000</td>\n",
       "      <td>37.000000</td>\n",
       "      <td>42.000000</td>\n",
       "      <td>25.000000</td>\n",
       "      <td>44.000000</td>\n",
       "    </tr>\n",
       "    <tr>\n",
       "      <th>Idade na Admissão</th>\n",
       "      <td>24.178082</td>\n",
       "      <td>32.249315</td>\n",
       "      <td>41.726027</td>\n",
       "      <td>30.950685</td>\n",
       "      <td>42.534247</td>\n",
       "      <td>36.534247</td>\n",
       "      <td>34.326027</td>\n",
       "      <td>54.298630</td>\n",
       "      <td>40.389041</td>\n",
       "      <td>23.260274</td>\n",
       "      <td>...</td>\n",
       "      <td>38.397260</td>\n",
       "      <td>56.298630</td>\n",
       "      <td>18.942466</td>\n",
       "      <td>21.336986</td>\n",
       "      <td>32.895890</td>\n",
       "      <td>50.819178</td>\n",
       "      <td>37.443836</td>\n",
       "      <td>42.427397</td>\n",
       "      <td>25.446575</td>\n",
       "      <td>43.967123</td>\n",
       "    </tr>\n",
       "    <tr>\n",
       "      <th>Banda</th>\n",
       "      <td>400.000000</td>\n",
       "      <td>300.000000</td>\n",
       "      <td>700.000000</td>\n",
       "      <td>700.000000</td>\n",
       "      <td>700.000000</td>\n",
       "      <td>300.000000</td>\n",
       "      <td>200.000000</td>\n",
       "      <td>200.000000</td>\n",
       "      <td>300.000000</td>\n",
       "      <td>100.000000</td>\n",
       "      <td>...</td>\n",
       "      <td>600.000000</td>\n",
       "      <td>300.000000</td>\n",
       "      <td>100.000000</td>\n",
       "      <td>100.000000</td>\n",
       "      <td>600.000000</td>\n",
       "      <td>650.000000</td>\n",
       "      <td>300.000000</td>\n",
       "      <td>500.000000</td>\n",
       "      <td>100.000000</td>\n",
       "      <td>500.000000</td>\n",
       "    </tr>\n",
       "    <tr>\n",
       "      <th>Hora Extra 2016</th>\n",
       "      <td>-100.000000</td>\n",
       "      <td>90.566667</td>\n",
       "      <td>-100.000000</td>\n",
       "      <td>-100.000000</td>\n",
       "      <td>-100.000000</td>\n",
       "      <td>43.336667</td>\n",
       "      <td>-100.000000</td>\n",
       "      <td>-100.000000</td>\n",
       "      <td>73.866667</td>\n",
       "      <td>-100.000000</td>\n",
       "      <td>...</td>\n",
       "      <td>-100.000000</td>\n",
       "      <td>-100.000000</td>\n",
       "      <td>-100.000000</td>\n",
       "      <td>-100.000000</td>\n",
       "      <td>-100.000000</td>\n",
       "      <td>-100.000000</td>\n",
       "      <td>-100.000000</td>\n",
       "      <td>-100.000000</td>\n",
       "      <td>-100.000000</td>\n",
       "      <td>-100.000000</td>\n",
       "    </tr>\n",
       "    <tr>\n",
       "      <th>Hora Negativa 2016</th>\n",
       "      <td>NaN</td>\n",
       "      <td>8.500000</td>\n",
       "      <td>NaN</td>\n",
       "      <td>NaN</td>\n",
       "      <td>NaN</td>\n",
       "      <td>0.000000</td>\n",
       "      <td>NaN</td>\n",
       "      <td>NaN</td>\n",
       "      <td>0.683333</td>\n",
       "      <td>NaN</td>\n",
       "      <td>...</td>\n",
       "      <td>NaN</td>\n",
       "      <td>NaN</td>\n",
       "      <td>NaN</td>\n",
       "      <td>NaN</td>\n",
       "      <td>NaN</td>\n",
       "      <td>NaN</td>\n",
       "      <td>NaN</td>\n",
       "      <td>NaN</td>\n",
       "      <td>NaN</td>\n",
       "      <td>NaN</td>\n",
       "    </tr>\n",
       "    <tr>\n",
       "      <th>Ad. Noturno 2016</th>\n",
       "      <td>NaN</td>\n",
       "      <td>16.250000</td>\n",
       "      <td>NaN</td>\n",
       "      <td>NaN</td>\n",
       "      <td>NaN</td>\n",
       "      <td>2.166667</td>\n",
       "      <td>NaN</td>\n",
       "      <td>NaN</td>\n",
       "      <td>0.000000</td>\n",
       "      <td>NaN</td>\n",
       "      <td>...</td>\n",
       "      <td>NaN</td>\n",
       "      <td>NaN</td>\n",
       "      <td>NaN</td>\n",
       "      <td>NaN</td>\n",
       "      <td>NaN</td>\n",
       "      <td>NaN</td>\n",
       "      <td>NaN</td>\n",
       "      <td>NaN</td>\n",
       "      <td>NaN</td>\n",
       "      <td>NaN</td>\n",
       "    </tr>\n",
       "    <tr>\n",
       "      <th>Absenteísmo 2016</th>\n",
       "      <td>0.000000</td>\n",
       "      <td>0.000000</td>\n",
       "      <td>0.000000</td>\n",
       "      <td>NaN</td>\n",
       "      <td>0.000000</td>\n",
       "      <td>0.000000</td>\n",
       "      <td>0.000000</td>\n",
       "      <td>NaN</td>\n",
       "      <td>19.000000</td>\n",
       "      <td>NaN</td>\n",
       "      <td>...</td>\n",
       "      <td>NaN</td>\n",
       "      <td>NaN</td>\n",
       "      <td>NaN</td>\n",
       "      <td>NaN</td>\n",
       "      <td>NaN</td>\n",
       "      <td>NaN</td>\n",
       "      <td>NaN</td>\n",
       "      <td>NaN</td>\n",
       "      <td>NaN</td>\n",
       "      <td>NaN</td>\n",
       "    </tr>\n",
       "    <tr>\n",
       "      <th>Hora Extra 2017</th>\n",
       "      <td>NaN</td>\n",
       "      <td>48.933333</td>\n",
       "      <td>NaN</td>\n",
       "      <td>NaN</td>\n",
       "      <td>NaN</td>\n",
       "      <td>128.383333</td>\n",
       "      <td>NaN</td>\n",
       "      <td>NaN</td>\n",
       "      <td>13.300000</td>\n",
       "      <td>NaN</td>\n",
       "      <td>...</td>\n",
       "      <td>NaN</td>\n",
       "      <td>1.416667</td>\n",
       "      <td>2.116667</td>\n",
       "      <td>1.000000</td>\n",
       "      <td>NaN</td>\n",
       "      <td>NaN</td>\n",
       "      <td>6.383333</td>\n",
       "      <td>NaN</td>\n",
       "      <td>NaN</td>\n",
       "      <td>NaN</td>\n",
       "    </tr>\n",
       "    <tr>\n",
       "      <th>Hora Negativa 2017</th>\n",
       "      <td>NaN</td>\n",
       "      <td>0.000000</td>\n",
       "      <td>NaN</td>\n",
       "      <td>NaN</td>\n",
       "      <td>NaN</td>\n",
       "      <td>0.000000</td>\n",
       "      <td>NaN</td>\n",
       "      <td>NaN</td>\n",
       "      <td>0.550000</td>\n",
       "      <td>NaN</td>\n",
       "      <td>...</td>\n",
       "      <td>NaN</td>\n",
       "      <td>0.000000</td>\n",
       "      <td>0.000000</td>\n",
       "      <td>0.000000</td>\n",
       "      <td>NaN</td>\n",
       "      <td>NaN</td>\n",
       "      <td>0.816667</td>\n",
       "      <td>NaN</td>\n",
       "      <td>NaN</td>\n",
       "      <td>NaN</td>\n",
       "    </tr>\n",
       "    <tr>\n",
       "      <th>Ad. Noturno 2017</th>\n",
       "      <td>NaN</td>\n",
       "      <td>17.050000</td>\n",
       "      <td>NaN</td>\n",
       "      <td>NaN</td>\n",
       "      <td>NaN</td>\n",
       "      <td>0.000000</td>\n",
       "      <td>NaN</td>\n",
       "      <td>NaN</td>\n",
       "      <td>0.416667</td>\n",
       "      <td>NaN</td>\n",
       "      <td>...</td>\n",
       "      <td>NaN</td>\n",
       "      <td>0.000000</td>\n",
       "      <td>0.000000</td>\n",
       "      <td>0.000000</td>\n",
       "      <td>NaN</td>\n",
       "      <td>NaN</td>\n",
       "      <td>0.000000</td>\n",
       "      <td>NaN</td>\n",
       "      <td>NaN</td>\n",
       "      <td>NaN</td>\n",
       "    </tr>\n",
       "    <tr>\n",
       "      <th>Absenteísmo 2017</th>\n",
       "      <td>0.000000</td>\n",
       "      <td>0.000000</td>\n",
       "      <td>0.000000</td>\n",
       "      <td>NaN</td>\n",
       "      <td>0.000000</td>\n",
       "      <td>0.000000</td>\n",
       "      <td>0.000000</td>\n",
       "      <td>NaN</td>\n",
       "      <td>0.000000</td>\n",
       "      <td>NaN</td>\n",
       "      <td>...</td>\n",
       "      <td>0.000000</td>\n",
       "      <td>0.000000</td>\n",
       "      <td>0.000000</td>\n",
       "      <td>0.000000</td>\n",
       "      <td>0.000000</td>\n",
       "      <td>0.000000</td>\n",
       "      <td>0.000000</td>\n",
       "      <td>0.000000</td>\n",
       "      <td>0.000000</td>\n",
       "      <td>0.000000</td>\n",
       "    </tr>\n",
       "    <tr>\n",
       "      <th>2012/13 Goal Achievement</th>\n",
       "      <td>NaN</td>\n",
       "      <td>NaN</td>\n",
       "      <td>NaN</td>\n",
       "      <td>NaN</td>\n",
       "      <td>NaN</td>\n",
       "      <td>NaN</td>\n",
       "      <td>NaN</td>\n",
       "      <td>NaN</td>\n",
       "      <td>NaN</td>\n",
       "      <td>NaN</td>\n",
       "      <td>...</td>\n",
       "      <td>NaN</td>\n",
       "      <td>NaN</td>\n",
       "      <td>NaN</td>\n",
       "      <td>NaN</td>\n",
       "      <td>NaN</td>\n",
       "      <td>NaN</td>\n",
       "      <td>NaN</td>\n",
       "      <td>NaN</td>\n",
       "      <td>NaN</td>\n",
       "      <td>NaN</td>\n",
       "    </tr>\n",
       "    <tr>\n",
       "      <th>2013/14 Goal Achievement</th>\n",
       "      <td>93.500000</td>\n",
       "      <td>95.000000</td>\n",
       "      <td>88.000000</td>\n",
       "      <td>NaN</td>\n",
       "      <td>0.000000</td>\n",
       "      <td>89.000000</td>\n",
       "      <td>99.900000</td>\n",
       "      <td>NaN</td>\n",
       "      <td>93.800000</td>\n",
       "      <td>NaN</td>\n",
       "      <td>...</td>\n",
       "      <td>NaN</td>\n",
       "      <td>NaN</td>\n",
       "      <td>NaN</td>\n",
       "      <td>NaN</td>\n",
       "      <td>NaN</td>\n",
       "      <td>NaN</td>\n",
       "      <td>NaN</td>\n",
       "      <td>NaN</td>\n",
       "      <td>NaN</td>\n",
       "      <td>NaN</td>\n",
       "    </tr>\n",
       "    <tr>\n",
       "      <th>2014/15 Goal Achievement</th>\n",
       "      <td>115.000000</td>\n",
       "      <td>100.300000</td>\n",
       "      <td>94.900000</td>\n",
       "      <td>NaN</td>\n",
       "      <td>NaN</td>\n",
       "      <td>100.000000</td>\n",
       "      <td>125.000000</td>\n",
       "      <td>NaN</td>\n",
       "      <td>100.000000</td>\n",
       "      <td>NaN</td>\n",
       "      <td>...</td>\n",
       "      <td>NaN</td>\n",
       "      <td>NaN</td>\n",
       "      <td>NaN</td>\n",
       "      <td>NaN</td>\n",
       "      <td>NaN</td>\n",
       "      <td>NaN</td>\n",
       "      <td>NaN</td>\n",
       "      <td>NaN</td>\n",
       "      <td>NaN</td>\n",
       "      <td>NaN</td>\n",
       "    </tr>\n",
       "    <tr>\n",
       "      <th>2015/16 Goal Achievement</th>\n",
       "      <td>90.900000</td>\n",
       "      <td>100.000000</td>\n",
       "      <td>105.300000</td>\n",
       "      <td>NaN</td>\n",
       "      <td>109.700000</td>\n",
       "      <td>93.800000</td>\n",
       "      <td>108.000000</td>\n",
       "      <td>NaN</td>\n",
       "      <td>91.300000</td>\n",
       "      <td>NaN</td>\n",
       "      <td>...</td>\n",
       "      <td>NaN</td>\n",
       "      <td>NaN</td>\n",
       "      <td>NaN</td>\n",
       "      <td>NaN</td>\n",
       "      <td>NaN</td>\n",
       "      <td>NaN</td>\n",
       "      <td>NaN</td>\n",
       "      <td>NaN</td>\n",
       "      <td>NaN</td>\n",
       "      <td>NaN</td>\n",
       "    </tr>\n",
       "    <tr>\n",
       "      <th>2016/17 Goal Achievement</th>\n",
       "      <td>108.300000</td>\n",
       "      <td>102.300000</td>\n",
       "      <td>111.500000</td>\n",
       "      <td>NaN</td>\n",
       "      <td>114.600000</td>\n",
       "      <td>99.500000</td>\n",
       "      <td>108.800000</td>\n",
       "      <td>NaN</td>\n",
       "      <td>101.300000</td>\n",
       "      <td>NaN</td>\n",
       "      <td>...</td>\n",
       "      <td>NaN</td>\n",
       "      <td>NaN</td>\n",
       "      <td>NaN</td>\n",
       "      <td>NaN</td>\n",
       "      <td>NaN</td>\n",
       "      <td>NaN</td>\n",
       "      <td>NaN</td>\n",
       "      <td>NaN</td>\n",
       "      <td>NaN</td>\n",
       "      <td>NaN</td>\n",
       "    </tr>\n",
       "    <tr>\n",
       "      <th>PROMOVIDO</th>\n",
       "      <td>1.000000</td>\n",
       "      <td>1.000000</td>\n",
       "      <td>0.000000</td>\n",
       "      <td>0.000000</td>\n",
       "      <td>0.000000</td>\n",
       "      <td>0.000000</td>\n",
       "      <td>0.000000</td>\n",
       "      <td>0.000000</td>\n",
       "      <td>1.000000</td>\n",
       "      <td>0.000000</td>\n",
       "      <td>...</td>\n",
       "      <td>0.000000</td>\n",
       "      <td>0.000000</td>\n",
       "      <td>0.000000</td>\n",
       "      <td>0.000000</td>\n",
       "      <td>0.000000</td>\n",
       "      <td>0.000000</td>\n",
       "      <td>0.000000</td>\n",
       "      <td>0.000000</td>\n",
       "      <td>0.000000</td>\n",
       "      <td>0.000000</td>\n",
       "    </tr>\n",
       "  </tbody>\n",
       "</table>\n",
       "<p>22 rows × 439 columns</p>\n",
       "</div>"
      ],
      "text/plain": [
       "                                   123          124          125          126  \\\n",
       "ADP                         153.000000   154.000000   155.000000   156.000000   \n",
       "Tempo de Casa                 7.997260     7.756164     6.175342     0.452055   \n",
       "Cod.Cargo                   955.000000   825.000000   681.000000   791.000000   \n",
       "Cod.Cargo Admissão          743.000000   783.000000   681.000000   791.000000   \n",
       "CC                         1100.000000  1016.000000  1120.000000  1100.000000   \n",
       "Idade Atual/ Desligamento    30.000000    38.000000    47.901370    31.402740   \n",
       "Idade na Admissão            24.178082    32.249315    41.726027    30.950685   \n",
       "Banda                       400.000000   300.000000   700.000000   700.000000   \n",
       "Hora Extra 2016            -100.000000    90.566667  -100.000000  -100.000000   \n",
       "Hora Negativa 2016                 NaN     8.500000          NaN          NaN   \n",
       "Ad. Noturno 2016                   NaN    16.250000          NaN          NaN   \n",
       "Absenteísmo 2016              0.000000     0.000000     0.000000          NaN   \n",
       "Hora Extra 2017                    NaN    48.933333          NaN          NaN   \n",
       "Hora Negativa 2017                 NaN     0.000000          NaN          NaN   \n",
       "Ad. Noturno 2017                   NaN    17.050000          NaN          NaN   \n",
       "Absenteísmo 2017              0.000000     0.000000     0.000000          NaN   \n",
       "2012/13 Goal Achievement           NaN          NaN          NaN          NaN   \n",
       "2013/14 Goal Achievement     93.500000    95.000000    88.000000          NaN   \n",
       "2014/15 Goal Achievement    115.000000   100.300000    94.900000          NaN   \n",
       "2015/16 Goal Achievement     90.900000   100.000000   105.300000          NaN   \n",
       "2016/17 Goal Achievement    108.300000   102.300000   111.500000          NaN   \n",
       "PROMOVIDO                     1.000000     1.000000     0.000000     0.000000   \n",
       "\n",
       "                                   127          128          129          130  \\\n",
       "ADP                         157.000000   158.000000   159.000000   160.000000   \n",
       "Tempo de Casa                 7.671233     7.665753     7.665753     1.649315   \n",
       "Cod.Cargo                   773.000000   742.000000   641.000000   641.000000   \n",
       "Cod.Cargo Admissão          773.000000   742.000000   641.000000   641.000000   \n",
       "CC                         1040.000000  1300.000000  1270.000000  1250.000000   \n",
       "Idade Atual/ Desligamento    48.000000    42.000000    40.000000    55.947945   \n",
       "Idade na Admissão            42.534247    36.534247    34.326027    54.298630   \n",
       "Banda                       700.000000   300.000000   200.000000   200.000000   \n",
       "Hora Extra 2016            -100.000000    43.336667  -100.000000  -100.000000   \n",
       "Hora Negativa 2016                 NaN     0.000000          NaN          NaN   \n",
       "Ad. Noturno 2016                   NaN     2.166667          NaN          NaN   \n",
       "Absenteísmo 2016              0.000000     0.000000     0.000000          NaN   \n",
       "Hora Extra 2017                    NaN   128.383333          NaN          NaN   \n",
       "Hora Negativa 2017                 NaN     0.000000          NaN          NaN   \n",
       "Ad. Noturno 2017                   NaN     0.000000          NaN          NaN   \n",
       "Absenteísmo 2017              0.000000     0.000000     0.000000          NaN   \n",
       "2012/13 Goal Achievement           NaN          NaN          NaN          NaN   \n",
       "2013/14 Goal Achievement      0.000000    89.000000    99.900000          NaN   \n",
       "2014/15 Goal Achievement           NaN   100.000000   125.000000          NaN   \n",
       "2015/16 Goal Achievement    109.700000    93.800000   108.000000          NaN   \n",
       "2016/17 Goal Achievement    114.600000    99.500000   108.800000          NaN   \n",
       "PROMOVIDO                     0.000000     0.000000     0.000000     0.000000   \n",
       "\n",
       "                                   131          132  ...          558  \\\n",
       "ADP                         161.000000   162.000000  ...   588.000000   \n",
       "Tempo de Casa                 7.589041     0.243836  ...     1.649315   \n",
       "Cod.Cargo                   851.000000   792.000000  ...  1073.000000   \n",
       "Cod.Cargo Admissão          641.000000   792.000000  ...  1073.000000   \n",
       "CC                         1290.000000  1010.000000  ...  1120.000000   \n",
       "Idade Atual/ Desligamento    46.000000    23.504110  ...    38.000000   \n",
       "Idade na Admissão            40.389041    23.260274  ...    38.397260   \n",
       "Banda                       300.000000   100.000000  ...   600.000000   \n",
       "Hora Extra 2016              73.866667  -100.000000  ...  -100.000000   \n",
       "Hora Negativa 2016            0.683333          NaN  ...          NaN   \n",
       "Ad. Noturno 2016              0.000000          NaN  ...          NaN   \n",
       "Absenteísmo 2016             19.000000          NaN  ...          NaN   \n",
       "Hora Extra 2017              13.300000          NaN  ...          NaN   \n",
       "Hora Negativa 2017            0.550000          NaN  ...          NaN   \n",
       "Ad. Noturno 2017              0.416667          NaN  ...          NaN   \n",
       "Absenteísmo 2017              0.000000          NaN  ...     0.000000   \n",
       "2012/13 Goal Achievement           NaN          NaN  ...          NaN   \n",
       "2013/14 Goal Achievement     93.800000          NaN  ...          NaN   \n",
       "2014/15 Goal Achievement    100.000000          NaN  ...          NaN   \n",
       "2015/16 Goal Achievement     91.300000          NaN  ...          NaN   \n",
       "2016/17 Goal Achievement    101.300000          NaN  ...          NaN   \n",
       "PROMOVIDO                     1.000000     0.000000  ...     0.000000   \n",
       "\n",
       "                                   559          560          561          562  \\\n",
       "ADP                         589.000000   590.000000   591.000000   592.000000   \n",
       "Tempo de Casa                 1.619178     1.619178     1.619178     1.610959   \n",
       "Cod.Cargo                  1081.000000   650.000000   834.000000  1082.000000   \n",
       "Cod.Cargo Admissão         1081.000000   650.000000   834.000000  1082.000000   \n",
       "CC                         1250.000000  1030.000000  1032.000000  1120.000000   \n",
       "Idade Atual/ Desligamento    56.000000    19.000000    21.000000    33.000000   \n",
       "Idade na Admissão            56.298630    18.942466    21.336986    32.895890   \n",
       "Banda                       300.000000   100.000000   100.000000   600.000000   \n",
       "Hora Extra 2016            -100.000000  -100.000000  -100.000000  -100.000000   \n",
       "Hora Negativa 2016                 NaN          NaN          NaN          NaN   \n",
       "Ad. Noturno 2016                   NaN          NaN          NaN          NaN   \n",
       "Absenteísmo 2016                   NaN          NaN          NaN          NaN   \n",
       "Hora Extra 2017               1.416667     2.116667     1.000000          NaN   \n",
       "Hora Negativa 2017            0.000000     0.000000     0.000000          NaN   \n",
       "Ad. Noturno 2017              0.000000     0.000000     0.000000          NaN   \n",
       "Absenteísmo 2017              0.000000     0.000000     0.000000     0.000000   \n",
       "2012/13 Goal Achievement           NaN          NaN          NaN          NaN   \n",
       "2013/14 Goal Achievement           NaN          NaN          NaN          NaN   \n",
       "2014/15 Goal Achievement           NaN          NaN          NaN          NaN   \n",
       "2015/16 Goal Achievement           NaN          NaN          NaN          NaN   \n",
       "2016/17 Goal Achievement           NaN          NaN          NaN          NaN   \n",
       "PROMOVIDO                     0.000000     0.000000     0.000000     0.000000   \n",
       "\n",
       "                                   563          564          565          566  \\\n",
       "ADP                         593.000000   594.000000   595.000000   596.000000   \n",
       "Tempo de Casa                 1.572603     1.553425     1.534247     1.416438   \n",
       "Cod.Cargo                  1037.000000   949.000000  1083.000000  1076.000000   \n",
       "Cod.Cargo Admissão         1037.000000   949.000000  1083.000000  1076.000000   \n",
       "CC                         1100.000000  1010.000000  1030.000000  1003.000000   \n",
       "Idade Atual/ Desligamento    51.000000    37.000000    42.000000    25.000000   \n",
       "Idade na Admissão            50.819178    37.443836    42.427397    25.446575   \n",
       "Banda                       650.000000   300.000000   500.000000   100.000000   \n",
       "Hora Extra 2016            -100.000000  -100.000000  -100.000000  -100.000000   \n",
       "Hora Negativa 2016                 NaN          NaN          NaN          NaN   \n",
       "Ad. Noturno 2016                   NaN          NaN          NaN          NaN   \n",
       "Absenteísmo 2016                   NaN          NaN          NaN          NaN   \n",
       "Hora Extra 2017                    NaN     6.383333          NaN          NaN   \n",
       "Hora Negativa 2017                 NaN     0.816667          NaN          NaN   \n",
       "Ad. Noturno 2017                   NaN     0.000000          NaN          NaN   \n",
       "Absenteísmo 2017              0.000000     0.000000     0.000000     0.000000   \n",
       "2012/13 Goal Achievement           NaN          NaN          NaN          NaN   \n",
       "2013/14 Goal Achievement           NaN          NaN          NaN          NaN   \n",
       "2014/15 Goal Achievement           NaN          NaN          NaN          NaN   \n",
       "2015/16 Goal Achievement           NaN          NaN          NaN          NaN   \n",
       "2016/17 Goal Achievement           NaN          NaN          NaN          NaN   \n",
       "PROMOVIDO                     0.000000     0.000000     0.000000     0.000000   \n",
       "\n",
       "                                   567  \n",
       "ADP                         597.000000  \n",
       "Tempo de Casa                 1.416438  \n",
       "Cod.Cargo                  1084.000000  \n",
       "Cod.Cargo Admissão         1084.000000  \n",
       "CC                         1100.000000  \n",
       "Idade Atual/ Desligamento    44.000000  \n",
       "Idade na Admissão            43.967123  \n",
       "Banda                       500.000000  \n",
       "Hora Extra 2016            -100.000000  \n",
       "Hora Negativa 2016                 NaN  \n",
       "Ad. Noturno 2016                   NaN  \n",
       "Absenteísmo 2016                   NaN  \n",
       "Hora Extra 2017                    NaN  \n",
       "Hora Negativa 2017                 NaN  \n",
       "Ad. Noturno 2017                   NaN  \n",
       "Absenteísmo 2017              0.000000  \n",
       "2012/13 Goal Achievement           NaN  \n",
       "2013/14 Goal Achievement           NaN  \n",
       "2014/15 Goal Achievement           NaN  \n",
       "2015/16 Goal Achievement           NaN  \n",
       "2016/17 Goal Achievement           NaN  \n",
       "PROMOVIDO                     0.000000  \n",
       "\n",
       "[22 rows x 439 columns]"
      ]
     },
     "execution_count": 25,
     "metadata": {},
     "output_type": "execute_result"
    }
   ],
   "source": [
    "#-- selecionadndo apenas as variáveis númericas\n",
    "numerics = ['int16', 'int32', 'int64', 'float16', 'float32', 'float64']\n",
    "df_ano.select_dtypes(include=numerics).T"
   ]
  },
  {
   "cell_type": "code",
   "execution_count": 26,
   "metadata": {},
   "outputs": [],
   "source": [
    "#-- criando um dataset novo\n",
    "df_ano_numeric = df_ano.select_dtypes(include=numerics).copy()"
   ]
  },
  {
   "cell_type": "code",
   "execution_count": 27,
   "metadata": {},
   "outputs": [],
   "source": [
    "#-- selecionando as colunas desse novo dataset\n",
    "df_ano_numeric = df_ano_numeric.drop(columns=['ADP', 'Cod.Cargo', 'Cod.Cargo Admissão', 'CC', 'Hora Extra 2016', 'Hora Negativa 2016', 'Ad. Noturno 2016', 'Absenteísmo 2016', 'Hora Extra 2017', 'Hora Negativa 2017', 'Ad. Noturno 2017', 'Absenteísmo 2017', 'Banda', '2012/13 Goal Achievement'], axis=1)"
   ]
  },
  {
   "cell_type": "code",
   "execution_count": 28,
   "metadata": {},
   "outputs": [
    {
     "data": {
      "text/html": [
       "<div>\n",
       "<style scoped>\n",
       "    .dataframe tbody tr th:only-of-type {\n",
       "        vertical-align: middle;\n",
       "    }\n",
       "\n",
       "    .dataframe tbody tr th {\n",
       "        vertical-align: top;\n",
       "    }\n",
       "\n",
       "    .dataframe thead th {\n",
       "        text-align: right;\n",
       "    }\n",
       "</style>\n",
       "<table border=\"1\" class=\"dataframe\">\n",
       "  <thead>\n",
       "    <tr style=\"text-align: right;\">\n",
       "      <th></th>\n",
       "      <th>123</th>\n",
       "      <th>124</th>\n",
       "      <th>125</th>\n",
       "      <th>126</th>\n",
       "      <th>127</th>\n",
       "    </tr>\n",
       "  </thead>\n",
       "  <tbody>\n",
       "    <tr>\n",
       "      <th>Tempo de Casa</th>\n",
       "      <td>7.997260</td>\n",
       "      <td>7.756164</td>\n",
       "      <td>6.175342</td>\n",
       "      <td>0.452055</td>\n",
       "      <td>7.671233</td>\n",
       "    </tr>\n",
       "    <tr>\n",
       "      <th>Idade Atual/ Desligamento</th>\n",
       "      <td>30.000000</td>\n",
       "      <td>38.000000</td>\n",
       "      <td>47.901370</td>\n",
       "      <td>31.402740</td>\n",
       "      <td>48.000000</td>\n",
       "    </tr>\n",
       "    <tr>\n",
       "      <th>Idade na Admissão</th>\n",
       "      <td>24.178082</td>\n",
       "      <td>32.249315</td>\n",
       "      <td>41.726027</td>\n",
       "      <td>30.950685</td>\n",
       "      <td>42.534247</td>\n",
       "    </tr>\n",
       "    <tr>\n",
       "      <th>2013/14 Goal Achievement</th>\n",
       "      <td>93.500000</td>\n",
       "      <td>95.000000</td>\n",
       "      <td>88.000000</td>\n",
       "      <td>NaN</td>\n",
       "      <td>0.000000</td>\n",
       "    </tr>\n",
       "    <tr>\n",
       "      <th>2014/15 Goal Achievement</th>\n",
       "      <td>115.000000</td>\n",
       "      <td>100.300000</td>\n",
       "      <td>94.900000</td>\n",
       "      <td>NaN</td>\n",
       "      <td>NaN</td>\n",
       "    </tr>\n",
       "    <tr>\n",
       "      <th>2015/16 Goal Achievement</th>\n",
       "      <td>90.900000</td>\n",
       "      <td>100.000000</td>\n",
       "      <td>105.300000</td>\n",
       "      <td>NaN</td>\n",
       "      <td>109.700000</td>\n",
       "    </tr>\n",
       "    <tr>\n",
       "      <th>2016/17 Goal Achievement</th>\n",
       "      <td>108.300000</td>\n",
       "      <td>102.300000</td>\n",
       "      <td>111.500000</td>\n",
       "      <td>NaN</td>\n",
       "      <td>114.600000</td>\n",
       "    </tr>\n",
       "    <tr>\n",
       "      <th>PROMOVIDO</th>\n",
       "      <td>1.000000</td>\n",
       "      <td>1.000000</td>\n",
       "      <td>0.000000</td>\n",
       "      <td>0.000000</td>\n",
       "      <td>0.000000</td>\n",
       "    </tr>\n",
       "  </tbody>\n",
       "</table>\n",
       "</div>"
      ],
      "text/plain": [
       "                                  123         124         125        126  \\\n",
       "Tempo de Casa                7.997260    7.756164    6.175342   0.452055   \n",
       "Idade Atual/ Desligamento   30.000000   38.000000   47.901370  31.402740   \n",
       "Idade na Admissão           24.178082   32.249315   41.726027  30.950685   \n",
       "2013/14 Goal Achievement    93.500000   95.000000   88.000000        NaN   \n",
       "2014/15 Goal Achievement   115.000000  100.300000   94.900000        NaN   \n",
       "2015/16 Goal Achievement    90.900000  100.000000  105.300000        NaN   \n",
       "2016/17 Goal Achievement   108.300000  102.300000  111.500000        NaN   \n",
       "PROMOVIDO                    1.000000    1.000000    0.000000   0.000000   \n",
       "\n",
       "                                  127  \n",
       "Tempo de Casa                7.671233  \n",
       "Idade Atual/ Desligamento   48.000000  \n",
       "Idade na Admissão           42.534247  \n",
       "2013/14 Goal Achievement     0.000000  \n",
       "2014/15 Goal Achievement          NaN  \n",
       "2015/16 Goal Achievement   109.700000  \n",
       "2016/17 Goal Achievement   114.600000  \n",
       "PROMOVIDO                    0.000000  "
      ]
     },
     "execution_count": 28,
     "metadata": {},
     "output_type": "execute_result"
    }
   ],
   "source": [
    "#-- pritando o head do novo dataset\n",
    "df_ano_numeric.head().T"
   ]
  },
  {
   "cell_type": "code",
   "execution_count": 29,
   "metadata": {},
   "outputs": [
    {
     "data": {
      "text/html": [
       "<div>\n",
       "<style scoped>\n",
       "    .dataframe tbody tr th:only-of-type {\n",
       "        vertical-align: middle;\n",
       "    }\n",
       "\n",
       "    .dataframe tbody tr th {\n",
       "        vertical-align: top;\n",
       "    }\n",
       "\n",
       "    .dataframe thead th {\n",
       "        text-align: right;\n",
       "    }\n",
       "</style>\n",
       "<table border=\"1\" class=\"dataframe\">\n",
       "  <thead>\n",
       "    <tr style=\"text-align: right;\">\n",
       "      <th></th>\n",
       "      <th>null_amount</th>\n",
       "      <th>null_ratio</th>\n",
       "    </tr>\n",
       "  </thead>\n",
       "  <tbody>\n",
       "    <tr>\n",
       "      <th>2013/14 Goal Achievement</th>\n",
       "      <td>327.0</td>\n",
       "      <td>0.744875</td>\n",
       "    </tr>\n",
       "    <tr>\n",
       "      <th>2014/15 Goal Achievement</th>\n",
       "      <td>303.0</td>\n",
       "      <td>0.690205</td>\n",
       "    </tr>\n",
       "    <tr>\n",
       "      <th>2015/16 Goal Achievement</th>\n",
       "      <td>171.0</td>\n",
       "      <td>0.389522</td>\n",
       "    </tr>\n",
       "    <tr>\n",
       "      <th>2016/17 Goal Achievement</th>\n",
       "      <td>151.0</td>\n",
       "      <td>0.343964</td>\n",
       "    </tr>\n",
       "    <tr>\n",
       "      <th>PROMOVIDO</th>\n",
       "      <td>0.0</td>\n",
       "      <td>0.000000</td>\n",
       "    </tr>\n",
       "    <tr>\n",
       "      <th>Idade na Admissão</th>\n",
       "      <td>0.0</td>\n",
       "      <td>0.000000</td>\n",
       "    </tr>\n",
       "    <tr>\n",
       "      <th>Idade Atual/ Desligamento</th>\n",
       "      <td>0.0</td>\n",
       "      <td>0.000000</td>\n",
       "    </tr>\n",
       "    <tr>\n",
       "      <th>Tempo de Casa</th>\n",
       "      <td>0.0</td>\n",
       "      <td>0.000000</td>\n",
       "    </tr>\n",
       "  </tbody>\n",
       "</table>\n",
       "</div>"
      ],
      "text/plain": [
       "                           null_amount  null_ratio\n",
       "2013/14 Goal Achievement         327.0    0.744875\n",
       "2014/15 Goal Achievement         303.0    0.690205\n",
       "2015/16 Goal Achievement         171.0    0.389522\n",
       "2016/17 Goal Achievement         151.0    0.343964\n",
       "PROMOVIDO                          0.0    0.000000\n",
       "Idade na Admissão                  0.0    0.000000\n",
       "Idade Atual/ Desligamento          0.0    0.000000\n",
       "Tempo de Casa                      0.0    0.000000"
      ]
     },
     "execution_count": 29,
     "metadata": {},
     "output_type": "execute_result"
    }
   ],
   "source": [
    "#-- verificando os missing values do dataset\n",
    "null_count = df_ano_numeric.isnull().sum().sort_values(ascending=False)\n",
    "null_percentage = null_count / len(df_ano_numeric)\n",
    "pd.DataFrame(data=[null_count, null_percentage],\n",
    "             index=['null_amount', 'null_ratio']).T"
   ]
  },
  {
   "cell_type": "code",
   "execution_count": 30,
   "metadata": {},
   "outputs": [],
   "source": [
    "#-- removendo as colunas de 2013/14 e 2014/15\n",
    "df_ano_numeric.drop(columns=['2013/14 Goal Achievement', '2014/15 Goal Achievement'], inplace = True)"
   ]
  },
  {
   "cell_type": "code",
   "execution_count": 31,
   "metadata": {},
   "outputs": [],
   "source": [
    "#-- preenchendo os missing values\n",
    "df_ano_numeric.fillna(method='bfill', inplace=True)\n",
    "df_ano_numeric.fillna(method='ffill', inplace=True)"
   ]
  },
  {
   "cell_type": "code",
   "execution_count": 32,
   "metadata": {},
   "outputs": [
    {
     "data": {
      "text/html": [
       "<div>\n",
       "<style scoped>\n",
       "    .dataframe tbody tr th:only-of-type {\n",
       "        vertical-align: middle;\n",
       "    }\n",
       "\n",
       "    .dataframe tbody tr th {\n",
       "        vertical-align: top;\n",
       "    }\n",
       "\n",
       "    .dataframe thead th {\n",
       "        text-align: right;\n",
       "    }\n",
       "</style>\n",
       "<table border=\"1\" class=\"dataframe\">\n",
       "  <thead>\n",
       "    <tr style=\"text-align: right;\">\n",
       "      <th></th>\n",
       "      <th>null_amount</th>\n",
       "      <th>null_ratio</th>\n",
       "    </tr>\n",
       "  </thead>\n",
       "  <tbody>\n",
       "    <tr>\n",
       "      <th>PROMOVIDO</th>\n",
       "      <td>0.0</td>\n",
       "      <td>0.0</td>\n",
       "    </tr>\n",
       "    <tr>\n",
       "      <th>2016/17 Goal Achievement</th>\n",
       "      <td>0.0</td>\n",
       "      <td>0.0</td>\n",
       "    </tr>\n",
       "    <tr>\n",
       "      <th>2015/16 Goal Achievement</th>\n",
       "      <td>0.0</td>\n",
       "      <td>0.0</td>\n",
       "    </tr>\n",
       "    <tr>\n",
       "      <th>Idade na Admissão</th>\n",
       "      <td>0.0</td>\n",
       "      <td>0.0</td>\n",
       "    </tr>\n",
       "    <tr>\n",
       "      <th>Idade Atual/ Desligamento</th>\n",
       "      <td>0.0</td>\n",
       "      <td>0.0</td>\n",
       "    </tr>\n",
       "    <tr>\n",
       "      <th>Tempo de Casa</th>\n",
       "      <td>0.0</td>\n",
       "      <td>0.0</td>\n",
       "    </tr>\n",
       "  </tbody>\n",
       "</table>\n",
       "</div>"
      ],
      "text/plain": [
       "                           null_amount  null_ratio\n",
       "PROMOVIDO                          0.0         0.0\n",
       "2016/17 Goal Achievement           0.0         0.0\n",
       "2015/16 Goal Achievement           0.0         0.0\n",
       "Idade na Admissão                  0.0         0.0\n",
       "Idade Atual/ Desligamento          0.0         0.0\n",
       "Tempo de Casa                      0.0         0.0"
      ]
     },
     "execution_count": 32,
     "metadata": {},
     "output_type": "execute_result"
    }
   ],
   "source": [
    "#-- verificando se os missing values do dataset foram todas preenchidos\n",
    "null_count = df_ano_numeric.isnull().sum().sort_values(ascending=False)\n",
    "null_percentage = null_count / len(df_ano_numeric)\n",
    "pd.DataFrame(data=[null_count, null_percentage],\n",
    "             index=['null_amount', 'null_ratio']).T"
   ]
  },
  {
   "cell_type": "code",
   "execution_count": 33,
   "metadata": {},
   "outputs": [
    {
     "data": {
      "text/plain": [
       "(439, 6)"
      ]
     },
     "execution_count": 33,
     "metadata": {},
     "output_type": "execute_result"
    }
   ],
   "source": [
    "#-- printando as dimensões\n",
    "df_ano_numeric.shape"
   ]
  },
  {
   "cell_type": "code",
   "execution_count": 34,
   "metadata": {},
   "outputs": [
    {
     "name": "stdout",
     "output_type": "stream",
     "text": [
      "<class 'pandas.core.frame.DataFrame'>\n",
      "Int64Index: 439 entries, 123 to 567\n",
      "Data columns (total 6 columns):\n",
      " #   Column                     Non-Null Count  Dtype  \n",
      "---  ------                     --------------  -----  \n",
      " 0   Tempo de Casa              439 non-null    float64\n",
      " 1   Idade Atual/ Desligamento  439 non-null    float64\n",
      " 2   Idade na Admissão          439 non-null    float64\n",
      " 3   2015/16 Goal Achievement   439 non-null    float64\n",
      " 4   2016/17 Goal Achievement   439 non-null    float64\n",
      " 5   PROMOVIDO                  439 non-null    int64  \n",
      "dtypes: float64(5), int64(1)\n",
      "memory usage: 24.0 KB\n"
     ]
    }
   ],
   "source": [
    "#-- verificando os tipos das variáveis\n",
    "df_ano_numeric.info()"
   ]
  },
  {
   "cell_type": "code",
   "execution_count": 35,
   "metadata": {},
   "outputs": [],
   "source": [
    "#-- criando os datasets para análise\n",
    "X = df_ano_numeric.drop(columns=['PROMOVIDO'])\n",
    "y = df_ano_numeric['PROMOVIDO']"
   ]
  },
  {
   "cell_type": "code",
   "execution_count": 36,
   "metadata": {},
   "outputs": [],
   "source": [
    "#-- separando a parte de treino e teste\n",
    "X_train, X_test, y_train, y_test = train_test_split(X, y, test_size=0.3, \n",
    "                                                    random_state=0)"
   ]
  },
  {
   "cell_type": "code",
   "execution_count": 37,
   "metadata": {},
   "outputs": [],
   "source": [
    "#-- apllicando o algoritmo\n",
    "logreg.fit(X_train, y_train)\n",
    "#-- calculando a predição\n",
    "y_pred = logreg.predict(X_test)"
   ]
  },
  {
   "cell_type": "code",
   "execution_count": 38,
   "metadata": {},
   "outputs": [
    {
     "data": {
      "text/plain": [
       "array([0, 0, 0, 0, 1], dtype=int64)"
      ]
     },
     "execution_count": 38,
     "metadata": {},
     "output_type": "execute_result"
    }
   ],
   "source": [
    "#-- printando os cinco primeiros valores da predição\n",
    "y_pred[:5]"
   ]
  },
  {
   "cell_type": "code",
   "execution_count": 39,
   "metadata": {},
   "outputs": [
    {
     "name": "stdout",
     "output_type": "stream",
     "text": [
      "accuracy (test): 79.5%\n"
     ]
    }
   ],
   "source": [
    "#-- pritando a acuracia do teste\n",
    "accuracy_test = accuracy_score(y_test, y_pred)\n",
    "print(f'accuracy (test): {accuracy_test*100:.1f}%')"
   ]
  },
  {
   "cell_type": "markdown",
   "metadata": {},
   "source": [
    "## Avaliação do modelo"
   ]
  },
  {
   "cell_type": "markdown",
   "metadata": {},
   "source": [
    "### Matriz de Confusão, Precisão, Recall"
   ]
  },
  {
   "cell_type": "code",
   "execution_count": 40,
   "metadata": {},
   "outputs": [
    {
     "data": {
      "text/plain": [
       "array([[94, 12],\n",
       "       [15, 11]], dtype=int64)"
      ]
     },
     "execution_count": 40,
     "metadata": {},
     "output_type": "execute_result"
    }
   ],
   "source": [
    "#-- printando a matriz de confusão\n",
    "confusion_matrix(y_test, y_pred)"
   ]
  },
  {
   "cell_type": "code",
   "execution_count": 41,
   "metadata": {},
   "outputs": [
    {
     "data": {
      "image/png": "[encoded data removed]",
      "text/plain": [
       "<Figure size 1584x1080 with 2 Axes>"
      ]
     },
     "metadata": {
      "needs_background": "light"
     },
     "output_type": "display_data"
    }
   ],
   "source": [
    "#-- plotando a matrix de confusão\n",
    "_ = plot_confusion_matrix(logreg, X_test, y_test, cmap=plt.cm.Blues)"
   ]
  },
  {
   "cell_type": "code",
   "execution_count": 42,
   "metadata": {},
   "outputs": [
    {
     "name": "stdout",
     "output_type": "stream",
     "text": [
      "              precision    recall  f1-score   support\n",
      "\n",
      "           0       0.86      0.89      0.87       106\n",
      "           1       0.48      0.42      0.45        26\n",
      "\n",
      "    accuracy                           0.80       132\n",
      "   macro avg       0.67      0.65      0.66       132\n",
      "weighted avg       0.79      0.80      0.79       132\n",
      "\n"
     ]
    }
   ],
   "source": [
    "#-- pritando as métricas de precisão e recall\n",
    "print(classification_report(y_test, y_pred))"
   ]
  },
  {
   "cell_type": "markdown",
   "metadata": {},
   "source": [
    "definições\n",
    "https://scikit-learn.org/stable/modules/generated/sklearn.metrics.precision_recall_fscore_support.html"
   ]
  },
  {
   "cell_type": "code",
   "execution_count": 43,
   "metadata": {},
   "outputs": [
    {
     "data": {
      "image/png": "[encoded data removed]",
      "text/plain": [
       "<Figure size 1584x1080 with 1 Axes>"
      ]
     },
     "metadata": {
      "needs_background": "light"
     },
     "output_type": "display_data"
    }
   ],
   "source": [
    "#-- printando a ROC\n",
    "_= plot_roc_curve(logreg, X_test, y_test)"
   ]
  },
  {
   "cell_type": "markdown",
   "metadata": {},
   "source": [
    "### Utilizando as probabilidades"
   ]
  },
  {
   "cell_type": "code",
   "execution_count": 44,
   "metadata": {},
   "outputs": [
    {
     "data": {
      "text/plain": [
       "array([[0.91183281, 0.08816719],\n",
       "       [0.94397406, 0.05602594],\n",
       "       [0.99631122, 0.00368878],\n",
       "       [0.92216632, 0.07783368],\n",
       "       [0.13751242, 0.86248758]])"
      ]
     },
     "execution_count": 44,
     "metadata": {},
     "output_type": "execute_result"
    }
   ],
   "source": [
    "#-- calculando a probabilidade dos teste\n",
    "y_pred_proba = logreg.predict_proba(X_test)\n",
    "y_pred_proba[:5]"
   ]
  },
  {
   "cell_type": "code",
   "execution_count": 45,
   "metadata": {},
   "outputs": [
    {
     "data": {
      "text/plain": [
       "array([0.08816719, 0.05602594, 0.00368878, 0.07783368, 0.86248758])"
      ]
     },
     "execution_count": 45,
     "metadata": {},
     "output_type": "execute_result"
    }
   ],
   "source": [
    "#-- pritando a probabilidade\n",
    "y_pred_proba = y_pred_proba[:, 1]\n",
    "y_pred_proba[:5]"
   ]
  },
  {
   "cell_type": "code",
   "execution_count": 46,
   "metadata": {},
   "outputs": [
    {
     "data": {
      "text/html": [
       "<div>\n",
       "<style scoped>\n",
       "    .dataframe tbody tr th:only-of-type {\n",
       "        vertical-align: middle;\n",
       "    }\n",
       "\n",
       "    .dataframe tbody tr th {\n",
       "        vertical-align: top;\n",
       "    }\n",
       "\n",
       "    .dataframe thead th {\n",
       "        text-align: right;\n",
       "    }\n",
       "</style>\n",
       "<table border=\"1\" class=\"dataframe\">\n",
       "  <thead>\n",
       "    <tr style=\"text-align: right;\">\n",
       "      <th></th>\n",
       "      <th>Prediction</th>\n",
       "      <th>True Value</th>\n",
       "    </tr>\n",
       "  </thead>\n",
       "  <tbody>\n",
       "    <tr>\n",
       "      <th>0</th>\n",
       "      <td>0.088167</td>\n",
       "      <td>0</td>\n",
       "    </tr>\n",
       "    <tr>\n",
       "      <th>1</th>\n",
       "      <td>0.056026</td>\n",
       "      <td>0</td>\n",
       "    </tr>\n",
       "    <tr>\n",
       "      <th>2</th>\n",
       "      <td>0.003689</td>\n",
       "      <td>0</td>\n",
       "    </tr>\n",
       "    <tr>\n",
       "      <th>3</th>\n",
       "      <td>0.077834</td>\n",
       "      <td>0</td>\n",
       "    </tr>\n",
       "    <tr>\n",
       "      <th>4</th>\n",
       "      <td>0.862488</td>\n",
       "      <td>1</td>\n",
       "    </tr>\n",
       "  </tbody>\n",
       "</table>\n",
       "</div>"
      ],
      "text/plain": [
       "   Prediction True Value\n",
       "0    0.088167          0\n",
       "1    0.056026          0\n",
       "2    0.003689          0\n",
       "3    0.077834          0\n",
       "4    0.862488          1"
      ]
     },
     "execution_count": 46,
     "metadata": {},
     "output_type": "execute_result"
    }
   ],
   "source": [
    "#-- comparando as respostas\n",
    "preds_df = pd.DataFrame(data=[y_pred_proba, y_test.astype(str)],\n",
    "                        index=['Prediction', 'True Value']).T\n",
    "\n",
    "preds_df['Prediction'] = preds_df['Prediction'].astype(float)\n",
    "preds_df['True Value'] = preds_df['True Value'].astype(str)\n",
    "\n",
    "preds_df.head()"
   ]
  },
  {
   "cell_type": "code",
   "execution_count": 47,
   "metadata": {},
   "outputs": [
    {
     "data": {
      "text/plain": [
       "Text(0, 0.5, 'Quantidade')"
      ]
     },
     "execution_count": 47,
     "metadata": {},
     "output_type": "execute_result"
    },
    {
     "data": {
      "image/png": "[encoded data removed]",
      "text/plain": [
       "<Figure size 1584x1080 with 1 Axes>"
      ]
     },
     "metadata": {
      "needs_background": "light"
     },
     "output_type": "display_data"
    }
   ],
   "source": [
    "teste = preds_df[preds_df['True Value'] == '0']\n",
    "_ = sns.distplot(teste['Prediction'],  kde=False, label='Não Promov')\n",
    "teste1 = preds_df[preds_df['True Value'] == '1']\n",
    "_ = sns.distplot(teste1['Prediction'],  kde=False, label='Promov')\n",
    "plt.legend(prop={'size': 12})\n",
    "plt.title('Não Promovido X Promovido')\n",
    "plt.xlabel('Predito')\n",
    "plt.ylabel('Quantidade')"
   ]
  },
  {
   "cell_type": "code",
   "execution_count": 54,
   "metadata": {},
   "outputs": [],
   "source": [
    "#-- ajustando a probabilidade\n",
    "y_pred_customizado = y_pred_proba >= 0.7"
   ]
  },
  {
   "cell_type": "code",
   "execution_count": 55,
   "metadata": {},
   "outputs": [
    {
     "name": "stdout",
     "output_type": "stream",
     "text": [
      "              precision    recall  f1-score   support\n",
      "\n",
      "           0       0.84      0.92      0.88       106\n",
      "           1       0.47      0.27      0.34        26\n",
      "\n",
      "    accuracy                           0.80       132\n",
      "   macro avg       0.65      0.60      0.61       132\n",
      "weighted avg       0.76      0.80      0.77       132\n",
      "\n"
     ]
    }
   ],
   "source": [
    "#-- printando as novas métricas\n",
    "print(classification_report(y_test, y_pred_customizado))"
   ]
  },
  {
   "cell_type": "markdown",
   "metadata": {},
   "source": [
    "### Outras métricas populares"
   ]
  },
  {
   "cell_type": "code",
   "execution_count": 56,
   "metadata": {},
   "outputs": [
    {
     "name": "stdout",
     "output_type": "stream",
     "text": [
      "auc (test): 0.7700\n"
     ]
    }
   ],
   "source": [
    "print(f'auc (test): {roc_auc_score(y_test, y_pred_proba):.4f}')"
   ]
  },
  {
   "cell_type": "code",
   "execution_count": 57,
   "metadata": {},
   "outputs": [
    {
     "name": "stdout",
     "output_type": "stream",
     "text": [
      "log loss (test): 0.488\n"
     ]
    }
   ],
   "source": [
    "#-- métrica - qt menor melhor\n",
    "print(f'log loss (test): {log_loss(y_test, y_pred_proba):.3f}')"
   ]
  },
  {
   "cell_type": "markdown",
   "metadata": {},
   "source": [
    "### Identificação de overfitting"
   ]
  },
  {
   "cell_type": "code",
   "execution_count": 58,
   "metadata": {},
   "outputs": [],
   "source": [
    "y_pred_proba_train = logreg.predict_proba(X_train)[:, 1]"
   ]
  },
  {
   "cell_type": "code",
   "execution_count": 59,
   "metadata": {},
   "outputs": [
    {
     "name": "stdout",
     "output_type": "stream",
     "text": [
      "auc (train): 0.8927\n",
      "auc (test): 0.7700\n"
     ]
    }
   ],
   "source": [
    "#-- comparando os resultados do modelo de treino com o de teste\n",
    "print(f'auc (train): {roc_auc_score(y_train, y_pred_proba_train):.4f}')\n",
    "print(f'auc (test): {roc_auc_score(y_test, y_pred_proba):.4f}')"
   ]
  },
  {
   "cell_type": "markdown",
   "metadata": {},
   "source": [
    "## Tentando melhorar o modelo"
   ]
  },
  {
   "cell_type": "markdown",
   "metadata": {},
   "source": [
    "### One-hot-encoding"
   ]
  },
  {
   "cell_type": "code",
   "execution_count": 60,
   "metadata": {},
   "outputs": [
    {
     "data": {
      "text/plain": [
       "array(['ADP', 'Admissão', 'Desligamento', 'Desligado?',\n",
       "       'Iniciativa Desligamento', 'Tempo de Casa', 'Cod.Cargo', 'Cargo',\n",
       "       'Cod.Cargo Admissão', 'Cargo Admissão', 'CC', 'Area', 'Diretoria',\n",
       "       'Estado Civil', 'Educação', 'Idade Atual/ Desligamento',\n",
       "       'Idade na Admissão', 'Sexo', 'Banda', 'Nivel', 'Hora Extra 2016',\n",
       "       'Hora Negativa 2016', 'Ad. Noturno 2016', 'Absenteísmo 2016',\n",
       "       'Hora Extra 2017', 'Hora Negativa 2017', 'Ad. Noturno 2017',\n",
       "       'Absenteísmo 2017', '2012/13 Rating', '2012/13 Goal Achievement',\n",
       "       '2013/14 Rating', '2013/14 Goal Achievement', '2014/15 Rating',\n",
       "       '2014/15 Goal Achievement', '2015/16 Rating',\n",
       "       '2015/16 Goal Achievement', '2016/17 Rating',\n",
       "       '2016/17 Goal Achievement', 'AUMENTO 2012', 'AUMENTO 2013',\n",
       "       'AUMENTO 2014', 'AUMENTO 2015', 'AUMENTO 2016', 'AUMENTO 2017',\n",
       "       'DISSIDIO 2012', 'DISSIDIO 2013', 'DISSIDIO 2014', 'DISSIDIO 2015',\n",
       "       'DISSIDIO 2016', 'DISSIDIO 2017', 'MERITO 2012', 'MERITO 2013',\n",
       "       'MERITO 2014', 'MERITO 2015', 'MERITO 2016', 'MERITO 2017',\n",
       "       'PROMOÇÃO 2012', 'PROMOÇÃO 2013', 'PROMOÇÃO 2014', 'PROMOÇÃO 2015',\n",
       "       'PROMOÇÃO 2016', 'PROMOÇÃO 2017', 'PROMOVIDO'], dtype=object)"
      ]
     },
     "execution_count": 60,
     "metadata": {},
     "output_type": "execute_result"
    }
   ],
   "source": [
    "#-- printando os nomes das colunas\n",
    "df_ano.columns.values"
   ]
  },
  {
   "cell_type": "code",
   "execution_count": 61,
   "metadata": {},
   "outputs": [],
   "source": [
    "#-- selecionando as colunas do dataset\n",
    "df_ano_misto = df_ano[['Tempo de Casa', 'Idade Atual/ Desligamento', 'Idade na Admissão', '2013/14 Goal Achievement', '2014/15 Goal Achievement', '2015/16 Goal Achievement', '2016/17 Goal Achievement', 'Estado Civil', 'Educação', 'Sexo', 'PROMOVIDO']].copy()"
   ]
  },
  {
   "cell_type": "code",
   "execution_count": 62,
   "metadata": {},
   "outputs": [
    {
     "data": {
      "text/html": [
       "<div>\n",
       "<style scoped>\n",
       "    .dataframe tbody tr th:only-of-type {\n",
       "        vertical-align: middle;\n",
       "    }\n",
       "\n",
       "    .dataframe tbody tr th {\n",
       "        vertical-align: top;\n",
       "    }\n",
       "\n",
       "    .dataframe thead th {\n",
       "        text-align: right;\n",
       "    }\n",
       "</style>\n",
       "<table border=\"1\" class=\"dataframe\">\n",
       "  <thead>\n",
       "    <tr style=\"text-align: right;\">\n",
       "      <th></th>\n",
       "      <th>123</th>\n",
       "      <th>124</th>\n",
       "      <th>125</th>\n",
       "      <th>126</th>\n",
       "      <th>127</th>\n",
       "    </tr>\n",
       "  </thead>\n",
       "  <tbody>\n",
       "    <tr>\n",
       "      <th>Tempo de Casa</th>\n",
       "      <td>7.99726</td>\n",
       "      <td>7.75616</td>\n",
       "      <td>6.17534</td>\n",
       "      <td>0.452055</td>\n",
       "      <td>7.67123</td>\n",
       "    </tr>\n",
       "    <tr>\n",
       "      <th>Idade Atual/ Desligamento</th>\n",
       "      <td>30</td>\n",
       "      <td>38</td>\n",
       "      <td>47.9014</td>\n",
       "      <td>31.4027</td>\n",
       "      <td>48</td>\n",
       "    </tr>\n",
       "    <tr>\n",
       "      <th>Idade na Admissão</th>\n",
       "      <td>24.1781</td>\n",
       "      <td>32.2493</td>\n",
       "      <td>41.726</td>\n",
       "      <td>30.9507</td>\n",
       "      <td>42.5342</td>\n",
       "    </tr>\n",
       "    <tr>\n",
       "      <th>2013/14 Goal Achievement</th>\n",
       "      <td>93.5</td>\n",
       "      <td>95</td>\n",
       "      <td>88</td>\n",
       "      <td>NaN</td>\n",
       "      <td>0</td>\n",
       "    </tr>\n",
       "    <tr>\n",
       "      <th>2014/15 Goal Achievement</th>\n",
       "      <td>115</td>\n",
       "      <td>100.3</td>\n",
       "      <td>94.9</td>\n",
       "      <td>NaN</td>\n",
       "      <td>NaN</td>\n",
       "    </tr>\n",
       "    <tr>\n",
       "      <th>2015/16 Goal Achievement</th>\n",
       "      <td>90.9</td>\n",
       "      <td>100</td>\n",
       "      <td>105.3</td>\n",
       "      <td>NaN</td>\n",
       "      <td>109.7</td>\n",
       "    </tr>\n",
       "    <tr>\n",
       "      <th>2016/17 Goal Achievement</th>\n",
       "      <td>108.3</td>\n",
       "      <td>102.3</td>\n",
       "      <td>111.5</td>\n",
       "      <td>NaN</td>\n",
       "      <td>114.6</td>\n",
       "    </tr>\n",
       "    <tr>\n",
       "      <th>Estado Civil</th>\n",
       "      <td>SOLTEIRO</td>\n",
       "      <td>CASADO</td>\n",
       "      <td>CASADO</td>\n",
       "      <td>CASADO</td>\n",
       "      <td>CASADO</td>\n",
       "    </tr>\n",
       "    <tr>\n",
       "      <th>Educação</th>\n",
       "      <td>SUPERIOR COMPLETO</td>\n",
       "      <td>SUPERIOR COMPLETO</td>\n",
       "      <td>PÓS GRADUAÇÃO</td>\n",
       "      <td>SUPERIOR COMPLETO</td>\n",
       "      <td>SUPERIOR COMPLETO</td>\n",
       "    </tr>\n",
       "    <tr>\n",
       "      <th>Sexo</th>\n",
       "      <td>M</td>\n",
       "      <td>M</td>\n",
       "      <td>H</td>\n",
       "      <td>H</td>\n",
       "      <td>M</td>\n",
       "    </tr>\n",
       "    <tr>\n",
       "      <th>PROMOVIDO</th>\n",
       "      <td>1</td>\n",
       "      <td>1</td>\n",
       "      <td>0</td>\n",
       "      <td>0</td>\n",
       "      <td>0</td>\n",
       "    </tr>\n",
       "  </tbody>\n",
       "</table>\n",
       "</div>"
      ],
      "text/plain": [
       "                                         123                124  \\\n",
       "Tempo de Casa                        7.99726            7.75616   \n",
       "Idade Atual/ Desligamento                 30                 38   \n",
       "Idade na Admissão                    24.1781            32.2493   \n",
       "2013/14 Goal Achievement                93.5                 95   \n",
       "2014/15 Goal Achievement                 115              100.3   \n",
       "2015/16 Goal Achievement                90.9                100   \n",
       "2016/17 Goal Achievement               108.3              102.3   \n",
       "Estado Civil                        SOLTEIRO             CASADO   \n",
       "Educação                   SUPERIOR COMPLETO  SUPERIOR COMPLETO   \n",
       "Sexo                                       M                  M   \n",
       "PROMOVIDO                                  1                  1   \n",
       "\n",
       "                                                           125  \\\n",
       "Tempo de Casa                                          6.17534   \n",
       "Idade Atual/ Desligamento                              47.9014   \n",
       "Idade na Admissão                                       41.726   \n",
       "2013/14 Goal Achievement                                    88   \n",
       "2014/15 Goal Achievement                                  94.9   \n",
       "2015/16 Goal Achievement                                 105.3   \n",
       "2016/17 Goal Achievement                                 111.5   \n",
       "Estado Civil                                            CASADO   \n",
       "Educação                   PÓS GRADUAÇÃO                         \n",
       "Sexo                                                         H   \n",
       "PROMOVIDO                                                    0   \n",
       "\n",
       "                                         126                127  \n",
       "Tempo de Casa                       0.452055            7.67123  \n",
       "Idade Atual/ Desligamento            31.4027                 48  \n",
       "Idade na Admissão                    30.9507            42.5342  \n",
       "2013/14 Goal Achievement                 NaN                  0  \n",
       "2014/15 Goal Achievement                 NaN                NaN  \n",
       "2015/16 Goal Achievement                 NaN              109.7  \n",
       "2016/17 Goal Achievement                 NaN              114.6  \n",
       "Estado Civil                          CASADO             CASADO  \n",
       "Educação                   SUPERIOR COMPLETO  SUPERIOR COMPLETO  \n",
       "Sexo                                       H                  M  \n",
       "PROMOVIDO                                  0                  0  "
      ]
     },
     "execution_count": 62,
     "metadata": {},
     "output_type": "execute_result"
    }
   ],
   "source": [
    "#-- printando o head do dataset\n",
    "df_ano_misto.head().T"
   ]
  },
  {
   "cell_type": "code",
   "execution_count": 63,
   "metadata": {},
   "outputs": [],
   "source": [
    "#-- removendo as colunas de 2013/14 e 2014/15\n",
    "df_ano_misto.drop(columns=['2013/14 Goal Achievement', '2014/15 Goal Achievement'], inplace = True)"
   ]
  },
  {
   "cell_type": "code",
   "execution_count": 64,
   "metadata": {},
   "outputs": [],
   "source": [
    "#-- preenchendo os missing values\n",
    "df_ano_misto.fillna(method='bfill', inplace=True)\n",
    "df_ano_misto.fillna(method='ffill', inplace=True)"
   ]
  },
  {
   "cell_type": "code",
   "execution_count": 65,
   "metadata": {},
   "outputs": [
    {
     "data": {
      "text/plain": [
       "Tempo de Casa                0\n",
       "Idade Atual/ Desligamento    0\n",
       "Idade na Admissão            0\n",
       "2015/16 Goal Achievement     0\n",
       "2016/17 Goal Achievement     0\n",
       "Estado Civil                 0\n",
       "Educação                     0\n",
       "Sexo                         0\n",
       "PROMOVIDO                    0\n",
       "dtype: int64"
      ]
     },
     "execution_count": 65,
     "metadata": {},
     "output_type": "execute_result"
    }
   ],
   "source": [
    "#-- verificando se não existem mais missing values no dataset\n",
    "df_ano_misto.isnull().sum()"
   ]
  },
  {
   "cell_type": "code",
   "execution_count": 66,
   "metadata": {},
   "outputs": [
    {
     "data": {
      "text/html": [
       "<div>\n",
       "<style scoped>\n",
       "    .dataframe tbody tr th:only-of-type {\n",
       "        vertical-align: middle;\n",
       "    }\n",
       "\n",
       "    .dataframe tbody tr th {\n",
       "        vertical-align: top;\n",
       "    }\n",
       "\n",
       "    .dataframe thead th {\n",
       "        text-align: right;\n",
       "    }\n",
       "</style>\n",
       "<table border=\"1\" class=\"dataframe\">\n",
       "  <thead>\n",
       "    <tr style=\"text-align: right;\">\n",
       "      <th></th>\n",
       "      <th>CASADO</th>\n",
       "      <th>SEPARADO</th>\n",
       "      <th>SOLTEIRO</th>\n",
       "    </tr>\n",
       "  </thead>\n",
       "  <tbody>\n",
       "    <tr>\n",
       "      <th>123</th>\n",
       "      <td>0</td>\n",
       "      <td>0</td>\n",
       "      <td>1</td>\n",
       "    </tr>\n",
       "    <tr>\n",
       "      <th>124</th>\n",
       "      <td>1</td>\n",
       "      <td>0</td>\n",
       "      <td>0</td>\n",
       "    </tr>\n",
       "    <tr>\n",
       "      <th>125</th>\n",
       "      <td>1</td>\n",
       "      <td>0</td>\n",
       "      <td>0</td>\n",
       "    </tr>\n",
       "    <tr>\n",
       "      <th>126</th>\n",
       "      <td>1</td>\n",
       "      <td>0</td>\n",
       "      <td>0</td>\n",
       "    </tr>\n",
       "    <tr>\n",
       "      <th>127</th>\n",
       "      <td>1</td>\n",
       "      <td>0</td>\n",
       "      <td>0</td>\n",
       "    </tr>\n",
       "  </tbody>\n",
       "</table>\n",
       "</div>"
      ],
      "text/plain": [
       "     CASADO  SEPARADO  SOLTEIRO\n",
       "123       0         0         1\n",
       "124       1         0         0\n",
       "125       1         0         0\n",
       "126       1         0         0\n",
       "127       1         0         0"
      ]
     },
     "execution_count": 66,
     "metadata": {},
     "output_type": "execute_result"
    }
   ],
   "source": [
    "#-- transformando os dados discretos em dummies\n",
    "pd.get_dummies(df_ano_misto['Estado Civil']).head()"
   ]
  },
  {
   "cell_type": "code",
   "execution_count": 67,
   "metadata": {},
   "outputs": [],
   "source": [
    "#-- aplicando a função dummies\n",
    "df_dummies = pd.get_dummies(df_ano_misto, columns=['Estado Civil', 'Educação', 'Sexo'])"
   ]
  },
  {
   "cell_type": "code",
   "execution_count": 68,
   "metadata": {},
   "outputs": [
    {
     "data": {
      "text/html": [
       "<div>\n",
       "<style scoped>\n",
       "    .dataframe tbody tr th:only-of-type {\n",
       "        vertical-align: middle;\n",
       "    }\n",
       "\n",
       "    .dataframe tbody tr th {\n",
       "        vertical-align: top;\n",
       "    }\n",
       "\n",
       "    .dataframe thead th {\n",
       "        text-align: right;\n",
       "    }\n",
       "</style>\n",
       "<table border=\"1\" class=\"dataframe\">\n",
       "  <thead>\n",
       "    <tr style=\"text-align: right;\">\n",
       "      <th></th>\n",
       "      <th>Tempo de Casa</th>\n",
       "      <th>Idade Atual/ Desligamento</th>\n",
       "      <th>Idade na Admissão</th>\n",
       "      <th>2015/16 Goal Achievement</th>\n",
       "      <th>2016/17 Goal Achievement</th>\n",
       "      <th>PROMOVIDO</th>\n",
       "      <th>Estado Civil_CASADO</th>\n",
       "      <th>Estado Civil_SEPARADO</th>\n",
       "      <th>Estado Civil_SOLTEIRO</th>\n",
       "      <th>Educação_ENSINO FUNDAMENTAL COMPLETO</th>\n",
       "      <th>Educação_ENSINO MÉDIO COMPLETO</th>\n",
       "      <th>Educação_MESTRADO</th>\n",
       "      <th>Educação_PÓS GRADUAÇÃO</th>\n",
       "      <th>Educação_SUPERIOR COMPLETO</th>\n",
       "      <th>Educação_TÉCNICO COMPLETO</th>\n",
       "      <th>Sexo_H</th>\n",
       "      <th>Sexo_M</th>\n",
       "    </tr>\n",
       "  </thead>\n",
       "  <tbody>\n",
       "    <tr>\n",
       "      <th>123</th>\n",
       "      <td>7.997260</td>\n",
       "      <td>30.00000</td>\n",
       "      <td>24.178082</td>\n",
       "      <td>90.9</td>\n",
       "      <td>108.3</td>\n",
       "      <td>1</td>\n",
       "      <td>0</td>\n",
       "      <td>0</td>\n",
       "      <td>1</td>\n",
       "      <td>0</td>\n",
       "      <td>0</td>\n",
       "      <td>0</td>\n",
       "      <td>0</td>\n",
       "      <td>1</td>\n",
       "      <td>0</td>\n",
       "      <td>0</td>\n",
       "      <td>1</td>\n",
       "    </tr>\n",
       "    <tr>\n",
       "      <th>124</th>\n",
       "      <td>7.756164</td>\n",
       "      <td>38.00000</td>\n",
       "      <td>32.249315</td>\n",
       "      <td>100.0</td>\n",
       "      <td>102.3</td>\n",
       "      <td>1</td>\n",
       "      <td>1</td>\n",
       "      <td>0</td>\n",
       "      <td>0</td>\n",
       "      <td>0</td>\n",
       "      <td>0</td>\n",
       "      <td>0</td>\n",
       "      <td>0</td>\n",
       "      <td>1</td>\n",
       "      <td>0</td>\n",
       "      <td>0</td>\n",
       "      <td>1</td>\n",
       "    </tr>\n",
       "    <tr>\n",
       "      <th>125</th>\n",
       "      <td>6.175342</td>\n",
       "      <td>47.90137</td>\n",
       "      <td>41.726027</td>\n",
       "      <td>105.3</td>\n",
       "      <td>111.5</td>\n",
       "      <td>0</td>\n",
       "      <td>1</td>\n",
       "      <td>0</td>\n",
       "      <td>0</td>\n",
       "      <td>0</td>\n",
       "      <td>0</td>\n",
       "      <td>0</td>\n",
       "      <td>1</td>\n",
       "      <td>0</td>\n",
       "      <td>0</td>\n",
       "      <td>1</td>\n",
       "      <td>0</td>\n",
       "    </tr>\n",
       "    <tr>\n",
       "      <th>126</th>\n",
       "      <td>0.452055</td>\n",
       "      <td>31.40274</td>\n",
       "      <td>30.950685</td>\n",
       "      <td>109.7</td>\n",
       "      <td>114.6</td>\n",
       "      <td>0</td>\n",
       "      <td>1</td>\n",
       "      <td>0</td>\n",
       "      <td>0</td>\n",
       "      <td>0</td>\n",
       "      <td>0</td>\n",
       "      <td>0</td>\n",
       "      <td>0</td>\n",
       "      <td>1</td>\n",
       "      <td>0</td>\n",
       "      <td>1</td>\n",
       "      <td>0</td>\n",
       "    </tr>\n",
       "    <tr>\n",
       "      <th>127</th>\n",
       "      <td>7.671233</td>\n",
       "      <td>48.00000</td>\n",
       "      <td>42.534247</td>\n",
       "      <td>109.7</td>\n",
       "      <td>114.6</td>\n",
       "      <td>0</td>\n",
       "      <td>1</td>\n",
       "      <td>0</td>\n",
       "      <td>0</td>\n",
       "      <td>0</td>\n",
       "      <td>0</td>\n",
       "      <td>0</td>\n",
       "      <td>0</td>\n",
       "      <td>1</td>\n",
       "      <td>0</td>\n",
       "      <td>0</td>\n",
       "      <td>1</td>\n",
       "    </tr>\n",
       "  </tbody>\n",
       "</table>\n",
       "</div>"
      ],
      "text/plain": [
       "     Tempo de Casa  Idade Atual/ Desligamento  Idade na Admissão  \\\n",
       "123       7.997260                   30.00000          24.178082   \n",
       "124       7.756164                   38.00000          32.249315   \n",
       "125       6.175342                   47.90137          41.726027   \n",
       "126       0.452055                   31.40274          30.950685   \n",
       "127       7.671233                   48.00000          42.534247   \n",
       "\n",
       "     2015/16 Goal Achievement  2016/17 Goal Achievement  PROMOVIDO  \\\n",
       "123                      90.9                     108.3          1   \n",
       "124                     100.0                     102.3          1   \n",
       "125                     105.3                     111.5          0   \n",
       "126                     109.7                     114.6          0   \n",
       "127                     109.7                     114.6          0   \n",
       "\n",
       "     Estado Civil_CASADO  Estado Civil_SEPARADO  Estado Civil_SOLTEIRO  \\\n",
       "123                    0                      0                      1   \n",
       "124                    1                      0                      0   \n",
       "125                    1                      0                      0   \n",
       "126                    1                      0                      0   \n",
       "127                    1                      0                      0   \n",
       "\n",
       "     Educação_ENSINO FUNDAMENTAL COMPLETO          \\\n",
       "123                                             0   \n",
       "124                                             0   \n",
       "125                                             0   \n",
       "126                                             0   \n",
       "127                                             0   \n",
       "\n",
       "     Educação_ENSINO MÉDIO COMPLETO  \\\n",
       "123                               0   \n",
       "124                               0   \n",
       "125                               0   \n",
       "126                               0   \n",
       "127                               0   \n",
       "\n",
       "     Educação_MESTRADO                             \\\n",
       "123                                             0   \n",
       "124                                             0   \n",
       "125                                             0   \n",
       "126                                             0   \n",
       "127                                             0   \n",
       "\n",
       "     Educação_PÓS GRADUAÇÃO                        Educação_SUPERIOR COMPLETO  \\\n",
       "123                                             0                           1   \n",
       "124                                             0                           1   \n",
       "125                                             1                           0   \n",
       "126                                             0                           1   \n",
       "127                                             0                           1   \n",
       "\n",
       "     Educação_TÉCNICO COMPLETO                     Sexo_H  Sexo_M  \n",
       "123                                             0       0       1  \n",
       "124                                             0       0       1  \n",
       "125                                             0       1       0  \n",
       "126                                             0       1       0  \n",
       "127                                             0       0       1  "
      ]
     },
     "execution_count": 68,
     "metadata": {},
     "output_type": "execute_result"
    }
   ],
   "source": [
    "#-- printando o head\n",
    "df_dummies.head()"
   ]
  },
  {
   "cell_type": "code",
   "execution_count": 69,
   "metadata": {},
   "outputs": [],
   "source": [
    "#-- separando os datasets\n",
    "X = df_dummies.drop(columns=['PROMOVIDO'])\n",
    "y = df_dummies['PROMOVIDO']\n",
    "\n",
    "#-- splitando em ds de treino e teste\n",
    "X_train, X_test, y_train, y_test = train_test_split(X, y, test_size=0.3, \n",
    "                                                    random_state=0)"
   ]
  },
  {
   "cell_type": "code",
   "execution_count": 70,
   "metadata": {},
   "outputs": [
    {
     "name": "stderr",
     "output_type": "stream",
     "text": [
      "C:\\ProgramData\\Anaconda3\\lib\\site-packages\\sklearn\\linear_model\\_logistic.py:940: ConvergenceWarning: lbfgs failed to converge (status=1):\n",
      "STOP: TOTAL NO. of ITERATIONS REACHED LIMIT.\n",
      "\n",
      "Increase the number of iterations (max_iter) or scale the data as shown in:\n",
      "    https://scikit-learn.org/stable/modules/preprocessing.html\n",
      "Please also refer to the documentation for alternative solver options:\n",
      "    https://scikit-learn.org/stable/modules/linear_model.html#logistic-regression\n",
      "  extra_warning_msg=_LOGISTIC_SOLVER_CONVERGENCE_MSG)\n"
     ]
    }
   ],
   "source": [
    "#-- aplicando o algoritmo\n",
    "logreg = LogisticRegression()\n",
    "logreg.fit(X_train, y_train)\n",
    "y_pred  = logreg.predict(X_test)\n",
    "y_pred_proba = logreg.predict_proba(X_test)[:, 1]"
   ]
  },
  {
   "cell_type": "code",
   "execution_count": 71,
   "metadata": {},
   "outputs": [
    {
     "name": "stdout",
     "output_type": "stream",
     "text": [
      "log loss (test): 7.588\n"
     ]
    }
   ],
   "source": [
    "#-- verificando a métrica log loss\n",
    "print(f'log loss (test): {log_loss(y_test, y_pred):.3f}')"
   ]
  },
  {
   "cell_type": "code",
   "execution_count": 72,
   "metadata": {},
   "outputs": [
    {
     "data": {
      "image/png": "[encoded data removed]",
      "text/plain": [
       "<Figure size 1584x1080 with 2 Axes>"
      ]
     },
     "metadata": {
      "needs_background": "light"
     },
     "output_type": "display_data"
    }
   ],
   "source": [
    "#-- plotando a matrix de confusão\n",
    "_ = plot_confusion_matrix(logreg, X_test, y_test, cmap=plt.cm.Blues)"
   ]
  },
  {
   "cell_type": "code",
   "execution_count": 73,
   "metadata": {},
   "outputs": [
    {
     "name": "stdout",
     "output_type": "stream",
     "text": [
      "              precision    recall  f1-score   support\n",
      "\n",
      "           0       0.83      0.91      0.87       106\n",
      "           1       0.41      0.27      0.33        26\n",
      "\n",
      "    accuracy                           0.78       132\n",
      "   macro avg       0.62      0.59      0.60       132\n",
      "weighted avg       0.75      0.78      0.76       132\n",
      "\n"
     ]
    }
   ],
   "source": [
    "#-- printando as novas métricas\n",
    "print(classification_report(y_test, y_pred))"
   ]
  },
  {
   "cell_type": "markdown",
   "metadata": {},
   "source": [
    "### Tratamento de outliers"
   ]
  },
  {
   "cell_type": "code",
   "execution_count": 74,
   "metadata": {},
   "outputs": [],
   "source": [
    "#-- copiando o dataset\n",
    "df_no_outliers = df_dummies.copy()"
   ]
  },
  {
   "cell_type": "code",
   "execution_count": 75,
   "metadata": {},
   "outputs": [
    {
     "data": {
      "text/plain": [
       "<matplotlib.axes._subplots.AxesSubplot at 0x2379d913808>"
      ]
     },
     "execution_count": 75,
     "metadata": {},
     "output_type": "execute_result"
    },
    {
     "data": {
      "image/png": "[encoded data removed]",
      "text/plain": [
       "<Figure size 1584x1080 with 1 Axes>"
      ]
     },
     "metadata": {
      "needs_background": "light"
     },
     "output_type": "display_data"
    }
   ],
   "source": [
    "#-- plotando os outliers\n",
    "sns.boxplot(df_no_outliers['Tempo de Casa'])"
   ]
  },
  {
   "cell_type": "code",
   "execution_count": 76,
   "metadata": {},
   "outputs": [
    {
     "data": {
      "text/plain": [
       "<matplotlib.axes._subplots.AxesSubplot at 0x2379d979fc8>"
      ]
     },
     "execution_count": 76,
     "metadata": {},
     "output_type": "execute_result"
    },
    {
     "data": {
      "image/png": "[encoded data removed]",
      "text/plain": [
       "<Figure size 1584x1080 with 1 Axes>"
      ]
     },
     "metadata": {
      "needs_background": "light"
     },
     "output_type": "display_data"
    }
   ],
   "source": [
    "#-- plotando os outliers\n",
    "sns.boxplot(df_no_outliers['Idade na Admissão'])"
   ]
  },
  {
   "cell_type": "code",
   "execution_count": 77,
   "metadata": {},
   "outputs": [
    {
     "data": {
      "text/plain": [
       "<matplotlib.axes._subplots.AxesSubplot at 0x2379d9ea548>"
      ]
     },
     "execution_count": 77,
     "metadata": {},
     "output_type": "execute_result"
    },
    {
     "data": {
      "image/png": "[encoded data removed]",
      "text/plain": [
       "<Figure size 1584x1080 with 1 Axes>"
      ]
     },
     "metadata": {
      "needs_background": "light"
     },
     "output_type": "display_data"
    }
   ],
   "source": [
    "#-- plotando os outliers\n",
    "sns.boxplot(df_no_outliers['2015/16 Goal Achievement'])"
   ]
  },
  {
   "cell_type": "code",
   "execution_count": 78,
   "metadata": {},
   "outputs": [
    {
     "data": {
      "text/plain": [
       "<matplotlib.axes._subplots.AxesSubplot at 0x2379da3ee08>"
      ]
     },
     "execution_count": 78,
     "metadata": {},
     "output_type": "execute_result"
    },
    {
     "data": {
      "image/png": "[encoded data removed]",
      "text/plain": [
       "<Figure size 1584x1080 with 1 Axes>"
      ]
     },
     "metadata": {
      "needs_background": "light"
     },
     "output_type": "display_data"
    }
   ],
   "source": [
    "#-- plotando os outliers\n",
    "sns.boxplot(df_no_outliers['2016/17 Goal Achievement'])"
   ]
  },
  {
   "cell_type": "code",
   "execution_count": 79,
   "metadata": {},
   "outputs": [],
   "source": [
    "#-- removendo os outliers\n",
    "df_no_outliers = df_no_outliers[(df_no_outliers['2015/16 Goal Achievement'] > 88) & (df_no_outliers['2015/16 Goal Achievement'] < 120)]\n",
    "df_no_outliers = df_no_outliers[(df_no_outliers['2016/17 Goal Achievement'] < 122) & (df_no_outliers['2016/17 Goal Achievement'] > 92)]"
   ]
  },
  {
   "cell_type": "code",
   "execution_count": 80,
   "metadata": {},
   "outputs": [],
   "source": [
    "#-- criando os ds\n",
    "X = df_no_outliers.drop(columns=['PROMOVIDO'])\n",
    "y = df_no_outliers['PROMOVIDO']\n",
    "\n",
    "X_train, X_test, y_train, y_test = train_test_split(X, y, test_size=0.3, \n",
    "                                                    random_state=0)"
   ]
  },
  {
   "cell_type": "code",
   "execution_count": 81,
   "metadata": {},
   "outputs": [
    {
     "name": "stderr",
     "output_type": "stream",
     "text": [
      "C:\\ProgramData\\Anaconda3\\lib\\site-packages\\sklearn\\linear_model\\_logistic.py:940: ConvergenceWarning: lbfgs failed to converge (status=1):\n",
      "STOP: TOTAL NO. of ITERATIONS REACHED LIMIT.\n",
      "\n",
      "Increase the number of iterations (max_iter) or scale the data as shown in:\n",
      "    https://scikit-learn.org/stable/modules/preprocessing.html\n",
      "Please also refer to the documentation for alternative solver options:\n",
      "    https://scikit-learn.org/stable/modules/linear_model.html#logistic-regression\n",
      "  extra_warning_msg=_LOGISTIC_SOLVER_CONVERGENCE_MSG)\n"
     ]
    }
   ],
   "source": [
    "#-- aplicando o algoritmo\n",
    "logreg = LogisticRegression()\n",
    "logreg.fit(X_train, y_train)\n",
    "y_pred = logreg.predict(X_test)"
   ]
  },
  {
   "cell_type": "code",
   "execution_count": 82,
   "metadata": {},
   "outputs": [
    {
     "data": {
      "image/png": "[encoded data removed]",
      "text/plain": [
       "<Figure size 1584x1080 with 2 Axes>"
      ]
     },
     "metadata": {
      "needs_background": "light"
     },
     "output_type": "display_data"
    }
   ],
   "source": [
    "#-- plotando a matrix de confusão\n",
    "_ = plot_confusion_matrix(logreg, X_test, y_test, cmap=plt.cm.Blues)"
   ]
  },
  {
   "cell_type": "code",
   "execution_count": 83,
   "metadata": {},
   "outputs": [
    {
     "name": "stdout",
     "output_type": "stream",
     "text": [
      "              precision    recall  f1-score   support\n",
      "\n",
      "           0       0.87      0.92      0.89        96\n",
      "           1       0.43      0.32      0.36        19\n",
      "\n",
      "    accuracy                           0.82       115\n",
      "   macro avg       0.65      0.62      0.63       115\n",
      "weighted avg       0.80      0.82      0.81       115\n",
      "\n"
     ]
    }
   ],
   "source": [
    "#-- printando as novas métricas\n",
    "print(classification_report(y_test, y_pred))"
   ]
  },
  {
   "cell_type": "markdown",
   "metadata": {},
   "source": [
    "### Padronização (ou standardization) dos dados"
   ]
  },
  {
   "cell_type": "code",
   "execution_count": 84,
   "metadata": {},
   "outputs": [],
   "source": [
    "#-- copiando o dataset\n",
    "df_standardized = df_dummies.copy()"
   ]
  },
  {
   "cell_type": "code",
   "execution_count": 85,
   "metadata": {},
   "outputs": [
    {
     "data": {
      "text/html": [
       "<div>\n",
       "<style scoped>\n",
       "    .dataframe tbody tr th:only-of-type {\n",
       "        vertical-align: middle;\n",
       "    }\n",
       "\n",
       "    .dataframe tbody tr th {\n",
       "        vertical-align: top;\n",
       "    }\n",
       "\n",
       "    .dataframe thead th {\n",
       "        text-align: right;\n",
       "    }\n",
       "</style>\n",
       "<table border=\"1\" class=\"dataframe\">\n",
       "  <thead>\n",
       "    <tr style=\"text-align: right;\">\n",
       "      <th></th>\n",
       "      <th>123</th>\n",
       "      <th>124</th>\n",
       "      <th>125</th>\n",
       "      <th>126</th>\n",
       "      <th>127</th>\n",
       "    </tr>\n",
       "  </thead>\n",
       "  <tbody>\n",
       "    <tr>\n",
       "      <th>Tempo de Casa</th>\n",
       "      <td>7.997260</td>\n",
       "      <td>7.756164</td>\n",
       "      <td>6.175342</td>\n",
       "      <td>0.452055</td>\n",
       "      <td>7.671233</td>\n",
       "    </tr>\n",
       "    <tr>\n",
       "      <th>Idade Atual/ Desligamento</th>\n",
       "      <td>30.000000</td>\n",
       "      <td>38.000000</td>\n",
       "      <td>47.901370</td>\n",
       "      <td>31.402740</td>\n",
       "      <td>48.000000</td>\n",
       "    </tr>\n",
       "    <tr>\n",
       "      <th>Idade na Admissão</th>\n",
       "      <td>24.178082</td>\n",
       "      <td>32.249315</td>\n",
       "      <td>41.726027</td>\n",
       "      <td>30.950685</td>\n",
       "      <td>42.534247</td>\n",
       "    </tr>\n",
       "    <tr>\n",
       "      <th>2015/16 Goal Achievement</th>\n",
       "      <td>90.900000</td>\n",
       "      <td>100.000000</td>\n",
       "      <td>105.300000</td>\n",
       "      <td>109.700000</td>\n",
       "      <td>109.700000</td>\n",
       "    </tr>\n",
       "    <tr>\n",
       "      <th>2016/17 Goal Achievement</th>\n",
       "      <td>108.300000</td>\n",
       "      <td>102.300000</td>\n",
       "      <td>111.500000</td>\n",
       "      <td>114.600000</td>\n",
       "      <td>114.600000</td>\n",
       "    </tr>\n",
       "    <tr>\n",
       "      <th>PROMOVIDO</th>\n",
       "      <td>1.000000</td>\n",
       "      <td>1.000000</td>\n",
       "      <td>0.000000</td>\n",
       "      <td>0.000000</td>\n",
       "      <td>0.000000</td>\n",
       "    </tr>\n",
       "    <tr>\n",
       "      <th>Estado Civil_CASADO</th>\n",
       "      <td>0.000000</td>\n",
       "      <td>1.000000</td>\n",
       "      <td>1.000000</td>\n",
       "      <td>1.000000</td>\n",
       "      <td>1.000000</td>\n",
       "    </tr>\n",
       "    <tr>\n",
       "      <th>Estado Civil_SEPARADO</th>\n",
       "      <td>0.000000</td>\n",
       "      <td>0.000000</td>\n",
       "      <td>0.000000</td>\n",
       "      <td>0.000000</td>\n",
       "      <td>0.000000</td>\n",
       "    </tr>\n",
       "    <tr>\n",
       "      <th>Estado Civil_SOLTEIRO</th>\n",
       "      <td>1.000000</td>\n",
       "      <td>0.000000</td>\n",
       "      <td>0.000000</td>\n",
       "      <td>0.000000</td>\n",
       "      <td>0.000000</td>\n",
       "    </tr>\n",
       "    <tr>\n",
       "      <th>Educação_ENSINO FUNDAMENTAL COMPLETO</th>\n",
       "      <td>0.000000</td>\n",
       "      <td>0.000000</td>\n",
       "      <td>0.000000</td>\n",
       "      <td>0.000000</td>\n",
       "      <td>0.000000</td>\n",
       "    </tr>\n",
       "    <tr>\n",
       "      <th>Educação_ENSINO MÉDIO COMPLETO</th>\n",
       "      <td>0.000000</td>\n",
       "      <td>0.000000</td>\n",
       "      <td>0.000000</td>\n",
       "      <td>0.000000</td>\n",
       "      <td>0.000000</td>\n",
       "    </tr>\n",
       "    <tr>\n",
       "      <th>Educação_MESTRADO</th>\n",
       "      <td>0.000000</td>\n",
       "      <td>0.000000</td>\n",
       "      <td>0.000000</td>\n",
       "      <td>0.000000</td>\n",
       "      <td>0.000000</td>\n",
       "    </tr>\n",
       "    <tr>\n",
       "      <th>Educação_PÓS GRADUAÇÃO</th>\n",
       "      <td>0.000000</td>\n",
       "      <td>0.000000</td>\n",
       "      <td>1.000000</td>\n",
       "      <td>0.000000</td>\n",
       "      <td>0.000000</td>\n",
       "    </tr>\n",
       "    <tr>\n",
       "      <th>Educação_SUPERIOR COMPLETO</th>\n",
       "      <td>1.000000</td>\n",
       "      <td>1.000000</td>\n",
       "      <td>0.000000</td>\n",
       "      <td>1.000000</td>\n",
       "      <td>1.000000</td>\n",
       "    </tr>\n",
       "    <tr>\n",
       "      <th>Educação_TÉCNICO COMPLETO</th>\n",
       "      <td>0.000000</td>\n",
       "      <td>0.000000</td>\n",
       "      <td>0.000000</td>\n",
       "      <td>0.000000</td>\n",
       "      <td>0.000000</td>\n",
       "    </tr>\n",
       "    <tr>\n",
       "      <th>Sexo_H</th>\n",
       "      <td>0.000000</td>\n",
       "      <td>0.000000</td>\n",
       "      <td>1.000000</td>\n",
       "      <td>1.000000</td>\n",
       "      <td>0.000000</td>\n",
       "    </tr>\n",
       "    <tr>\n",
       "      <th>Sexo_M</th>\n",
       "      <td>1.000000</td>\n",
       "      <td>1.000000</td>\n",
       "      <td>0.000000</td>\n",
       "      <td>0.000000</td>\n",
       "      <td>1.000000</td>\n",
       "    </tr>\n",
       "  </tbody>\n",
       "</table>\n",
       "</div>"
      ],
      "text/plain": [
       "                                                     123         124  \\\n",
       "Tempo de Casa                                   7.997260    7.756164   \n",
       "Idade Atual/ Desligamento                      30.000000   38.000000   \n",
       "Idade na Admissão                              24.178082   32.249315   \n",
       "2015/16 Goal Achievement                       90.900000  100.000000   \n",
       "2016/17 Goal Achievement                      108.300000  102.300000   \n",
       "PROMOVIDO                                       1.000000    1.000000   \n",
       "Estado Civil_CASADO                             0.000000    1.000000   \n",
       "Estado Civil_SEPARADO                           0.000000    0.000000   \n",
       "Estado Civil_SOLTEIRO                           1.000000    0.000000   \n",
       "Educação_ENSINO FUNDAMENTAL COMPLETO            0.000000    0.000000   \n",
       "Educação_ENSINO MÉDIO COMPLETO                  0.000000    0.000000   \n",
       "Educação_MESTRADO                               0.000000    0.000000   \n",
       "Educação_PÓS GRADUAÇÃO                          0.000000    0.000000   \n",
       "Educação_SUPERIOR COMPLETO                      1.000000    1.000000   \n",
       "Educação_TÉCNICO COMPLETO                       0.000000    0.000000   \n",
       "Sexo_H                                          0.000000    0.000000   \n",
       "Sexo_M                                          1.000000    1.000000   \n",
       "\n",
       "                                                     125         126  \\\n",
       "Tempo de Casa                                   6.175342    0.452055   \n",
       "Idade Atual/ Desligamento                      47.901370   31.402740   \n",
       "Idade na Admissão                              41.726027   30.950685   \n",
       "2015/16 Goal Achievement                      105.300000  109.700000   \n",
       "2016/17 Goal Achievement                      111.500000  114.600000   \n",
       "PROMOVIDO                                       0.000000    0.000000   \n",
       "Estado Civil_CASADO                             1.000000    1.000000   \n",
       "Estado Civil_SEPARADO                           0.000000    0.000000   \n",
       "Estado Civil_SOLTEIRO                           0.000000    0.000000   \n",
       "Educação_ENSINO FUNDAMENTAL COMPLETO            0.000000    0.000000   \n",
       "Educação_ENSINO MÉDIO COMPLETO                  0.000000    0.000000   \n",
       "Educação_MESTRADO                               0.000000    0.000000   \n",
       "Educação_PÓS GRADUAÇÃO                          1.000000    0.000000   \n",
       "Educação_SUPERIOR COMPLETO                      0.000000    1.000000   \n",
       "Educação_TÉCNICO COMPLETO                       0.000000    0.000000   \n",
       "Sexo_H                                          1.000000    1.000000   \n",
       "Sexo_M                                          0.000000    0.000000   \n",
       "\n",
       "                                                     127  \n",
       "Tempo de Casa                                   7.671233  \n",
       "Idade Atual/ Desligamento                      48.000000  \n",
       "Idade na Admissão                              42.534247  \n",
       "2015/16 Goal Achievement                      109.700000  \n",
       "2016/17 Goal Achievement                      114.600000  \n",
       "PROMOVIDO                                       0.000000  \n",
       "Estado Civil_CASADO                             1.000000  \n",
       "Estado Civil_SEPARADO                           0.000000  \n",
       "Estado Civil_SOLTEIRO                           0.000000  \n",
       "Educação_ENSINO FUNDAMENTAL COMPLETO            0.000000  \n",
       "Educação_ENSINO MÉDIO COMPLETO                  0.000000  \n",
       "Educação_MESTRADO                               0.000000  \n",
       "Educação_PÓS GRADUAÇÃO                          0.000000  \n",
       "Educação_SUPERIOR COMPLETO                      1.000000  \n",
       "Educação_TÉCNICO COMPLETO                       0.000000  \n",
       "Sexo_H                                          0.000000  \n",
       "Sexo_M                                          1.000000  "
      ]
     },
     "execution_count": 85,
     "metadata": {},
     "output_type": "execute_result"
    }
   ],
   "source": [
    "df_standardized.head().T"
   ]
  },
  {
   "cell_type": "code",
   "execution_count": 86,
   "metadata": {},
   "outputs": [],
   "source": [
    "#-- preparando os ds de análise\n",
    "X = df_standardized.drop(columns=['PROMOVIDO'])\n",
    "y = df_standardized['PROMOVIDO']"
   ]
  },
  {
   "cell_type": "code",
   "execution_count": 87,
   "metadata": {},
   "outputs": [],
   "source": [
    "#-- standarizando os dados\n",
    "scaler = StandardScaler()\n",
    "scaled_data = scaler.fit_transform(X)\n",
    "\n",
    "X_scaled = pd.DataFrame(scaled_data, \n",
    "                        index=X.index,\n",
    "                        columns=X.columns)\n",
    "\n",
    "df_standardized = pd.concat([X_scaled, y], axis='columns')"
   ]
  },
  {
   "cell_type": "code",
   "execution_count": 88,
   "metadata": {},
   "outputs": [
    {
     "data": {
      "text/html": [
       "<div>\n",
       "<style scoped>\n",
       "    .dataframe tbody tr th:only-of-type {\n",
       "        vertical-align: middle;\n",
       "    }\n",
       "\n",
       "    .dataframe tbody tr th {\n",
       "        vertical-align: top;\n",
       "    }\n",
       "\n",
       "    .dataframe thead th {\n",
       "        text-align: right;\n",
       "    }\n",
       "</style>\n",
       "<table border=\"1\" class=\"dataframe\">\n",
       "  <thead>\n",
       "    <tr style=\"text-align: right;\">\n",
       "      <th></th>\n",
       "      <th>Tempo de Casa</th>\n",
       "      <th>Idade Atual/ Desligamento</th>\n",
       "      <th>Idade na Admissão</th>\n",
       "      <th>2015/16 Goal Achievement</th>\n",
       "      <th>2016/17 Goal Achievement</th>\n",
       "      <th>Estado Civil_CASADO</th>\n",
       "      <th>Estado Civil_SEPARADO</th>\n",
       "      <th>Estado Civil_SOLTEIRO</th>\n",
       "      <th>Educação_ENSINO FUNDAMENTAL COMPLETO</th>\n",
       "      <th>Educação_ENSINO MÉDIO COMPLETO</th>\n",
       "      <th>Educação_MESTRADO</th>\n",
       "      <th>Educação_PÓS GRADUAÇÃO</th>\n",
       "      <th>Educação_SUPERIOR COMPLETO</th>\n",
       "      <th>Educação_TÉCNICO COMPLETO</th>\n",
       "      <th>Sexo_H</th>\n",
       "      <th>Sexo_M</th>\n",
       "    </tr>\n",
       "  </thead>\n",
       "  <tbody>\n",
       "    <tr>\n",
       "      <th>123</th>\n",
       "      <td>2.282696</td>\n",
       "      <td>-0.632596</td>\n",
       "      <td>-1.081810</td>\n",
       "      <td>-1.510440</td>\n",
       "      <td>0.586449</td>\n",
       "      <td>-1.020716</td>\n",
       "      <td>-0.160315</td>\n",
       "      <td>1.073294</td>\n",
       "      <td>-0.047782</td>\n",
       "      <td>-0.265954</td>\n",
       "      <td>-0.107335</td>\n",
       "      <td>-0.370548</td>\n",
       "      <td>0.588749</td>\n",
       "      <td>-0.245737</td>\n",
       "      <td>-1.409395</td>\n",
       "      <td>1.409395</td>\n",
       "    </tr>\n",
       "    <tr>\n",
       "      <th>124</th>\n",
       "      <td>2.157822</td>\n",
       "      <td>0.314368</td>\n",
       "      <td>-0.098211</td>\n",
       "      <td>-0.395356</td>\n",
       "      <td>-0.190410</td>\n",
       "      <td>0.979705</td>\n",
       "      <td>-0.160315</td>\n",
       "      <td>-0.931711</td>\n",
       "      <td>-0.047782</td>\n",
       "      <td>-0.265954</td>\n",
       "      <td>-0.107335</td>\n",
       "      <td>-0.370548</td>\n",
       "      <td>0.588749</td>\n",
       "      <td>-0.245737</td>\n",
       "      <td>-1.409395</td>\n",
       "      <td>1.409395</td>\n",
       "    </tr>\n",
       "    <tr>\n",
       "      <th>125</th>\n",
       "      <td>1.339042</td>\n",
       "      <td>1.486399</td>\n",
       "      <td>1.056667</td>\n",
       "      <td>0.254089</td>\n",
       "      <td>1.000774</td>\n",
       "      <td>0.979705</td>\n",
       "      <td>-0.160315</td>\n",
       "      <td>-0.931711</td>\n",
       "      <td>-0.047782</td>\n",
       "      <td>-0.265954</td>\n",
       "      <td>-0.107335</td>\n",
       "      <td>2.698707</td>\n",
       "      <td>-1.698516</td>\n",
       "      <td>-0.245737</td>\n",
       "      <td>0.709524</td>\n",
       "      <td>-0.709524</td>\n",
       "    </tr>\n",
       "    <tr>\n",
       "      <th>126</th>\n",
       "      <td>-1.625308</td>\n",
       "      <td>-0.466553</td>\n",
       "      <td>-0.256468</td>\n",
       "      <td>0.793251</td>\n",
       "      <td>1.402151</td>\n",
       "      <td>0.979705</td>\n",
       "      <td>-0.160315</td>\n",
       "      <td>-0.931711</td>\n",
       "      <td>-0.047782</td>\n",
       "      <td>-0.265954</td>\n",
       "      <td>-0.107335</td>\n",
       "      <td>-0.370548</td>\n",
       "      <td>0.588749</td>\n",
       "      <td>-0.245737</td>\n",
       "      <td>0.709524</td>\n",
       "      <td>-0.709524</td>\n",
       "    </tr>\n",
       "    <tr>\n",
       "      <th>127</th>\n",
       "      <td>2.113832</td>\n",
       "      <td>1.498073</td>\n",
       "      <td>1.155161</td>\n",
       "      <td>0.793251</td>\n",
       "      <td>1.402151</td>\n",
       "      <td>0.979705</td>\n",
       "      <td>-0.160315</td>\n",
       "      <td>-0.931711</td>\n",
       "      <td>-0.047782</td>\n",
       "      <td>-0.265954</td>\n",
       "      <td>-0.107335</td>\n",
       "      <td>-0.370548</td>\n",
       "      <td>0.588749</td>\n",
       "      <td>-0.245737</td>\n",
       "      <td>-1.409395</td>\n",
       "      <td>1.409395</td>\n",
       "    </tr>\n",
       "  </tbody>\n",
       "</table>\n",
       "</div>"
      ],
      "text/plain": [
       "     Tempo de Casa  Idade Atual/ Desligamento  Idade na Admissão  \\\n",
       "123       2.282696                  -0.632596          -1.081810   \n",
       "124       2.157822                   0.314368          -0.098211   \n",
       "125       1.339042                   1.486399           1.056667   \n",
       "126      -1.625308                  -0.466553          -0.256468   \n",
       "127       2.113832                   1.498073           1.155161   \n",
       "\n",
       "     2015/16 Goal Achievement  2016/17 Goal Achievement  Estado Civil_CASADO  \\\n",
       "123                 -1.510440                  0.586449            -1.020716   \n",
       "124                 -0.395356                 -0.190410             0.979705   \n",
       "125                  0.254089                  1.000774             0.979705   \n",
       "126                  0.793251                  1.402151             0.979705   \n",
       "127                  0.793251                  1.402151             0.979705   \n",
       "\n",
       "     Estado Civil_SEPARADO  Estado Civil_SOLTEIRO  \\\n",
       "123              -0.160315               1.073294   \n",
       "124              -0.160315              -0.931711   \n",
       "125              -0.160315              -0.931711   \n",
       "126              -0.160315              -0.931711   \n",
       "127              -0.160315              -0.931711   \n",
       "\n",
       "     Educação_ENSINO FUNDAMENTAL COMPLETO          \\\n",
       "123                                     -0.047782   \n",
       "124                                     -0.047782   \n",
       "125                                     -0.047782   \n",
       "126                                     -0.047782   \n",
       "127                                     -0.047782   \n",
       "\n",
       "     Educação_ENSINO MÉDIO COMPLETO  \\\n",
       "123                       -0.265954   \n",
       "124                       -0.265954   \n",
       "125                       -0.265954   \n",
       "126                       -0.265954   \n",
       "127                       -0.265954   \n",
       "\n",
       "     Educação_MESTRADO                             \\\n",
       "123                                     -0.107335   \n",
       "124                                     -0.107335   \n",
       "125                                     -0.107335   \n",
       "126                                     -0.107335   \n",
       "127                                     -0.107335   \n",
       "\n",
       "     Educação_PÓS GRADUAÇÃO                        Educação_SUPERIOR COMPLETO  \\\n",
       "123                                     -0.370548                    0.588749   \n",
       "124                                     -0.370548                    0.588749   \n",
       "125                                      2.698707                   -1.698516   \n",
       "126                                     -0.370548                    0.588749   \n",
       "127                                     -0.370548                    0.588749   \n",
       "\n",
       "     Educação_TÉCNICO COMPLETO                       Sexo_H    Sexo_M  \n",
       "123                                     -0.245737 -1.409395  1.409395  \n",
       "124                                     -0.245737 -1.409395  1.409395  \n",
       "125                                     -0.245737  0.709524 -0.709524  \n",
       "126                                     -0.245737  0.709524 -0.709524  \n",
       "127                                     -0.245737 -1.409395  1.409395  "
      ]
     },
     "execution_count": 88,
     "metadata": {},
     "output_type": "execute_result"
    }
   ],
   "source": [
    "#-- pritando os dados do ds\n",
    "X_scaled.head()"
   ]
  },
  {
   "cell_type": "code",
   "execution_count": 89,
   "metadata": {},
   "outputs": [],
   "source": [
    "#-- separando as amostras de treino e teste\n",
    "X_train, X_test, y_train, y_test = train_test_split(X_scaled, y, test_size=0.3, \n",
    "                                                    random_state=0)"
   ]
  },
  {
   "cell_type": "code",
   "execution_count": 90,
   "metadata": {},
   "outputs": [],
   "source": [
    "#-- aplicando o algoritmo\n",
    "logreg = LogisticRegression()\n",
    "logreg.fit(X_train, y_train)\n",
    "y_pred_proba = logreg.predict_proba(X_test)[:, 1]"
   ]
  },
  {
   "cell_type": "code",
   "execution_count": 91,
   "metadata": {},
   "outputs": [
    {
     "name": "stdout",
     "output_type": "stream",
     "text": [
      "log loss (test): 0.447\n"
     ]
    }
   ],
   "source": [
    "#-- pritando a métrica de teste\n",
    "print(f'log loss (test): {log_loss(y_test, y_pred_proba):.3f}')"
   ]
  },
  {
   "cell_type": "code",
   "execution_count": 92,
   "metadata": {},
   "outputs": [
    {
     "data": {
      "image/png": "[encoded data removed]",
      "text/plain": [
       "<Figure size 1584x1080 with 1 Axes>"
      ]
     },
     "metadata": {
      "needs_background": "light"
     },
     "output_type": "display_data"
    }
   ],
   "source": [
    "#-- printando a ROC\n",
    "_= plot_roc_curve(logreg, X_test, y_test)"
   ]
  },
  {
   "cell_type": "markdown",
   "metadata": {},
   "source": [
    "### Seleção de features"
   ]
  },
  {
   "cell_type": "code",
   "execution_count": 93,
   "metadata": {},
   "outputs": [],
   "source": [
    "#-- parametrizando o algoritmo de seleção das variáveis\n",
    "selector = RFECV(logreg, step=1, scoring='roc_auc', n_jobs=-1)"
   ]
  },
  {
   "cell_type": "code",
   "execution_count": 94,
   "metadata": {},
   "outputs": [],
   "source": [
    "#-- aplicando o algoritmo\n",
    "_ = selector.fit(X_train, y_train)"
   ]
  },
  {
   "cell_type": "code",
   "execution_count": 95,
   "metadata": {},
   "outputs": [
    {
     "data": {
      "text/html": [
       "<div>\n",
       "<style scoped>\n",
       "    .dataframe tbody tr th:only-of-type {\n",
       "        vertical-align: middle;\n",
       "    }\n",
       "\n",
       "    .dataframe tbody tr th {\n",
       "        vertical-align: top;\n",
       "    }\n",
       "\n",
       "    .dataframe thead th {\n",
       "        text-align: right;\n",
       "    }\n",
       "</style>\n",
       "<table border=\"1\" class=\"dataframe\">\n",
       "  <thead>\n",
       "    <tr style=\"text-align: right;\">\n",
       "      <th></th>\n",
       "      <th>Tempo de Casa</th>\n",
       "      <th>Idade Atual/ Desligamento</th>\n",
       "      <th>Idade na Admissão</th>\n",
       "      <th>2015/16 Goal Achievement</th>\n",
       "      <th>2016/17 Goal Achievement</th>\n",
       "      <th>Estado Civil_CASADO</th>\n",
       "      <th>Estado Civil_SEPARADO</th>\n",
       "      <th>Estado Civil_SOLTEIRO</th>\n",
       "      <th>Educação_ENSINO FUNDAMENTAL COMPLETO</th>\n",
       "      <th>Educação_ENSINO MÉDIO COMPLETO</th>\n",
       "      <th>Educação_MESTRADO</th>\n",
       "      <th>Educação_PÓS GRADUAÇÃO</th>\n",
       "      <th>Educação_SUPERIOR COMPLETO</th>\n",
       "      <th>Educação_TÉCNICO COMPLETO</th>\n",
       "      <th>Sexo_H</th>\n",
       "      <th>Sexo_M</th>\n",
       "    </tr>\n",
       "  </thead>\n",
       "  <tbody>\n",
       "    <tr>\n",
       "      <th>support</th>\n",
       "      <td>True</td>\n",
       "      <td>True</td>\n",
       "      <td>False</td>\n",
       "      <td>True</td>\n",
       "      <td>True</td>\n",
       "      <td>False</td>\n",
       "      <td>False</td>\n",
       "      <td>False</td>\n",
       "      <td>False</td>\n",
       "      <td>True</td>\n",
       "      <td>False</td>\n",
       "      <td>False</td>\n",
       "      <td>False</td>\n",
       "      <td>False</td>\n",
       "      <td>False</td>\n",
       "      <td>False</td>\n",
       "    </tr>\n",
       "  </tbody>\n",
       "</table>\n",
       "</div>"
      ],
      "text/plain": [
       "         Tempo de Casa  Idade Atual/ Desligamento  Idade na Admissão  \\\n",
       "support           True                       True              False   \n",
       "\n",
       "         2015/16 Goal Achievement  2016/17 Goal Achievement  \\\n",
       "support                      True                      True   \n",
       "\n",
       "         Estado Civil_CASADO  Estado Civil_SEPARADO  Estado Civil_SOLTEIRO  \\\n",
       "support                False                  False                  False   \n",
       "\n",
       "         Educação_ENSINO FUNDAMENTAL COMPLETO          \\\n",
       "support                                         False   \n",
       "\n",
       "         Educação_ENSINO MÉDIO COMPLETO  \\\n",
       "support                            True   \n",
       "\n",
       "         Educação_MESTRADO                             \\\n",
       "support                                         False   \n",
       "\n",
       "         Educação_PÓS GRADUAÇÃO                        \\\n",
       "support                                         False   \n",
       "\n",
       "         Educação_SUPERIOR COMPLETO  \\\n",
       "support                       False   \n",
       "\n",
       "         Educação_TÉCNICO COMPLETO                     Sexo_H  Sexo_M  \n",
       "support                                         False   False   False  "
      ]
     },
     "execution_count": 95,
     "metadata": {},
     "output_type": "execute_result"
    }
   ],
   "source": [
    "#-- apresentando a seleção\n",
    "pd.DataFrame(data=selector.support_,\n",
    "             columns=['support'],\n",
    "             index=X.columns).T"
   ]
  },
  {
   "cell_type": "code",
   "execution_count": 96,
   "metadata": {},
   "outputs": [
    {
     "data": {
      "text/html": [
       "<div>\n",
       "<style scoped>\n",
       "    .dataframe tbody tr th:only-of-type {\n",
       "        vertical-align: middle;\n",
       "    }\n",
       "\n",
       "    .dataframe tbody tr th {\n",
       "        vertical-align: top;\n",
       "    }\n",
       "\n",
       "    .dataframe thead th {\n",
       "        text-align: right;\n",
       "    }\n",
       "</style>\n",
       "<table border=\"1\" class=\"dataframe\">\n",
       "  <thead>\n",
       "    <tr style=\"text-align: right;\">\n",
       "      <th></th>\n",
       "      <th>Tempo de Casa</th>\n",
       "      <th>Idade Atual/ Desligamento</th>\n",
       "      <th>Idade na Admissão</th>\n",
       "      <th>2015/16 Goal Achievement</th>\n",
       "      <th>2016/17 Goal Achievement</th>\n",
       "      <th>Estado Civil_CASADO</th>\n",
       "      <th>Estado Civil_SEPARADO</th>\n",
       "      <th>Estado Civil_SOLTEIRO</th>\n",
       "      <th>Educação_ENSINO FUNDAMENTAL COMPLETO</th>\n",
       "      <th>Educação_ENSINO MÉDIO COMPLETO</th>\n",
       "      <th>Educação_MESTRADO</th>\n",
       "      <th>Educação_PÓS GRADUAÇÃO</th>\n",
       "      <th>Educação_SUPERIOR COMPLETO</th>\n",
       "      <th>Educação_TÉCNICO COMPLETO</th>\n",
       "      <th>Sexo_H</th>\n",
       "      <th>Sexo_M</th>\n",
       "    </tr>\n",
       "  </thead>\n",
       "  <tbody>\n",
       "    <tr>\n",
       "      <th>support</th>\n",
       "      <td>1</td>\n",
       "      <td>1</td>\n",
       "      <td>4</td>\n",
       "      <td>1</td>\n",
       "      <td>1</td>\n",
       "      <td>2</td>\n",
       "      <td>5</td>\n",
       "      <td>6</td>\n",
       "      <td>8</td>\n",
       "      <td>1</td>\n",
       "      <td>10</td>\n",
       "      <td>9</td>\n",
       "      <td>7</td>\n",
       "      <td>3</td>\n",
       "      <td>12</td>\n",
       "      <td>11</td>\n",
       "    </tr>\n",
       "  </tbody>\n",
       "</table>\n",
       "</div>"
      ],
      "text/plain": [
       "         Tempo de Casa  Idade Atual/ Desligamento  Idade na Admissão  \\\n",
       "support              1                          1                  4   \n",
       "\n",
       "         2015/16 Goal Achievement  2016/17 Goal Achievement  \\\n",
       "support                         1                         1   \n",
       "\n",
       "         Estado Civil_CASADO  Estado Civil_SEPARADO  Estado Civil_SOLTEIRO  \\\n",
       "support                    2                      5                      6   \n",
       "\n",
       "         Educação_ENSINO FUNDAMENTAL COMPLETO          \\\n",
       "support                                             8   \n",
       "\n",
       "         Educação_ENSINO MÉDIO COMPLETO  \\\n",
       "support                               1   \n",
       "\n",
       "         Educação_MESTRADO                             \\\n",
       "support                                            10   \n",
       "\n",
       "         Educação_PÓS GRADUAÇÃO                        \\\n",
       "support                                             9   \n",
       "\n",
       "         Educação_SUPERIOR COMPLETO  \\\n",
       "support                           7   \n",
       "\n",
       "         Educação_TÉCNICO COMPLETO                     Sexo_H  Sexo_M  \n",
       "support                                             3      12      11  "
      ]
     },
     "execution_count": 96,
     "metadata": {},
     "output_type": "execute_result"
    }
   ],
   "source": [
    "#-- apresentando a seleção\n",
    "pd.DataFrame(data=selector.ranking_,\n",
    "             columns=['support'],\n",
    "             index=X.columns).T"
   ]
  },
  {
   "cell_type": "code",
   "execution_count": 97,
   "metadata": {},
   "outputs": [
    {
     "data": {
      "text/plain": [
       "(307, 5)"
      ]
     },
     "execution_count": 97,
     "metadata": {},
     "output_type": "execute_result"
    }
   ],
   "source": [
    "#-- criando um novo dataset\n",
    "df_selection = selector.transform(X_train)\n",
    "df_selection.shape"
   ]
  },
  {
   "cell_type": "code",
   "execution_count": 98,
   "metadata": {},
   "outputs": [],
   "source": [
    "#-- selecionando a coluna de resposta\n",
    "y_pred_proba = selector.predict_proba(X_test)[:, 1]"
   ]
  },
  {
   "cell_type": "code",
   "execution_count": 99,
   "metadata": {},
   "outputs": [
    {
     "name": "stdout",
     "output_type": "stream",
     "text": [
      "log loss (test): 0.468\n"
     ]
    }
   ],
   "source": [
    "#-- pritando a métrica de log loss\n",
    "print(f'log loss (test): {log_loss(y_test, y_pred_proba):.3f}')"
   ]
  },
  {
   "cell_type": "code",
   "execution_count": 100,
   "metadata": {},
   "outputs": [
    {
     "data": {
      "image/png": "[encoded data removed]",
      "text/plain": [
       "<Figure size 1584x1080 with 1 Axes>"
      ]
     },
     "metadata": {
      "needs_background": "light"
     },
     "output_type": "display_data"
    }
   ],
   "source": [
    "#-- printando a ROC\n",
    "_= plot_roc_curve(logreg, X_test, y_test)"
   ]
  },
  {
   "cell_type": "code",
   "execution_count": 101,
   "metadata": {},
   "outputs": [
    {
     "name": "stderr",
     "output_type": "stream",
     "text": [
      "C:\\ProgramData\\Anaconda3\\lib\\site-packages\\statsmodels\\stats\\outliers_influence.py:193: RuntimeWarning: divide by zero encountered in double_scalars\n",
      "  vif = 1. / (1. - r_squared_i)\n"
     ]
    }
   ],
   "source": [
    "#-- checking multcolinearity\n",
    "vif = pd.DataFrame()\n",
    "vif[\"VIF Factor\"] = [variance_inflation_factor(X.values, i) for i in range(X.shape[1])]\n",
    "vif[\"features\"] = X.columns"
   ]
  },
  {
   "cell_type": "code",
   "execution_count": 102,
   "metadata": {},
   "outputs": [
    {
     "data": {
      "text/html": [
       "<div>\n",
       "<style scoped>\n",
       "    .dataframe tbody tr th:only-of-type {\n",
       "        vertical-align: middle;\n",
       "    }\n",
       "\n",
       "    .dataframe tbody tr th {\n",
       "        vertical-align: top;\n",
       "    }\n",
       "\n",
       "    .dataframe thead th {\n",
       "        text-align: right;\n",
       "    }\n",
       "</style>\n",
       "<table border=\"1\" class=\"dataframe\">\n",
       "  <thead>\n",
       "    <tr style=\"text-align: right;\">\n",
       "      <th></th>\n",
       "      <th>VIF Factor</th>\n",
       "      <th>features</th>\n",
       "    </tr>\n",
       "  </thead>\n",
       "  <tbody>\n",
       "    <tr>\n",
       "      <th>3</th>\n",
       "      <td>1.2</td>\n",
       "      <td>2015/16 Goal Achievement</td>\n",
       "    </tr>\n",
       "    <tr>\n",
       "      <th>4</th>\n",
       "      <td>1.2</td>\n",
       "      <td>2016/17 Goal Achievement</td>\n",
       "    </tr>\n",
       "    <tr>\n",
       "      <th>0</th>\n",
       "      <td>5.0</td>\n",
       "      <td>Tempo de Casa</td>\n",
       "    </tr>\n",
       "    <tr>\n",
       "      <th>2</th>\n",
       "      <td>151.8</td>\n",
       "      <td>Idade na Admissão</td>\n",
       "    </tr>\n",
       "    <tr>\n",
       "      <th>1</th>\n",
       "      <td>160.9</td>\n",
       "      <td>Idade Atual/ Desligamento</td>\n",
       "    </tr>\n",
       "    <tr>\n",
       "      <th>5</th>\n",
       "      <td>inf</td>\n",
       "      <td>Estado Civil_CASADO</td>\n",
       "    </tr>\n",
       "    <tr>\n",
       "      <th>6</th>\n",
       "      <td>inf</td>\n",
       "      <td>Estado Civil_SEPARADO</td>\n",
       "    </tr>\n",
       "    <tr>\n",
       "      <th>7</th>\n",
       "      <td>inf</td>\n",
       "      <td>Estado Civil_SOLTEIRO</td>\n",
       "    </tr>\n",
       "    <tr>\n",
       "      <th>8</th>\n",
       "      <td>inf</td>\n",
       "      <td>Educação_ENSINO FUNDAMENTAL COMPLETO</td>\n",
       "    </tr>\n",
       "    <tr>\n",
       "      <th>9</th>\n",
       "      <td>inf</td>\n",
       "      <td>Educação_ENSINO MÉDIO COMPLETO</td>\n",
       "    </tr>\n",
       "    <tr>\n",
       "      <th>10</th>\n",
       "      <td>inf</td>\n",
       "      <td>Educação_MESTRADO</td>\n",
       "    </tr>\n",
       "    <tr>\n",
       "      <th>11</th>\n",
       "      <td>inf</td>\n",
       "      <td>Educação_PÓS GRADUAÇÃO</td>\n",
       "    </tr>\n",
       "    <tr>\n",
       "      <th>12</th>\n",
       "      <td>inf</td>\n",
       "      <td>Educação_SUPERIOR COMPLETO</td>\n",
       "    </tr>\n",
       "    <tr>\n",
       "      <th>13</th>\n",
       "      <td>inf</td>\n",
       "      <td>Educação_TÉCNICO COMPLETO</td>\n",
       "    </tr>\n",
       "    <tr>\n",
       "      <th>14</th>\n",
       "      <td>inf</td>\n",
       "      <td>Sexo_H</td>\n",
       "    </tr>\n",
       "    <tr>\n",
       "      <th>15</th>\n",
       "      <td>inf</td>\n",
       "      <td>Sexo_M</td>\n",
       "    </tr>\n",
       "  </tbody>\n",
       "</table>\n",
       "</div>"
      ],
      "text/plain": [
       "    VIF Factor                                      features\n",
       "3          1.2                      2015/16 Goal Achievement\n",
       "4          1.2                      2016/17 Goal Achievement\n",
       "0          5.0                                 Tempo de Casa\n",
       "2        151.8                             Idade na Admissão\n",
       "1        160.9                     Idade Atual/ Desligamento\n",
       "5          inf                           Estado Civil_CASADO\n",
       "6          inf                         Estado Civil_SEPARADO\n",
       "7          inf                         Estado Civil_SOLTEIRO\n",
       "8          inf  Educação_ENSINO FUNDAMENTAL COMPLETO        \n",
       "9          inf                Educação_ENSINO MÉDIO COMPLETO\n",
       "10         inf  Educação_MESTRADO                           \n",
       "11         inf  Educação_PÓS GRADUAÇÃO                      \n",
       "12         inf                    Educação_SUPERIOR COMPLETO\n",
       "13         inf  Educação_TÉCNICO COMPLETO                   \n",
       "14         inf                                        Sexo_H\n",
       "15         inf                                        Sexo_M"
      ]
     },
     "execution_count": 102,
     "metadata": {},
     "output_type": "execute_result"
    }
   ],
   "source": [
    "#-- sorting data by multicolineatiry\n",
    "vif.round(1).sort_values(['VIF Factor'], ascending=True)"
   ]
  },
  {
   "cell_type": "markdown",
   "metadata": {},
   "source": [
    "### Balanceamento"
   ]
  },
  {
   "cell_type": "code",
   "execution_count": 103,
   "metadata": {},
   "outputs": [
    {
     "data": {
      "text/plain": [
       "0    350\n",
       "1     89\n",
       "Name: PROMOVIDO, dtype: int64"
      ]
     },
     "execution_count": 103,
     "metadata": {},
     "output_type": "execute_result"
    }
   ],
   "source": [
    "#-- o moodelo está balanceado?\n",
    "pd.DataFrame(y)['PROMOVIDO'].value_counts()"
   ]
  },
  {
   "cell_type": "code",
   "execution_count": 105,
   "metadata": {},
   "outputs": [
    {
     "name": "stdout",
     "output_type": "stream",
     "text": [
      "tamanho do dataset  488\n",
      "não promovidos 244\n",
      "promovidos 244\n",
      "proporção de não promovido  0.5\n",
      "proporção de promovido  0.5\n"
     ]
    }
   ],
   "source": [
    "#-- criando o balanceamento\n",
    "os = SMOTE(random_state=0)\n",
    "X_train, X_test, y_train, y_test = train_test_split(X_scaled, y, test_size=0.3, random_state=0)\n",
    "columns = X_train.columns\n",
    "os_data_X,os_data_y=os.fit_sample(X_train, y_train)\n",
    "os_data_X = pd.DataFrame(data=os_data_X,columns=columns)\n",
    "os_data_y = pd.DataFrame(data=os_data_y)\n",
    "\n",
    "#-- checando\n",
    "print(\"tamanho do dataset \",len(os_data_X))\n",
    "print(\"não promovidos\",len(os_data_y[os_data_y['PROMOVIDO']==0]))\n",
    "print(\"promovidos\",len(os_data_y[os_data_y['PROMOVIDO']==1]))\n",
    "print(\"proporção de não promovido \",len(os_data_y[os_data_y['PROMOVIDO']==0])/len(os_data_X))\n",
    "print(\"proporção de promovido \",len(os_data_y[os_data_y['PROMOVIDO']==1])/len(os_data_X))"
   ]
  },
  {
   "cell_type": "code",
   "execution_count": 106,
   "metadata": {
    "ExecuteTime": {
     "end_time": "2019-01-28T00:54:53.293496Z",
     "start_time": "2019-01-28T00:54:53.287499Z"
    }
   },
   "outputs": [],
   "source": [
    "logreg_up = LogisticRegression()"
   ]
  },
  {
   "cell_type": "code",
   "execution_count": 107,
   "metadata": {
    "ExecuteTime": {
     "end_time": "2019-01-28T00:55:07.337611Z",
     "start_time": "2019-01-28T00:54:56.145321Z"
    }
   },
   "outputs": [
    {
     "name": "stderr",
     "output_type": "stream",
     "text": [
      "C:\\ProgramData\\Anaconda3\\lib\\site-packages\\sklearn\\utils\\validation.py:760: DataConversionWarning: A column-vector y was passed when a 1d array was expected. Please change the shape of y to (n_samples, ), for example using ravel().\n",
      "  y = column_or_1d(y, warn=True)\n"
     ]
    }
   ],
   "source": [
    "logreg_up.fit(os_data_X, os_data_y)\n",
    "y_pred = logreg_up.predict(X_test)"
   ]
  },
  {
   "cell_type": "code",
   "execution_count": 108,
   "metadata": {
    "ExecuteTime": {
     "end_time": "2019-01-28T00:55:10.298418Z",
     "start_time": "2019-01-28T00:55:10.289423Z"
    }
   },
   "outputs": [
    {
     "name": "stdout",
     "output_type": "stream",
     "text": [
      "accuracy (test): 75.8%\n"
     ]
    }
   ],
   "source": [
    "accuracy_test = accuracy_score(y_test, y_pred)\n",
    "print(f'accuracy (test): {accuracy_test*100:.1f}%')"
   ]
  },
  {
   "cell_type": "code",
   "execution_count": 109,
   "metadata": {
    "ExecuteTime": {
     "end_time": "2019-01-28T00:55:13.370333Z",
     "start_time": "2019-01-28T00:55:13.350344Z"
    }
   },
   "outputs": [
    {
     "data": {
      "text/plain": [
       "array([[84, 22],\n",
       "       [10, 16]], dtype=int64)"
      ]
     },
     "execution_count": 109,
     "metadata": {},
     "output_type": "execute_result"
    }
   ],
   "source": [
    "confusion_matrix(y_test, y_pred)"
   ]
  },
  {
   "cell_type": "code",
   "execution_count": 110,
   "metadata": {
    "ExecuteTime": {
     "end_time": "2019-01-28T00:55:17.124337Z",
     "start_time": "2019-01-28T00:55:16.966594Z"
    }
   },
   "outputs": [
    {
     "data": {
      "image/png": "[encoded data removed]",
      "text/plain": [
       "<Figure size 1584x1080 with 2 Axes>"
      ]
     },
     "metadata": {
      "needs_background": "light"
     },
     "output_type": "display_data"
    }
   ],
   "source": [
    "#-- printando a matriz de confusão\n",
    "_ = plot_confusion_matrix(logreg_up, X_test, y_test, cmap=plt.cm.Blues)"
   ]
  },
  {
   "cell_type": "code",
   "execution_count": 111,
   "metadata": {},
   "outputs": [
    {
     "name": "stdout",
     "output_type": "stream",
     "text": [
      "              precision    recall  f1-score   support\n",
      "\n",
      "           0       0.89      0.79      0.84       106\n",
      "           1       0.42      0.62      0.50        26\n",
      "\n",
      "    accuracy                           0.76       132\n",
      "   macro avg       0.66      0.70      0.67       132\n",
      "weighted avg       0.80      0.76      0.77       132\n",
      "\n"
     ]
    }
   ],
   "source": [
    "#-- printando as novas métricas\n",
    "print(classification_report(y_test, y_pred))"
   ]
  },
  {
   "cell_type": "markdown",
   "metadata": {},
   "source": [
    "## Salvando o modelo"
   ]
  },
  {
   "cell_type": "markdown",
   "metadata": {},
   "source": [
    "Vamos salvar o modelo para conseguirmos carregá-lo em análises futuras pós-aula.\n",
    "Para detalhes, veja a documentação do scikit-learn: [Model Persistence](http://scikit-learn.org/stable/modules/model_persistence.html)."
   ]
  },
  {
   "cell_type": "code",
   "execution_count": 112,
   "metadata": {},
   "outputs": [],
   "source": [
    "_ = joblib.dump(logreg, '../models/logreg.pkl') "
   ]
  },
  {
   "cell_type": "markdown",
   "metadata": {},
   "source": [
    "Vamos também salvar o dataset transformado, assim como foi utilizado pelo modelo final. Para facilitar a interpretação do modelo, salvaremos também uma versão para \"display\", que é sua versão antes da padronização dos dados."
   ]
  },
  {
   "cell_type": "code",
   "execution_count": 113,
   "metadata": {},
   "outputs": [],
   "source": [
    "df_standardized.to_csv('../data/Base Analytics Processed.csv', index=False)"
   ]
  },
  {
   "cell_type": "code",
   "execution_count": null,
   "metadata": {},
   "outputs": [],
   "source": []
  }
 ],
 "metadata": {
  "kernelspec": {
   "display_name": "Python 3",
   "language": "python",
   "name": "python3"
  },
  "language_info": {
   "codemirror_mode": {
    "name": "ipython",
    "version": 3
   },
   "file_extension": ".py",
   "mimetype": "text/x-python",
   "name": "python",
   "nbconvert_exporter": "python",
   "pygments_lexer": "ipython3",
   "version": "3.7.6"
  }
 },
 "nbformat": 4,
 "nbformat_minor": 4
}
